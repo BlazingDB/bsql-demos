{
  "nbformat": 4,
  "nbformat_minor": 0,
  "metadata": {
    "colab": {
      "name": "BlazingSQL_vs_PySpark_Netflow.ipynb",
      "provenance": [],
      "collapsed_sections": [],
      "toc_visible": true
    },
    "kernelspec": {
      "name": "python3",
      "display_name": "Python 3"
    },
    "accelerator": "GPU"
  },
  "cells": [
    {
      "cell_type": "markdown",
      "metadata": {
        "id": "d0hJ4z8rBOFC",
        "colab_type": "text"
      },
      "source": [
        "#BlazingSQL and Apache Spark on Google Colab\n",
        "##Analyzing Over 20M Records of Netflow Data\n",
        "\n",
        "Below we have one of our popular workloads running with [BlazingSQL + RAPIDS AI](https://blazingdb.com) and then running the entire ETL phase again, only this time with Apache Spark + PySpark.\n",
        "\n",
        "We think Google Colab is incredibly exciting. It solves one of the biggest painpoints developers (novice and pro alike) by giving a fully operational Python development environment right inside Google Drive!\n",
        "\n",
        "Now you can install BlazingSQL + RAPIDS AI, the open GPU data science framework, with one install command. Query millions of rows of data for free, architect Graph, ML, AI, and so much more."
      ]
    },
    {
      "cell_type": "markdown",
      "metadata": {
        "id": "kJyD4oSbugE0",
        "colab_type": "text"
      },
      "source": [
        "##BlazingSQL + RAPIDS AI"
      ]
    },
    {
      "cell_type": "code",
      "metadata": {
        "id": "QzVzojZ7tc9a",
        "colab_type": "code",
        "outputId": "1c412c49-59fd-482b-83dc-1764af8fda12",
        "colab": {
          "base_uri": "https://localhost:8080/",
          "height": 35
        }
      },
      "source": [
        "%%writefile bsql-colab.sh\n",
        "\n",
        "#!/bin/bash\n",
        "\n",
        "\n",
        "set -eu\n",
        "\n",
        "wget -nc https://github.com/rapidsai/notebooks-extended/raw/master/utils/env-check.py\n",
        "echo \"Checking for GPU type:\"\n",
        "python env-check.py\n",
        "\n",
        "if [ ! -f Miniconda3-4.5.4-Linux-x86_64.sh ]; then\n",
        "    echo \"Removing conflicting packages, will replace with RAPIDS compatible versions\"\n",
        "    # remove existing xgboost and dask installs\n",
        "    pip uninstall -y xgboost dask distributed\n",
        "\n",
        "    # intall miniconda\n",
        "    echo \"Installing conda\"\n",
        "    wget https://repo.continuum.io/miniconda/Miniconda3-4.5.4-Linux-x86_64.sh\n",
        "    chmod +x Miniconda3-4.5.4-Linux-x86_64.sh\n",
        "    bash ./Miniconda3-4.5.4-Linux-x86_64.sh -b -f -p /usr/local\n",
        "    \n",
        "    echo \"Installing RAPIDS packages\"\n",
        "    echo \"Please standby, this will take a few minutes...\"\n",
        "    # install RAPIDS packages\n",
        "    conda install -y --prefix /usr/local \\\n",
        "      -c rapidsai/label/xgboost -c rapidsai -c nvidia -c conda-forge \\\n",
        "      python=3.6 cudatoolkit=10.0 \\\n",
        "      cudf=0.9.* cuml=0.9.* cugraph=0.9.* gcsfs pynvml \\\n",
        "      dask-cudf=0.9.* \\\n",
        "      rapidsai/label/xgboost::xgboost=>0.9\n",
        "      \n",
        "    echo \"Copying shared object files to /usr/lib\"\n",
        "    # copy .so files to /usr/lib, where Colab's Python looks for libs\n",
        "    cp /usr/local/lib/libcudf.so /usr/lib/libcudf.so\n",
        "    cp /usr/local/lib/librmm.so /usr/lib/librmm.so\n",
        "    cp /usr/local/lib/libxgboost.so /usr/lib/libxgboost.so\n",
        "    cp /usr/local/lib/libnccl.so /usr/lib/libnccl.so\n",
        "    conda install -y --prefix /usr/local -c rapidsai -c nvidia -c conda-forge -c felipeblazing/label/cuda10.0 python=3.6 cudatoolkit=10.0 blazingsql-ral blazingsql-orchestrator blazingsql-calcite blazingsql-python\n",
        "    pip install flatbuffers\n",
        "fi\n",
        "echo \"\"\n",
        "echo \"*********************************************\"\n",
        "echo \"Your Google Colab instance is RAPIDS ready!\"\n",
        "echo \"*********************************************\"\n",
        "\n",
        "\n",
        "\n",
        "echo \"\"\n",
        "echo \"*********************************************\"\n",
        "echo \"Your Google Colab instance is BlazingSQL ready!\"\n",
        "echo \"*********************************************\"\n"
      ],
      "execution_count": 0,
      "outputs": [
        {
          "output_type": "stream",
          "text": [
            "Overwriting bsql-colab.sh\n"
          ],
          "name": "stdout"
        }
      ]
    },
    {
      "cell_type": "code",
      "metadata": {
        "id": "btG1BbSA1nLu",
        "colab_type": "code",
        "outputId": "2bce70f9-8d92-4a16-baa2-2b190d785142",
        "colab": {
          "base_uri": "https://localhost:8080/",
          "height": 1000
        }
      },
      "source": [
        "%%time\n",
        "!bash bsql-colab.sh"
      ],
      "execution_count": 0,
      "outputs": [
        {
          "output_type": "stream",
          "text": [
            "--2019-08-23 23:02:04--  https://github.com/rapidsai/notebooks-extended/raw/master/utils/env-check.py\n",
            "Resolving github.com (github.com)... 192.30.253.112\n",
            "Connecting to github.com (github.com)|192.30.253.112|:443... connected.\n",
            "HTTP request sent, awaiting response... 301 Moved Permanently\n",
            "Location: https://github.com/rapidsai/notebooks-contrib/raw/master/utils/env-check.py [following]\n",
            "--2019-08-23 23:02:04--  https://github.com/rapidsai/notebooks-contrib/raw/master/utils/env-check.py\n",
            "Reusing existing connection to github.com:443.\n",
            "HTTP request sent, awaiting response... 302 Found\n",
            "Location: https://raw.githubusercontent.com/rapidsai/notebooks-contrib/master/utils/env-check.py [following]\n",
            "--2019-08-23 23:02:04--  https://raw.githubusercontent.com/rapidsai/notebooks-contrib/master/utils/env-check.py\n",
            "Resolving raw.githubusercontent.com (raw.githubusercontent.com)... 151.101.0.133, 151.101.64.133, 151.101.128.133, ...\n",
            "Connecting to raw.githubusercontent.com (raw.githubusercontent.com)|151.101.0.133|:443... connected.\n",
            "HTTP request sent, awaiting response... 200 OK\n",
            "Length: 783 [text/plain]\n",
            "Saving to: ‘env-check.py’\n",
            "\n",
            "env-check.py        100%[===================>]     783  --.-KB/s    in 0s      \n",
            "\n",
            "2019-08-23 23:02:04 (184 MB/s) - ‘env-check.py’ saved [783/783]\n",
            "\n",
            "Checking for GPU type:\n",
            "*********************************************\n",
            "Woo! Your instance has the right kind of GPU!\n",
            "*********************************************\n",
            "\n",
            "Removing conflicting packages, will replace with RAPIDS compatible versions\n",
            "Uninstalling xgboost-0.90:\n",
            "  Successfully uninstalled xgboost-0.90\n",
            "Uninstalling dask-1.1.5:\n",
            "  Successfully uninstalled dask-1.1.5\n",
            "Uninstalling distributed-1.25.3:\n",
            "  Successfully uninstalled distributed-1.25.3\n",
            "Installing conda\n",
            "--2019-08-23 23:02:08--  https://repo.continuum.io/miniconda/Miniconda3-4.5.4-Linux-x86_64.sh\n",
            "Resolving repo.continuum.io (repo.continuum.io)... 104.18.201.79, 104.18.200.79, 2606:4700::6812:c84f, ...\n",
            "Connecting to repo.continuum.io (repo.continuum.io)|104.18.201.79|:443... connected.\n",
            "HTTP request sent, awaiting response... 200 OK\n",
            "Length: 58468498 (56M) [application/x-sh]\n",
            "Saving to: ‘Miniconda3-4.5.4-Linux-x86_64.sh’\n",
            "\n",
            "Miniconda3-4.5.4-Li 100%[===================>]  55.76M  88.6MB/s    in 0.6s    \n",
            "\n",
            "2019-08-23 23:02:08 (88.6 MB/s) - ‘Miniconda3-4.5.4-Linux-x86_64.sh’ saved [58468498/58468498]\n",
            "\n",
            "PREFIX=/usr/local\n",
            "installing: python-3.6.5-hc3d631a_2 ...\n",
            "Python 3.6.5 :: Anaconda, Inc.\n",
            "installing: ca-certificates-2018.03.07-0 ...\n",
            "installing: conda-env-2.6.0-h36134e3_1 ...\n",
            "installing: libgcc-ng-7.2.0-hdf63c60_3 ...\n",
            "installing: libstdcxx-ng-7.2.0-hdf63c60_3 ...\n",
            "installing: libffi-3.2.1-hd88cf55_4 ...\n",
            "installing: ncurses-6.1-hf484d3e_0 ...\n",
            "installing: openssl-1.0.2o-h20670df_0 ...\n",
            "installing: tk-8.6.7-hc745277_3 ...\n",
            "installing: xz-5.2.4-h14c3975_4 ...\n",
            "installing: yaml-0.1.7-had09818_2 ...\n",
            "installing: zlib-1.2.11-ha838bed_2 ...\n",
            "installing: libedit-3.1.20170329-h6b74fdf_2 ...\n",
            "installing: readline-7.0-ha6073c6_4 ...\n",
            "installing: sqlite-3.23.1-he433501_0 ...\n",
            "installing: asn1crypto-0.24.0-py36_0 ...\n",
            "installing: certifi-2018.4.16-py36_0 ...\n",
            "installing: chardet-3.0.4-py36h0f667ec_1 ...\n",
            "installing: idna-2.6-py36h82fb2a8_1 ...\n",
            "installing: pycosat-0.6.3-py36h0a5515d_0 ...\n",
            "installing: pycparser-2.18-py36hf9f622e_1 ...\n",
            "installing: pysocks-1.6.8-py36_0 ...\n",
            "installing: ruamel_yaml-0.15.37-py36h14c3975_2 ...\n",
            "installing: six-1.11.0-py36h372c433_1 ...\n",
            "installing: cffi-1.11.5-py36h9745a5d_0 ...\n",
            "installing: setuptools-39.2.0-py36_0 ...\n",
            "installing: cryptography-2.2.2-py36h14c3975_0 ...\n",
            "installing: wheel-0.31.1-py36_0 ...\n",
            "installing: pip-10.0.1-py36_0 ...\n",
            "installing: pyopenssl-18.0.0-py36_0 ...\n",
            "installing: urllib3-1.22-py36hbe7ace6_0 ...\n",
            "installing: requests-2.18.4-py36he2e5f8d_1 ...\n",
            "installing: conda-4.5.4-py36_0 ...\n",
            "installation finished.\n",
            "WARNING:\n",
            "    You currently have a PYTHONPATH environment variable set. This may cause\n",
            "    unexpected behavior when running the Python interpreter in Miniconda3.\n",
            "    For best results, please verify that your PYTHONPATH only points to\n",
            "    directories of packages that are compatible with the Python interpreter\n",
            "    in Miniconda3: /usr/local\n",
            "Installing RAPIDS packages\n",
            "Please standby, this will take a few minutes...\n",
            "\n",
            "\n",
            "==> WARNING: A newer version of conda exists. <==\n",
            "  current version: 4.5.4\n",
            "  latest version: 4.7.11\n",
            "\n",
            "Please update conda by running\n",
            "\n",
            "    $ conda update -n base conda\n",
            "\n",
            "\n",
            "sqlite-3.29.0        |  2.0 MB | : 100% 1.0/1 [00:00<00:00,  3.04it/s]               \n",
            "cuml-0.9.1           |  5.9 MB | : 100% 1.0/1 [00:01<00:00,  1.49s/it]               \n",
            "toolz-0.10.0         |   46 KB | : 100% 1.0/1 [00:00<00:00, 16.08it/s]\n",
            "c-ares-1.15.0        |  100 KB | : 100% 1.0/1 [00:00<00:00, 13.85it/s]\n",
            "cffi-1.12.3          |  218 KB | : 100% 1.0/1 [00:00<00:00, 11.59it/s]\n",
            "fastavro-0.22.3      |  408 KB | : 100% 1.0/1 [00:00<00:00,  8.97it/s]\n",
            "pillow-6.1.0         |  634 KB | : 100% 1.0/1 [00:00<00:00,  5.53it/s]               \n",
            "pytz-2019.2          |  228 KB | : 100% 1.0/1 [00:00<00:00,  4.80it/s]              \n",
            "thrift-cpp-0.12.0    |  2.4 MB | : 100% 1.0/1 [00:00<00:00,  2.11it/s]               \n",
            "grpc-cpp-1.23.0      |  4.5 MB | : 100% 1.0/1 [00:00<00:00,  1.08it/s]               \n",
            "requests-oauthlib-1. |   19 KB | : 100% 1.0/1 [00:00<00:00, 25.90it/s]\n",
            "readline-8.0         |  441 KB | : 100% 1.0/1 [00:00<00:00,  8.89it/s]\n",
            "requests-2.22.0      |   84 KB | : 100% 1.0/1 [00:00<00:00, 15.26it/s]\n",
            "libcudf-0.9.0        | 29.1 MB | : 100% 1.0/1 [00:05<00:00,  5.77s/it]               \n",
            "bzip2-1.0.8          |  396 KB | : 100% 1.0/1 [00:00<00:00,  9.12it/s]\n",
            "openssl-1.1.1c       |  2.1 MB | : 100% 1.0/1 [00:00<00:00,  3.03it/s]              \n",
            "boost-cpp-1.70.0     | 21.1 MB | : 100% 1.0/1 [00:08<00:00,  8.32s/it]               \n",
            "pynvml-8.0.2         |   30 KB | : 100% 1.0/1 [00:00<00:00, 19.83it/s]\n",
            "libnvstrings-0.9.0   | 16.8 MB | : 100% 1.0/1 [00:05<00:00,  5.25s/it]               \n",
            "lz4-c-1.8.3          |  187 KB | : 100% 1.0/1 [00:00<00:00, 13.98it/s]\n",
            "tornado-6.0.3        |  636 KB | : 100% 1.0/1 [00:00<00:00,  4.81it/s]               \n",
            "distributed-2.3.2    |  370 KB | : 100% 1.0/1 [00:00<00:00,  5.68it/s]               \n",
            "pyarrow-0.14.1       |  2.8 MB | : 100% 1.0/1 [00:00<00:00,  1.22it/s]               \n",
            "arrow-cpp-0.14.1     | 17.3 MB | : 100% 1.0/1 [00:02<00:00,  2.78s/it]              \n",
            "numpy-1.17.0         |  5.2 MB | : 100% 1.0/1 [00:01<00:00,  1.16s/it]               \n",
            "yaml-0.1.7           |   78 KB | : 100% 1.0/1 [00:00<00:00, 20.83it/s]\n",
            "sortedcontainers-2.1 |   25 KB | : 100% 1.0/1 [00:00<00:00, 26.64it/s]\n",
            "zstd-1.4.0           |  928 KB | : 100% 1.0/1 [00:00<00:00,  5.60it/s]               \n",
            "dlpack-0.2           |   12 KB | : 100% 1.0/1 [00:00<00:00, 29.11it/s]\n",
            "urllib3-1.25.3       |  187 KB | : 100% 1.0/1 [00:00<00:00,  9.68it/s]\n",
            "cudf-0.9.0           |  4.8 MB | : 100% 1.0/1 [00:01<00:00,  1.47s/it]               \n",
            "py-xgboost-0.90.rapi |   87 KB | : 100% 1.0/1 [00:00<00:00,  5.01it/s]                \n",
            "pyjwt-1.7.1          |   17 KB | : 100% 1.0/1 [00:00<00:00, 21.50it/s]\n",
            "locket-0.2.0         |    6 KB | : 100% 1.0/1 [00:00<00:00, 19.46it/s]\n",
            "wheel-0.33.6         |   35 KB | : 100% 1.0/1 [00:00<00:00, 21.14it/s]\n",
            "dask-2.3.0           |    4 KB | : 100% 1.0/1 [00:00<00:00, 29.72it/s]\n",
            "pyopenssl-19.0.0     |   81 KB | : 100% 1.0/1 [00:00<00:00, 18.50it/s]\n",
            "numba-0.45.1         |  3.1 MB | : 100% 1.0/1 [00:00<00:00,  1.09it/s]               \n",
            "brotli-1.0.7         |  1.0 MB | : 100% 1.0/1 [00:00<00:00,  5.73it/s]               \n",
            "snappy-1.1.7         |   39 KB | : 100% 1.0/1 [00:00<00:00, 22.96it/s]\n",
            "scikit-learn-0.21.3  |  6.7 MB | : 100% 1.0/1 [00:01<00:00,  1.39s/it]               \n",
            "freetype-2.10.0      |  884 KB | : 100% 1.0/1 [00:00<00:00,  4.60it/s]               \n",
            "pyyaml-5.1.2         |  184 KB | : 100% 1.0/1 [00:00<00:00, 13.34it/s]\n",
            "libcuml-0.9.1        | 29.7 MB | : 100% 1.0/1 [00:06<00:00,  6.52s/it]               \n",
            "libffi-3.2.1         |   46 KB | : 100% 1.0/1 [00:00<00:00, 19.42it/s]\n",
            "libcugraph-0.9.0     | 11.3 MB | : 100% 1.0/1 [00:02<00:00,  2.31s/it]               \n",
            "double-conversion-3. |   85 KB | : 100% 1.0/1 [00:00<00:00, 20.03it/s]\n",
            "llvmlite-0.29.0      | 19.9 MB | : 100% 1.0/1 [00:03<00:00,  3.05s/it]               \n",
            "parquet-cpp-1.5.1    |    3 KB | : 100% 1.0/1 [00:00<00:00, 26.03it/s]\n",
            "msgpack-python-0.6.1 |   89 KB | : 100% 1.0/1 [00:00<00:00, 17.11it/s]\n",
            "icu-64.2             | 12.6 MB | : 100% 1.0/1 [00:01<00:00,  1.78s/it]               \n",
            "jinja2-2.10.1        |   91 KB | : 100% 1.0/1 [00:00<00:00, 17.11it/s]\n",
            "google-auth-1.6.3    |   45 KB | : 100% 1.0/1 [00:00<00:00, 18.48it/s]\n",
            "libpng-1.6.37        |  343 KB | : 100% 1.0/1 [00:00<00:00, 11.15it/s]\n",
            "six-1.12.0           |   22 KB | : 100% 1.0/1 [00:00<00:00, 25.52it/s]\n",
            "oauthlib-3.0.1       |   82 KB | : 100% 1.0/1 [00:00<00:00, 14.43it/s]\n",
            "tk-8.6.9             |  3.2 MB | : 100% 1.0/1 [00:00<00:00,  1.58it/s]               \n",
            "libcumlprims-0.9.0   |  3.9 MB | : 100% 1.0/1 [00:01<00:00,  1.56s/it]               \n",
            "pyasn1-0.4.6         |   52 KB | : 100% 1.0/1 [00:00<00:00, 17.38it/s]\n",
            "cryptography-2.7     |  607 KB | : 100% 1.0/1 [00:00<00:00,  4.86it/s]               \n",
            "pycparser-2.19       |  173 KB | : 100% 1.0/1 [00:00<00:00, 12.65it/s]\n",
            "packaging-19.0       |   23 KB | : 100% 1.0/1 [00:00<00:00, 24.10it/s]\n",
            "cugraph-0.9.0        |  1.3 MB | : 100% 1.0/1 [00:00<00:00,  2.56it/s]               \n",
            "libtiff-4.0.10       |  587 KB | : 100% 1.0/1 [00:00<00:00,  7.67it/s]               \n",
            "libstdcxx-ng-9.1.0   |  4.0 MB | : 100% 1.0/1 [00:00<00:00,  1.69it/s]               \n",
            "dask-cudf-0.9.0      |   63 KB | : 100% 1.0/1 [00:00<00:00,  1.75it/s]                \n",
            "libopenblas-0.3.7    |  7.6 MB | : 100% 1.0/1 [00:01<00:00,  1.27s/it]             \n",
            "bokeh-1.3.4          |  4.0 MB | : 100% 1.0/1 [00:01<00:00,  1.34s/it]               \n",
            "cudatoolkit-10.0.130 | 380.0 MB | : 100% 1.0/1 [00:45<00:00, 45.04s/it]                \n",
            "heapdict-1.0.0       |    7 KB | : 100% 1.0/1 [00:00<00:00, 19.05it/s]\n",
            "pyparsing-2.4.2      |   57 KB | : 100% 1.0/1 [00:00<00:00, 18.17it/s]\n",
            "cytoolz-0.10.0       |  429 KB | : 100% 1.0/1 [00:00<00:00,  7.47it/s]               \n",
            "idna-2.8             |  132 KB | : 100% 1.0/1 [00:00<00:00, 16.54it/s]\n",
            "ncurses-6.1          |  1.3 MB | : 100% 1.0/1 [00:00<00:00,  1.23it/s]              \n",
            "markupsafe-1.1.1     |   26 KB | : 100% 1.0/1 [00:00<00:00, 20.88it/s]\n",
            "cython-0.29.13       |  2.2 MB | : 100% 1.0/1 [00:00<00:00,  1.78it/s]               \n",
            "google-auth-oauthlib |   18 KB | : 100% 1.0/1 [00:00<00:00, 21.45it/s]\n",
            "gflags-2.2.2         |  177 KB | : 100% 1.0/1 [00:00<00:00,  6.69it/s]                \n",
            "libevent-2.1.10      |  1.3 MB | : 100% 1.0/1 [00:00<00:00,  2.84it/s]               \n",
            "libxgboost-0.90.rapi | 33.2 MB | : 100% 1.0/1 [00:07<00:00,  7.72s/it]               \n",
            "pandas-0.24.2        | 11.1 MB | : 100% 1.0/1 [00:02<00:00,  2.25s/it]               \n",
            "cloudpickle-1.2.1    |   22 KB | : 100% 1.0/1 [00:00<00:00, 21.78it/s]\n",
            "libblas-3.8.0        |   10 KB | : 100% 1.0/1 [00:00<00:00, 25.26it/s]\n",
            "python-3.6.7         | 34.6 MB | : 100% 1.0/1 [00:04<00:00,  4.64s/it]               \n",
            "python-dateutil-2.8. |  219 KB | : 100% 1.0/1 [00:00<00:00, 14.63it/s]\n",
            "joblib-0.13.2        |  180 KB | : 100% 1.0/1 [00:00<00:00, 10.47it/s]\n",
            "blinker-1.4          |   13 KB | : 100% 1.0/1 [00:00<00:00, 22.48it/s]\n",
            "partd-1.0.0          |   16 KB | : 100% 1.0/1 [00:00<00:00, 26.99it/s]\n",
            "certifi-2019.6.16    |  149 KB | : 100% 1.0/1 [00:00<00:00, 20.28it/s]\n",
            "zlib-1.2.11          |  105 KB | : 100% 1.0/1 [00:00<00:00, 19.25it/s]\n",
            "tblib-1.4.0          |   12 KB | : 100% 1.0/1 [00:00<00:00, 28.22it/s]\n",
            "fsspec-0.4.1         |   39 KB | : 100% 1.0/1 [00:00<00:00, 16.07it/s]\n",
            "scipy-1.3.1          | 18.1 MB | : 100% 1.0/1 [00:03<00:00,  3.00s/it]               \n",
            "decorator-4.4.0      |   11 KB | : 100% 1.0/1 [00:00<00:00, 25.91it/s]\n",
            "cachetools-2.1.0     |   10 KB | : 100% 1.0/1 [00:00<00:00, 24.87it/s]\n",
            "xz-5.2.4             |  366 KB | : 100% 1.0/1 [00:00<00:00,  9.22it/s]               \n",
            "jpeg-9c              |  251 KB | : 100% 1.0/1 [00:00<00:00, 10.75it/s]\n",
            "click-7.0            |   61 KB | : 100% 1.0/1 [00:00<00:00, 20.15it/s]\n",
            "pysocks-1.7.0        |   26 KB | : 100% 1.0/1 [00:00<00:00, 20.41it/s]\n",
            "liblapack-3.8.0      |   10 KB | : 100% 1.0/1 [00:00<00:00, 26.20it/s]\n",
            "setuptools-41.2.0    |  634 KB | : 100% 1.0/1 [00:00<00:00,  4.46it/s]               \n",
            "asn1crypto-0.24.0    |  154 KB | : 100% 1.0/1 [00:00<00:00, 11.07it/s]\n",
            "glog-0.4.0           |  104 KB | : 100% 1.0/1 [00:00<00:00, 18.62it/s]\n",
            "dask-core-2.3.0      |  574 KB | : 100% 1.0/1 [00:00<00:00,  4.83it/s]              \n",
            "olefile-0.46         |   31 KB | : 100% 1.0/1 [00:00<00:00, 19.32it/s]\n",
            "psutil-5.6.3         |  322 KB | : 100% 1.0/1 [00:00<00:00,  8.87it/s]\n",
            "xgboost-0.90.rapidsd |   12 KB | : 100% 1.0/1 [00:00<00:00,  2.40it/s] \n",
            "libcblas-3.8.0       |   10 KB | : 100% 1.0/1 [00:00<00:00, 23.89it/s]\n",
            "zict-1.0.0           |   10 KB | : 100% 1.0/1 [00:00<00:00, 22.89it/s]\n",
            "_libgcc_mutex-0.1    |    3 KB | : 100% 1.0/1 [00:00<00:00, 31.51it/s]\n",
            "rmm-0.9.0            |   14 KB | : 100% 1.0/1 [00:00<00:00,  5.63it/s] \n",
            "re2-2019.08.01       |  420 KB | : 100% 1.0/1 [00:00<00:00,  8.94it/s]\n",
            "gcsfs-0.3.0          |   19 KB | : 100% 1.0/1 [00:00<00:00, 24.16it/s]\n",
            "libgfortran-ng-7.3.0 |  1.3 MB | : 100% 1.0/1 [00:00<00:00,  3.77it/s]               \n",
            "librmm-0.9.0         |   44 KB | : 100% 1.0/1 [00:00<00:00,  5.93it/s]               \n",
            "chardet-3.0.4        |  190 KB | : 100% 1.0/1 [00:00<00:00, 11.50it/s]\n",
            "pyasn1-modules-0.2.6 |   47 KB | : 100% 1.0/1 [00:00<00:00, 15.94it/s]\n",
            "libgcc-ng-9.1.0      |  8.1 MB | : 100% 1.0/1 [00:01<00:00,  1.12s/it]              \n",
            "uriparser-0.9.3      |   49 KB | : 100% 1.0/1 [00:00<00:00, 18.56it/s]\n",
            "nvstrings-0.9.0      |  124 KB | : 100% 1.0/1 [00:00<00:00,  4.14it/s]                \n",
            "libprotobuf-3.8.0    |  4.7 MB | : 100% 1.0/1 [00:00<00:00,  1.13it/s]               \n",
            "rsa-3.4.2            |   31 KB | : 100% 1.0/1 [00:00<00:00, 20.01it/s]\n",
            "ca-certificates-2019 |  145 KB | : 100% 1.0/1 [00:00<00:00, 16.25it/s]\n",
            "nccl-2.4.6.1         | 66.6 MB | : 100% 1.0/1 [00:08<00:00,  8.80s/it]              \n",
            "pip-19.2.2           |  1.9 MB | : 100% 1.0/1 [00:00<00:00,  1.86it/s]              \n",
            "Copying shared object files to /usr/lib\n",
            "Solving environment: - \b\b\\ \b\b| \b\b/ \b\b- \b\b\\ \b\b| \b\b/ \b\b- \b\b\\ \b\b| \b\b/ \b\b- \b\b\\ \b\b| \b\b/ \b\b- \b\b\\ \b\b| \b\b/ \b\b- \b\b\\ \b\b| \b\b/ \b\b- \b\b\\ \b\b| \b\b/ \b\b- \b\b\\ \b\b| \b\b/ \b\b- \b\b\\ \b\b| \b\b/ \b\b- \b\b\\ \b\b| \b\b/ \b\b- \b\b\\ \b\b| \b\b/ \b\b- \b\b\\ \b\b| \b\b/ \b\b- \b\b\\ \b\b| \b\b/ \b\b- \b\b\\ \b\b| \b\b/ \b\b- \b\b\\ \b\b| \b\b/ \b\b- \b\b\\ \b\b| \b\b/ \b\b- \b\b\\ \b\b| \b\b/ \b\b- \b\b\\ \b\b| \b\b/ \b\b- \b\b\\ \b\b| \b\b/ \b\b- \b\b\\ \b\b| \b\b/ \b\b- \b\b\\ \b\b| \b\b/ \b\b- \b\b\\ \b\b| \b\b/ \b\b- \b\b\\ \b\b| \b\b/ \b\b- \b\b\\ \b\b| \b\b/ \b\b- \b\b\\ \b\b| \b\b/ \b\b- \b\b\\ \b\b| \b\b/ \b\b- \b\b\\ \b\b| \b\b/ \b\b- \b\b\\ \b\b| \b\b/ \b\b- \b\b\\ \b\b| \b\b/ \b\b- \b\b\\ \b\b| \b\b/ \b\b- \b\b\\ \b\b| \b\b/ \b\b- \b\b\\ \b\b| \b\b/ \b\b- \b\b\\ \b\b| \b\b/ \b\b- \b\b\\ \b\b| \b\b/ \b\b- \b\b\\ \b\b| \b\b/ \b\b- \b\b\\ \b\b| \b\b/ \b\b- \b\b\\ \b\b| \b\b/ \b\b- \b\b\\ \b\b| \b\b/ \b\b- \b\b\\ \b\b| \b\b/ \b\b- \b\b\\ \b\b| \b\b/ \b\b- \b\b\\ \b\b| \b\b/ \b\b- \b\b\\ \b\b| \b\b/ \b\b- \b\b\\ \b\b| \b\b/ \b\b- \b\b\\ \b\b| \b\b/ \b\b- \b\b\\ \b\b| \b\b/ \b\b- \b\b\\ \b\b| \b\b/ \b\b- \b\b\\ \b\b| \b\b/ \b\b- \b\b\\ \b\b| \b\b/ \b\b- \b\b\\ \b\b| \b\b/ \b\b- \b\b\\ \b\b| \b\b/ \b\b- \b\b\\ \b\b| \b\b/ \b\b- \b\b\\ \b\b| \b\b/ \b\b- \b\b\\ \b\b| \b\b/ \b\b- \b\b\\ \b\b| \b\b/ \b\b- \b\b\\ \b\b| \b\b/ \b\b- \b\b\\ \b\b| \b\b/ \b\b- \b\b\\ \b\b| \b\b/ \b\b- \b\b\\ \b\b| \b\b/ \b\b- \b\b\\ \b\b| \b\b/ \b\b- \b\b\\ \b\b| \b\b/ \b\b- \b\b\\ \b\b| \b\b/ \b\b- \b\b\\ \b\b| \b\b/ \b\b- \b\b\\ \b\b| \b\b/ \b\b- \b\b\\ \b\b| \b\b/ \b\b- \b\b\\ \b\b| \b\b/ \b\b- \b\b\\ \b\b| \b\b/ \b\b- \b\b\\ \b\b| \b\b/ \b\b- \b\b\\ \b\b| \b\b/ \b\b- \b\b\\ \b\b| \b\b/ \b\b- \b\b\\ \b\b| \b\b/ \b\b- \b\b\\ \b\b| \b\b/ \b\b- \b\b\\ \b\b| \b\b/ \b\b- \b\b\\ \b\b| \b\b/ \b\b- \b\b\\ \b\b| \b\b/ \b\b- \b\b\\ \b\b| \b\b/ \b\b- \b\b\\ \b\b| \b\b/ \b\b- \b\b\\ \b\b| \b\b/ \b\b- \b\b\\ \b\b| \b\b/ \b\b- \b\b\\ \b\b| \b\b/ \b\b- \b\b\\ \b\b| \b\b/ \b\b- \b\b\\ \b\b| \b\b/ \b\b- \b\b\\ \b\b| \b\b/ \b\b- \b\b\\ \b\b| \b\b/ \b\b- \b\b\\ \b\b| \b\b/ \b\b- \b\b\\ \b\b| \b\b/ \b\b- \b\b\\ \b\b| \b\b/ \b\b- \b\b\\ \b\b| \b\b/ \b\b- \b\b\\ \b\b| \b\b/ \b\b- \b\b\\ \b\b| \b\b/ \b\b- \b\b\\ \b\b| \b\b/ \b\b- \b\b\\ \b\b| \b\b/ \b\b- \b\b\\ \b\b| \b\b/ \b\b- \b\b\\ \b\b| \b\b/ \b\b- \b\b\\ \b\b| \b\b/ \b\b- \b\b\\ \b\b| \b\b/ \b\b- \b\b\\ \b\b| \b\b/ \b\b- \b\b\\ \b\b| \b\b/ \b\b- \b\b\\ \b\b| \b\b/ \b\b- \b\b\\ \b\b| \b\b/ \b\b- \b\b\\ \b\b| \b\b/ \b\b- \b\b\\ \b\b| \b\b/ \b\b- \b\b\\ \b\b| \b\b/ \b\b- \b\b\\ \b\b| \b\b/ \b\b- \b\b\\ \b\b| \b\b/ \b\b- \b\b\\ \b\b| \b\b/ \b\b- \b\b\\ \b\b| \b\b/ \b\b- \b\b\\ \b\b| \b\b/ \b\b- \b\b\\ \b\b| \b\b/ \b\b- \b\b\\ \b\b| \b\b/ \b\b- \b\b\\ \b\b| \b\b/ \b\b- \b\b\\ \b\b| \b\b/ \b\b- \b\b\\ \b\b| \b\b/ \b\b- \b\b\\ \b\b| \b\b/ \b\b- \b\b\\ \b\b| \b\b/ \b\b- \b\b\\ \b\b| \b\b/ \b\b- \b\b\\ \b\b| \b\b/ \b\b- \b\b\\ \b\b| \b\b/ \b\b- \b\b\\ \b\b| \b\b/ \b\b- \b\b\\ \b\b| \b\b/ \b\b- \b\b\\ \b\b| \b\b/ \b\b- \b\b\\ \b\b| \b\b/ \b\b- \b\b\\ \b\b| \b\b/ \b\b- \b\b\\ \b\b| \b\b/ \b\b- \b\b\\ \b\b| \b\b/ \b\b- \b\b\\ \b\b| \b\b/ \b\b- \b\b\\ \b\b| \b\b/ \b\b- \b\b\\ \b\b| \b\b/ \b\b- \b\b\\ \b\b| \b\b/ \b\b- \b\b\\ \b\b| \b\b/ \b\b- \b\b\\ \b\b| \b\b/ \b\b- \b\b\\ \b\b| \b\b/ \b\b- \b\b\\ \b\b| \b\b/ \b\b- \b\b\\ \b\b| \b\b/ \b\b- \b\b\\ \b\b| \b\b/ \b\b- \b\b\\ \b\b| \b\b/ \b\b- \b\b\\ \b\b| \b\b/ \b\bdone\n",
            "\n",
            "## Package Plan ##\n",
            "\n",
            "  environment location: /usr/local\n",
            "\n",
            "  added / updated specs: \n",
            "    - blazingsql-calcite\n",
            "    - blazingsql-orchestrator\n",
            "    - blazingsql-python\n",
            "    - blazingsql-ral\n",
            "    - cudatoolkit=10.0\n",
            "    - python=3.6\n",
            "\n",
            "\n",
            "The following packages will be downloaded:\n",
            "\n",
            "    package                    |            build\n",
            "    ---------------------------|-----------------\n",
            "    xorg-renderproto-0.11.1    |    h14c3975_1002           8 KB  conda-forge\n",
            "    libarchive-3.3.3           |    hb44662c_1005         1.4 MB  conda-forge\n",
            "    rapidjson-1.1.0            |    he1b5a44_1002         104 KB  conda-forge\n",
            "    openjdk-11.0.1             |    h46a85a0_1017       172.1 MB  conda-forge\n",
            "    blazingsql-orchestrator-0.4.0|   py36hf484d3e_0         1.5 MB  felipeblazing/label/cuda10.0\n",
            "    flatbuffers-1.11.0         |       he1b5a44_0         862 KB  conda-forge\n",
            "    curl-7.65.3                |       hf8cf82a_0         132 KB  conda-forge\n",
            "    maven-3.6.0                |                0         8.6 MB  conda-forge\n",
            "    xorg-libxi-1.7.10          |       h516909a_0          45 KB  conda-forge\n",
            "    giflib-5.1.7               |       h516909a_1         455 KB  conda-forge\n",
            "    xorg-libxdmcp-1.1.3        |       h516909a_0          18 KB  conda-forge\n",
            "    libgpg-error-1.36          |       he1b5a44_0         259 KB  conda-forge\n",
            "    conda-package-handling-1.4.1|           py36_0         262 KB  conda-forge\n",
            "    fontconfig-2.13.1          |    h86ecdb6_1001         340 KB  conda-forge\n",
            "    blazingsql-communication-0.4.0|   py36hf484d3e_0         5.2 MB  felipeblazing/label/cuda10.0\n",
            "    libuv-1.31.0               |       h516909a_0         878 KB  conda-forge\n",
            "    xorg-recordproto-1.14.2    |    h14c3975_1002           7 KB  conda-forge\n",
            "    python-libarchive-c-2.8    |        py36_1004          21 KB  conda-forge\n",
            "    conda-4.7.11               |           py36_0         3.0 MB  conda-forge\n",
            "    blazingsql-python-0.4.0    |   py36hf484d3e_0          43 KB  felipeblazing/label/cuda10.0\n",
            "    pthread-stubs-0.4          |    h14c3975_1001           5 KB  conda-forge\n",
            "    xorg-kbproto-1.0.7         |    h14c3975_1002          26 KB  conda-forge\n",
            "    zeromq-4.3.2               |       he1b5a44_2         668 KB  conda-forge\n",
            "    libgcrypt-1.8.4            |    hf484d3e_1000         614 KB  conda-forge\n",
            "    libgsasl-1.8.0             |    h19a2143_1004         132 KB  conda-forge\n",
            "    libxcb-1.13                |    h14c3975_1002         396 KB  conda-forge\n",
            "    blazingsql-io-0.4.0        |   py36hf484d3e_0         253 KB  felipeblazing/label/cuda10.0\n",
            "    gmock-1.8.1                |             1004         288 KB  conda-forge\n",
            "    xorg-libxau-1.0.9          |       h14c3975_0          13 KB  conda-forge\n",
            "    xorg-libxfixes-5.0.3       |    h516909a_1004          17 KB  conda-forge\n",
            "    blazingsql-calcite-0.4.0   |   py36hf484d3e_0        33.6 MB  felipeblazing/label/cuda10.0\n",
            "    krb5-1.16.3                |    h05b26f9_1001         1.4 MB  conda-forge\n",
            "    xorg-libxtst-1.2.3         |    h14c3975_1002          30 KB  conda-forge\n",
            "    xorg-libx11-1.6.8          |       h516909a_0         907 KB  conda-forge\n",
            "    lcms2-2.9                  |       h2e4bb80_0         423 KB  conda-forge\n",
            "    gtest-1.8.1                |    h6bb024c_1004         617 KB  conda-forge\n",
            "    xorg-libxext-1.3.4         |       h516909a_0          51 KB  conda-forge\n",
            "    xorg-libxrender-0.9.10     |    h516909a_1002          31 KB  conda-forge\n",
            "    libiconv-1.15              |    h516909a_1005         2.0 MB  conda-forge\n",
            "    libsodium-1.0.17           |       h516909a_0         330 KB  conda-forge\n",
            "    lzo-2.10                   |    h14c3975_1000         319 KB  conda-forge\n",
            "    xorg-xextproto-7.3.0       |    h14c3975_1002          27 KB  conda-forge\n",
            "    cmake-3.15.2               |       hf94ab9c_0        11.5 MB  conda-forge\n",
            "    libntlm-1.4                |    h14c3975_1002          32 KB  conda-forge\n",
            "    blazingsql-protocol-0.4.0  |   py36hf484d3e_0         262 KB  felipeblazing/label/cuda10.0\n",
            "    xorg-fixesproto-5.0        |    h14c3975_1002           8 KB  conda-forge\n",
            "    rhash-1.3.6                |    h14c3975_1001         141 KB  conda-forge\n",
            "    libhdfs3-2.3               |    h311b756_1006         8.9 MB  conda-forge\n",
            "    expat-2.2.5                |    he1b5a44_1003         191 KB  conda-forge\n",
            "    libssh2-1.8.2              |       h22169c7_2         257 KB  conda-forge\n",
            "    libcurl-7.65.3             |       hda55be3_0         575 KB  conda-forge\n",
            "    xorg-xproto-7.0.31         |    h14c3975_1007          72 KB  conda-forge\n",
            "    gettext-0.19.8.1           |    hc5be6a0_1002         3.6 MB  conda-forge\n",
            "    xorg-inputproto-2.3.2      |    h14c3975_1002          18 KB  conda-forge\n",
            "    tqdm-4.34.0                |             py_0          41 KB  conda-forge\n",
            "    boost-1.70.0               |   py36h9de70de_1         337 KB  conda-forge\n",
            "    blazingsql-ral-0.4.0       |   py36hf484d3e_0         3.9 MB  felipeblazing/label/cuda10.0\n",
            "    alsa-lib-1.1.5             |    h516909a_1001         547 KB  conda-forge\n",
            "    libuuid-2.32.1             |    h14c3975_1000          26 KB  conda-forge\n",
            "    libxml2-2.9.9              |       hee79883_2         1.3 MB  conda-forge\n",
            "    ------------------------------------------------------------\n",
            "                                           Total:       268.9 MB\n",
            "\n",
            "The following NEW packages will be INSTALLED:\n",
            "\n",
            "    alsa-lib:                 1.1.5-h516909a_1001    conda-forge                 \n",
            "    blazingsql-calcite:       0.4.0-py36hf484d3e_0   felipeblazing/label/cuda10.0\n",
            "    blazingsql-communication: 0.4.0-py36hf484d3e_0   felipeblazing/label/cuda10.0\n",
            "    blazingsql-io:            0.4.0-py36hf484d3e_0   felipeblazing/label/cuda10.0\n",
            "    blazingsql-orchestrator:  0.4.0-py36hf484d3e_0   felipeblazing/label/cuda10.0\n",
            "    blazingsql-protocol:      0.4.0-py36hf484d3e_0   felipeblazing/label/cuda10.0\n",
            "    blazingsql-python:        0.4.0-py36hf484d3e_0   felipeblazing/label/cuda10.0\n",
            "    blazingsql-ral:           0.4.0-py36hf484d3e_0   felipeblazing/label/cuda10.0\n",
            "    boost:                    1.70.0-py36h9de70de_1  conda-forge                 \n",
            "    cmake:                    3.15.2-hf94ab9c_0      conda-forge                 \n",
            "    conda-package-handling:   1.4.1-py36_0           conda-forge                 \n",
            "    curl:                     7.65.3-hf8cf82a_0      conda-forge                 \n",
            "    expat:                    2.2.5-he1b5a44_1003    conda-forge                 \n",
            "    flatbuffers:              1.11.0-he1b5a44_0      conda-forge                 \n",
            "    fontconfig:               2.13.1-h86ecdb6_1001   conda-forge                 \n",
            "    gettext:                  0.19.8.1-hc5be6a0_1002 conda-forge                 \n",
            "    giflib:                   5.1.7-h516909a_1       conda-forge                 \n",
            "    gmock:                    1.8.1-1004             conda-forge                 \n",
            "    gtest:                    1.8.1-h6bb024c_1004    conda-forge                 \n",
            "    krb5:                     1.16.3-h05b26f9_1001   conda-forge                 \n",
            "    lcms2:                    2.9-h2e4bb80_0         conda-forge                 \n",
            "    libarchive:               3.3.3-hb44662c_1005    conda-forge                 \n",
            "    libcurl:                  7.65.3-hda55be3_0      conda-forge                 \n",
            "    libgcrypt:                1.8.4-hf484d3e_1000    conda-forge                 \n",
            "    libgpg-error:             1.36-he1b5a44_0        conda-forge                 \n",
            "    libgsasl:                 1.8.0-h19a2143_1004    conda-forge                 \n",
            "    libhdfs3:                 2.3-h311b756_1006      conda-forge                 \n",
            "    libiconv:                 1.15-h516909a_1005     conda-forge                 \n",
            "    libntlm:                  1.4-h14c3975_1002      conda-forge                 \n",
            "    libsodium:                1.0.17-h516909a_0      conda-forge                 \n",
            "    libssh2:                  1.8.2-h22169c7_2       conda-forge                 \n",
            "    libuuid:                  2.32.1-h14c3975_1000   conda-forge                 \n",
            "    libuv:                    1.31.0-h516909a_0      conda-forge                 \n",
            "    libxcb:                   1.13-h14c3975_1002     conda-forge                 \n",
            "    libxml2:                  2.9.9-hee79883_2       conda-forge                 \n",
            "    lzo:                      2.10-h14c3975_1000     conda-forge                 \n",
            "    maven:                    3.6.0-0                conda-forge                 \n",
            "    openjdk:                  11.0.1-h46a85a0_1017   conda-forge                 \n",
            "    pthread-stubs:            0.4-h14c3975_1001      conda-forge                 \n",
            "    python-libarchive-c:      2.8-py36_1004          conda-forge                 \n",
            "    rapidjson:                1.1.0-he1b5a44_1002    conda-forge                 \n",
            "    rhash:                    1.3.6-h14c3975_1001    conda-forge                 \n",
            "    tqdm:                     4.34.0-py_0            conda-forge                 \n",
            "    xorg-fixesproto:          5.0-h14c3975_1002      conda-forge                 \n",
            "    xorg-inputproto:          2.3.2-h14c3975_1002    conda-forge                 \n",
            "    xorg-kbproto:             1.0.7-h14c3975_1002    conda-forge                 \n",
            "    xorg-libx11:              1.6.8-h516909a_0       conda-forge                 \n",
            "    xorg-libxau:              1.0.9-h14c3975_0       conda-forge                 \n",
            "    xorg-libxdmcp:            1.1.3-h516909a_0       conda-forge                 \n",
            "    xorg-libxext:             1.3.4-h516909a_0       conda-forge                 \n",
            "    xorg-libxfixes:           5.0.3-h516909a_1004    conda-forge                 \n",
            "    xorg-libxi:               1.7.10-h516909a_0      conda-forge                 \n",
            "    xorg-libxrender:          0.9.10-h516909a_1002   conda-forge                 \n",
            "    xorg-libxtst:             1.2.3-h14c3975_1002    conda-forge                 \n",
            "    xorg-recordproto:         1.14.2-h14c3975_1002   conda-forge                 \n",
            "    xorg-renderproto:         0.11.1-h14c3975_1002   conda-forge                 \n",
            "    xorg-xextproto:           7.3.0-h14c3975_1002    conda-forge                 \n",
            "    xorg-xproto:              7.0.31-h14c3975_1007   conda-forge                 \n",
            "    zeromq:                   4.3.2-he1b5a44_2       conda-forge                 \n",
            "\n",
            "The following packages will be UPDATED:\n",
            "\n",
            "    conda:                    4.5.4-py36_0                                        --> 4.7.11-py36_0 conda-forge\n",
            "\n",
            "\n",
            "Downloading and Extracting Packages\n",
            "xorg-renderproto-0.1 |    8 KB | : 100% 1.0/1 [00:00<00:00, 20.34it/s]\n",
            "libarchive-3.3.3     |  1.4 MB | : 100% 1.0/1 [00:00<00:00,  2.10it/s]               \n",
            "rapidjson-1.1.0      |  104 KB | : 100% 1.0/1 [00:00<00:00, 11.83it/s]\n",
            "openjdk-11.0.1       | 172.1 MB | : 100% 1.0/1 [00:19<00:00, 19.24s/it]               \n",
            "blazingsql-orchestra |  1.5 MB | : 100% 1.0/1 [00:00<00:00,  1.10it/s]              \n",
            "flatbuffers-1.11.0   |  862 KB | : 100% 1.0/1 [00:00<00:00,  5.94it/s]               \n",
            "curl-7.65.3          |  132 KB | : 100% 1.0/1 [00:00<00:00, 21.68it/s]\n",
            "maven-3.6.0          |  8.6 MB | : 100% 1.0/1 [00:00<00:00,  1.15it/s]               \n",
            "xorg-libxi-1.7.10    |   45 KB | : 100% 1.0/1 [00:00<00:00, 20.66it/s]\n",
            "giflib-5.1.7         |  455 KB | : 100% 1.0/1 [00:00<00:00,  8.58it/s]\n",
            "xorg-libxdmcp-1.1.3  |   18 KB | : 100% 1.0/1 [00:00<00:00, 25.28it/s]\n",
            "libgpg-error-1.36    |  259 KB | : 100% 1.0/1 [00:00<00:00, 10.71it/s]\n",
            "conda-package-handli |  262 KB | : 100% 1.0/1 [00:00<00:00, 13.28it/s]\n",
            "fontconfig-2.13.1    |  340 KB | : 100% 1.0/1 [00:00<00:00,  9.37it/s]\n",
            "blazingsql-communica |  5.2 MB | : 100% 1.0/1 [00:01<00:00,  1.20s/it]               \n",
            "libuv-1.31.0         |  878 KB | : 100% 1.0/1 [00:01<00:00, 34.47s/it]               \n",
            "xorg-recordproto-1.1 |    7 KB | : 100% 1.0/1 [00:00<00:00, 28.95it/s]\n",
            "python-libarchive-c- |   21 KB | : 100% 1.0/1 [00:00<00:00, 24.77it/s]\n",
            "conda-4.7.11         |  3.0 MB | : 100% 1.0/1 [00:00<00:00,  1.56it/s]               \n",
            "blazingsql-python-0. |   43 KB | : 100% 1.0/1 [00:00<00:00,  3.76it/s]                \n",
            "pthread-stubs-0.4    |    5 KB | : 100% 1.0/1 [00:00<00:00, 28.08it/s]\n",
            "xorg-kbproto-1.0.7   |   26 KB | : 100% 1.0/1 [00:00<00:00, 21.60it/s]\n",
            "zeromq-4.3.2         |  668 KB | : 100% 1.0/1 [00:00<00:00,  5.82it/s]               \n",
            "libgcrypt-1.8.4      |  614 KB | : 100% 1.0/1 [00:00<00:00,  7.81it/s]               \n",
            "libgsasl-1.8.0       |  132 KB | : 100% 1.0/1 [00:00<00:00, 14.79it/s]\n",
            "libxcb-1.13          |  396 KB | : 100% 1.0/1 [00:00<00:00,  6.71it/s]              \n",
            "blazingsql-io-0.4.0  |  253 KB | : 100% 1.0/1 [00:00<00:00,  4.15it/s]                \n",
            "gmock-1.8.1          |  288 KB | : 100% 1.0/1 [00:00<00:00, 10.35it/s]\n",
            "xorg-libxau-1.0.9    |   13 KB | : 100% 1.0/1 [00:00<00:00, 28.72it/s]\n",
            "xorg-libxfixes-5.0.3 |   17 KB | : 100% 1.0/1 [00:00<00:00, 29.29it/s]\n",
            "blazingsql-calcite-0 | 33.6 MB | : 100% 1.0/1 [00:03<00:00,  3.90s/it]               \n",
            "krb5-1.16.3          |  1.4 MB | : 100% 1.0/1 [00:00<00:00,  3.51it/s]               \n",
            "xorg-libxtst-1.2.3   |   30 KB | : 100% 1.0/1 [00:00<00:00, 25.95it/s]\n",
            "xorg-libx11-1.6.8    |  907 KB | : 100% 1.0/1 [00:00<00:00,  4.99it/s]               \n",
            "lcms2-2.9            |  423 KB | : 100% 1.0/1 [00:00<00:00,  9.38it/s]\n",
            "gtest-1.8.1          |  617 KB | : 100% 1.0/1 [00:00<00:00,  6.21it/s]               \n",
            "xorg-libxext-1.3.4   |   51 KB | : 100% 1.0/1 [00:00<00:00, 21.21it/s]\n",
            "xorg-libxrender-0.9. |   31 KB | : 100% 1.0/1 [00:00<00:00, 23.27it/s]\n",
            "libiconv-1.15        |  2.0 MB | : 100% 1.0/1 [00:00<00:00,  3.55it/s]               \n",
            "libsodium-1.0.17     |  330 KB | : 100% 1.0/1 [00:00<00:00,  9.14it/s]              \n",
            "lzo-2.10             |  319 KB | : 100% 1.0/1 [00:00<00:00, 10.34it/s]\n",
            "xorg-xextproto-7.3.0 |   27 KB | : 100% 1.0/1 [00:00<00:00, 20.60it/s]\n",
            "cmake-3.15.2         | 11.5 MB | : 100% 1.0/1 [00:02<00:00,  2.41s/it]              \n",
            "libntlm-1.4          |   32 KB | : 100% 1.0/1 [00:00<00:00, 19.90it/s]\n",
            "blazingsql-protocol- |  262 KB | : 100% 1.0/1 [00:00<00:00,  1.39it/s]               \n",
            "xorg-fixesproto-5.0  |    8 KB | : 100% 1.0/1 [00:00<00:00, 28.50it/s]\n",
            "rhash-1.3.6          |  141 KB | : 100% 1.0/1 [00:00<00:00, 20.03it/s]\n",
            "libhdfs3-2.3         |  8.9 MB | : 100% 1.0/1 [00:01<00:00,  1.35s/it]               \n",
            "expat-2.2.5          |  191 KB | : 100% 1.0/1 [00:00<00:00, 12.87it/s]\n",
            "libssh2-1.8.2        |  257 KB | : 100% 1.0/1 [00:00<00:00,  9.20it/s]               \n",
            "libcurl-7.65.3       |  575 KB | : 100% 1.0/1 [00:00<00:00,  8.20it/s]\n",
            "xorg-xproto-7.0.31   |   72 KB | : 100% 1.0/1 [00:00<00:00, 20.32it/s]\n",
            "gettext-0.19.8.1     |  3.6 MB | : 100% 1.0/1 [00:01<00:00,  1.03s/it]               \n",
            "xorg-inputproto-2.3. |   18 KB | : 100% 1.0/1 [00:00<00:00, 23.85it/s]\n",
            "tqdm-4.34.0          |   41 KB | : 100% 1.0/1 [00:00<00:00, 19.45it/s]\n",
            "boost-1.70.0         |  337 KB | : 100% 1.0/1 [00:00<00:00,  6.88it/s]               \n",
            "blazingsql-ral-0.4.0 |  3.9 MB | : 100% 1.0/1 [00:01<00:00,  1.14s/it]               \n",
            "alsa-lib-1.1.5       |  547 KB | : 100% 1.0/1 [00:00<00:00,  5.80it/s]               \n",
            "libuuid-2.32.1       |   26 KB | : 100% 1.0/1 [00:00<00:00, 23.87it/s]\n",
            "libxml2-2.9.9        |  1.3 MB | : 100% 1.0/1 [00:00<00:00,  2.38it/s]               \n",
            "Preparing transaction: \\ \b\b| \b\b/ \b\b- \b\b\\ \b\b| \b\bdone\n",
            "Verifying transaction: - \b\b\\ \b\b| \b\b/ \b\b- \b\b\\ \b\b| \b\b/ \b\b- \b\b\\ \b\b| \b\b/ \b\b- \b\b\\ \b\b| \b\b/ \b\b- \b\b\\ \b\b| \b\b/ \b\b- \b\b\\ \b\b| \b\b/ \b\b- \b\b\\ \b\b| \b\b/ \b\b- \b\b\\ \b\b| \b\b/ \b\b- \b\b\\ \b\bdone\n",
            "Executing transaction: / \b\b- \b\b\\ \b\b| \b\b/ \b\b- \b\b\\ \b\b| \b\b/ \b\b- \b\b\\ \b\b| \b\b/ \b\b- \b\b\\ \b\b| \b\bdone\n",
            "Collecting flatbuffers\n",
            "  Downloading https://files.pythonhosted.org/packages/c9/84/adf5837f96c39990bc55afdfddf460b38b4562f50341359afa32e4a98de7/flatbuffers-1.11-py2.py3-none-any.whl\n",
            "Installing collected packages: flatbuffers\n",
            "Successfully installed flatbuffers-1.11\n",
            "\n",
            "*********************************************\n",
            "Your Google Colab instance is RAPIDS ready!\n",
            "*********************************************\n",
            "\n",
            "*********************************************\n",
            "Your Google Colab instance is BlazingSQL ready!\n",
            "*********************************************\n",
            "CPU times: user 2.1 s, sys: 266 ms, total: 2.36 s\n",
            "Wall time: 6min 43s\n"
          ],
          "name": "stdout"
        }
      ]
    },
    {
      "cell_type": "code",
      "metadata": {
        "id": "pqQ8lqL8vb-8",
        "colab_type": "code",
        "colab": {}
      },
      "source": [
        "import sys, os\n",
        "\n",
        "sys.path.append('/usr/local/lib/python3.6/site-packages/')\n",
        "os.environ['NUMBAPRO_NVVM'] = '/usr/local/cuda/nvvm/lib64/libnvvm.so'\n",
        "os.environ['NUMBAPRO_LIBDEVICE'] = '/usr/local/cuda/nvvm/libdevice/'\n",
        "\n",
        "#we are working on removing the need to call these functions and just initializing them in BlazingContext\n",
        "import subprocess\n",
        "subprocess.Popen(['blazingsql-orchestrator', '9100', '8889', '127.0.0.1', '8890'],stdin=subprocess.PIPE, stdout=subprocess.PIPE, stderr=subprocess.STDOUT)\n",
        "subprocess.Popen(['java', '-jar', '/usr/local/lib/blazingsql-algebra.jar', '-p', '8890'])\n",
        "import pyblazing.apiv2.context as cont\n",
        "cont.runRal()"
      ],
      "execution_count": 0,
      "outputs": []
    },
    {
      "cell_type": "code",
      "metadata": {
        "id": "ojm_V-WAtz0f",
        "colab_type": "code",
        "outputId": "a46625f4-1494-4a13-eb13-2f38efd80ccf",
        "colab": {
          "base_uri": "https://localhost:8080/",
          "height": 35
        }
      },
      "source": [
        "# Import RAPIDS AI stack\n",
        "from blazingsql import BlazingContext\n",
        "import cudf\n",
        "\n",
        "bc = BlazingContext()"
      ],
      "execution_count": 0,
      "outputs": [
        {
          "output_type": "stream",
          "text": [
            "connection established\n"
          ],
          "name": "stdout"
        }
      ]
    },
    {
      "cell_type": "markdown",
      "metadata": {
        "id": "yp7z8bfivbna",
        "colab_type": "text"
      },
      "source": [
        "###Load & Query Table"
      ]
    },
    {
      "cell_type": "code",
      "metadata": {
        "id": "2dAt6DfG37KH",
        "colab_type": "code",
        "outputId": "b8088e48-8163-4bf1-dcf8-7812293d61e7",
        "colab": {
          "base_uri": "https://localhost:8080/",
          "height": 228
        }
      },
      "source": [
        "!wget https://blazingsql-colab.s3.amazonaws.com/netflow_data/nf-chunk2.csv"
      ],
      "execution_count": 0,
      "outputs": [
        {
          "output_type": "stream",
          "text": [
            "--2019-08-23 23:08:49--  https://blazingsql-colab.s3.amazonaws.com/netflow_data/nf-chunk2.csv\n",
            "Resolving blazingsql-colab.s3.amazonaws.com (blazingsql-colab.s3.amazonaws.com)... 52.216.144.139\n",
            "Connecting to blazingsql-colab.s3.amazonaws.com (blazingsql-colab.s3.amazonaws.com)|52.216.144.139|:443... connected.\n",
            "HTTP request sent, awaiting response... 200 OK\n",
            "Length: 2725056295 (2.5G) [text/csv]\n",
            "Saving to: ‘nf-chunk2.csv’\n",
            "\n",
            "nf-chunk2.csv       100%[===================>]   2.54G  46.2MB/s    in 54s     \n",
            "\n",
            "2019-08-23 23:09:43 (48.2 MB/s) - ‘nf-chunk2.csv’ saved [2725056295/2725056295]\n",
            "\n"
          ],
          "name": "stdout"
        }
      ]
    },
    {
      "cell_type": "code",
      "metadata": {
        "id": "rirBsYQU3NH5",
        "colab_type": "code",
        "outputId": "51ced2b1-b930-4173-bbfa-09672e751d3f",
        "colab": {
          "base_uri": "https://localhost:8080/",
          "height": 52
        }
      },
      "source": [
        "%%time\n",
        "#Load CSVs into GPU DataFrames (gdf)\n",
        "netflow_gdf = cudf.read_csv('nf-chunk2.csv')"
      ],
      "execution_count": 0,
      "outputs": [
        {
          "output_type": "stream",
          "text": [
            "CPU times: user 4.18 s, sys: 1.49 s, total: 5.67 s\n",
            "Wall time: 5.78 s\n"
          ],
          "name": "stdout"
        }
      ]
    },
    {
      "cell_type": "code",
      "metadata": {
        "id": "zCzLEFfB3N4k",
        "colab_type": "code",
        "outputId": "10ff9097-2736-423e-969d-de75983fbdda",
        "colab": {
          "base_uri": "https://localhost:8080/",
          "height": 52
        }
      },
      "source": [
        "%%time\n",
        "#Create BlazingSQL Tables - There is no copy in this process\n",
        "bc.create_table('netflow', netflow_gdf)"
      ],
      "execution_count": 0,
      "outputs": [
        {
          "output_type": "stream",
          "text": [
            "CPU times: user 28.6 ms, sys: 136 µs, total: 28.8 ms\n",
            "Wall time: 92.9 ms\n"
          ],
          "name": "stdout"
        }
      ]
    },
    {
      "cell_type": "code",
      "metadata": {
        "id": "umBG2Tp0wbQx",
        "colab_type": "code",
        "outputId": "0975395e-7f5b-4244-afa3-45c8658ce61c",
        "colab": {
          "base_uri": "https://localhost:8080/",
          "height": 295
        }
      },
      "source": [
        "%%time\n",
        "sql = '''\n",
        "SELECT\n",
        "  a.firstSeenSrcIp as source,\n",
        "  a.firstSeenDestIp as destination,\n",
        "  count(a.firstSeenDestPort) as targetPorts,\n",
        "  SUM(a.firstSeenSrcTotalBytes) as bytesOut,\n",
        "  SUM(a.firstSeenDestTotalBytes) as bytesIn,\n",
        "  SUM(a.durationSeconds) as durationSeconds,\n",
        "  MIN(parsedDate) as firstFlowDate,\n",
        "  MAX(parsedDate) as lastFlowDate,\n",
        "  COUNT(*) as attemptCount\n",
        "  FROM\n",
        "  main.netflow a\n",
        "  GROUP BY\n",
        "  a.firstSeenSrcIp,\n",
        "  a.firstSeenDestIp\n",
        "  '''\n",
        "\n",
        "result = bc.sql(sql,['netflow']).get()\n",
        "\n",
        "# print(result.columns)\n",
        "\n",
        "result_gdf = result.columns\n",
        "edges_df = result_gdf.to_pandas()\n",
        "print(edges_df.head(10))"
      ],
      "execution_count": 0,
      "outputs": [
        {
          "output_type": "stream",
          "text": [
            "NOTE: You no longer need to send a table list to the .sql() funtion\n",
            "  firstSeenSrcIp firstSeenDestIp  ...         lastFlowDate  attemptCount\n",
            "0   172.10.1.234        10.0.0.5  ...  2013-04-03 15:11:07           104\n",
            "1      10.1.0.76     172.10.1.82  ...  2013-04-03 09:55:05             1\n",
            "2    172.30.1.85        10.0.0.8  ...  2013-04-03 12:06:53            84\n",
            "3    172.30.2.60        10.0.0.9  ...  2013-04-03 12:12:37            82\n",
            "4   172.10.1.106    10.199.250.2  ...  2013-04-03 10:12:35            40\n",
            "5       10.0.0.9    172.30.1.124  ...  2013-04-03 10:36:04             1\n",
            "6   172.30.2.125        10.0.0.9  ...  2013-04-03 12:12:37            69\n",
            "7    172.30.1.10       10.0.0.12  ...  2013-04-03 12:11:40            69\n",
            "8    172.20.1.58        10.7.5.5  ...  2013-04-03 11:20:09            49\n",
            "9    172.20.1.53        10.0.0.7  ...  2013-04-03 11:22:04            67\n",
            "\n",
            "[10 rows x 9 columns]\n",
            "CPU times: user 62.6 ms, sys: 10.9 ms, total: 73.5 ms\n",
            "Wall time: 2.59 s\n"
          ],
          "name": "stdout"
        }
      ]
    },
    {
      "cell_type": "markdown",
      "metadata": {
        "id": "6PXbjW1hTxrD",
        "colab_type": "text"
      },
      "source": [
        "## Apache Spark"
      ]
    },
    {
      "cell_type": "code",
      "metadata": {
        "id": "pnEEvVEtT8xi",
        "colab_type": "code",
        "outputId": "1cc4f500-3d98-4df9-fe88-1eb569f35699",
        "colab": {
          "base_uri": "https://localhost:8080/",
          "height": 272
        }
      },
      "source": [
        "%%time\n",
        "# Install Spark \n",
        "# Note: This installs Spark (version 2.4.1, as tested in April 2019)\n",
        "\n",
        "!pip install pyspark"
      ],
      "execution_count": 0,
      "outputs": [
        {
          "output_type": "stream",
          "text": [
            "Collecting pyspark\n",
            "\u001b[?25l  Downloading https://files.pythonhosted.org/packages/37/98/244399c0daa7894cdf387e7007d5e8b3710a79b67f3fd991c0b0b644822d/pyspark-2.4.3.tar.gz (215.6MB)\n",
            "\u001b[K     |████████████████████████████████| 215.6MB 125kB/s \n",
            "\u001b[?25hCollecting py4j==0.10.7 (from pyspark)\n",
            "\u001b[?25l  Downloading https://files.pythonhosted.org/packages/e3/53/c737818eb9a7dc32a7cd4f1396e787bd94200c3997c72c1dbe028587bd76/py4j-0.10.7-py2.py3-none-any.whl (197kB)\n",
            "\u001b[K     |████████████████████████████████| 204kB 44.6MB/s \n",
            "\u001b[?25hBuilding wheels for collected packages: pyspark\n",
            "  Building wheel for pyspark (setup.py) ... \u001b[?25l\u001b[?25hdone\n",
            "  Created wheel for pyspark: filename=pyspark-2.4.3-py2.py3-none-any.whl size=215964963 sha256=309c5916fd287e31dd2c8d7fd305111b567fc1f6893d5d2a51e153d98c161fba\n",
            "  Stored in directory: /root/.cache/pip/wheels/8d/20/f0/b30e2024226dc112e256930dd2cd4f06d00ab053c86278dcf3\n",
            "Successfully built pyspark\n",
            "Installing collected packages: py4j, pyspark\n",
            "Successfully installed py4j-0.10.7 pyspark-2.4.3\n",
            "CPU times: user 1.07 s, sys: 2.32 s, total: 3.39 s\n",
            "Wall time: 36.3 s\n"
          ],
          "name": "stdout"
        }
      ]
    },
    {
      "cell_type": "code",
      "metadata": {
        "id": "nioEt2MqT9B0",
        "colab_type": "code",
        "outputId": "f75b9823-5dbd-45b1-9282-562d3d6ddaf0",
        "colab": {
          "base_uri": "https://localhost:8080/",
          "height": 51
        }
      },
      "source": [
        "%%time\n",
        "#I copied this cell's snippet from another Google Colab by Luca Canali here: https://colab.research.google.com/github/LucaCanali/sparkMeasure/blob/master/examples/SparkMeasure_Jupyter_Colab_Example.ipynb\n",
        "\n",
        "from pyspark.sql import SparkSession\n",
        "\n",
        "# Create Spark Session\n",
        "# This example uses a local cluster, you can modify master to use  YARN or K8S if available \n",
        "# This example downloads sparkMeasure 0.13 for scala 2_11 from maven central\n",
        "\n",
        "spark = SparkSession \\\n",
        " .builder \\\n",
        " .master(\"local[*]\") \\\n",
        " .appName(\"PySpark Netflow Benchmark code\") \\\n",
        " .config(\"spark.jars.packages\",\"ch.cern.sparkmeasure:spark-measure_2.11:0.13\")  \\\n",
        " .getOrCreate()"
      ],
      "execution_count": 0,
      "outputs": [
        {
          "output_type": "stream",
          "text": [
            "CPU times: user 54.6 ms, sys: 31.3 ms, total: 86 ms\n",
            "Wall time: 9.41 s\n"
          ],
          "name": "stdout"
        }
      ]
    },
    {
      "cell_type": "markdown",
      "metadata": {
        "id": "G8XSppQiUdLY",
        "colab_type": "text"
      },
      "source": [
        "###Load & Query Table"
      ]
    },
    {
      "cell_type": "code",
      "metadata": {
        "id": "ZSLuSYSOUDtf",
        "colab_type": "code",
        "outputId": "2b93169b-63c5-4c46-da14-af87645bf51b",
        "colab": {
          "base_uri": "https://localhost:8080/",
          "height": 51
        }
      },
      "source": [
        "%%time\n",
        "\n",
        "netflow_df = spark.read.format('com.databricks.spark.csv').options(header='true', inferschema='true').load('nf-chunk2.csv')"
      ],
      "execution_count": 0,
      "outputs": [
        {
          "output_type": "stream",
          "text": [
            "CPU times: user 121 ms, sys: 81.4 ms, total: 202 ms\n",
            "Wall time: 5min 34s\n"
          ],
          "name": "stdout"
        }
      ]
    },
    {
      "cell_type": "code",
      "metadata": {
        "id": "iT3BwLn8UDwE",
        "colab_type": "code",
        "outputId": "4eeff800-489f-4230-adb9-f3a1c16ede66",
        "colab": {
          "base_uri": "https://localhost:8080/",
          "height": 51
        }
      },
      "source": [
        "%%time\n",
        "netflow_df.createOrReplaceTempView('netflow')"
      ],
      "execution_count": 0,
      "outputs": [
        {
          "output_type": "stream",
          "text": [
            "CPU times: user 822 µs, sys: 1.43 ms, total: 2.25 ms\n",
            "Wall time: 200 ms\n"
          ],
          "name": "stdout"
        }
      ]
    },
    {
      "cell_type": "code",
      "metadata": {
        "id": "9SBhahA5UD2k",
        "colab_type": "code",
        "outputId": "accc1938-6470-44df-ab7f-70058c755b2b",
        "colab": {
          "base_uri": "https://localhost:8080/",
          "height": 493
        }
      },
      "source": [
        "%%time\n",
        "sql = '''\n",
        "SELECT\n",
        "  a.firstSeenSrcIp as source,\n",
        "  a.firstSeenDestIp as destination,\n",
        "  count(a.firstSeenDestPort) as targetPorts,\n",
        "  SUM(a.firstSeenSrcTotalBytes) as bytesOut,\n",
        "  SUM(a.firstSeenDestTotalBytes) as bytesIn,\n",
        "  SUM(a.durationSeconds) as durationSeconds,\n",
        "  MIN(parsedDate) as firstFlowDate,\n",
        "  MAX(parsedDate) as lastFlowDate,\n",
        "  COUNT(*) as attemptCount\n",
        "  FROM\n",
        "  netflow a\n",
        "  GROUP BY\n",
        "  a.firstSeenSrcIp,\n",
        "  a.firstSeenDestIp\n",
        "  '''\n",
        "\n",
        "edges_df = spark.sql(sql)\n",
        "\n",
        "edges_df.show()"
      ],
      "execution_count": 0,
      "outputs": [
        {
          "output_type": "stream",
          "text": [
            "+------------+---------------+-----------+--------+-------+---------------+-------------------+-------------------+------------+\n",
            "|      source|    destination|targetPorts|bytesOut|bytesIn|durationSeconds|      firstFlowDate|       lastFlowDate|attemptCount|\n",
            "+------------+---------------+-----------+--------+-------+---------------+-------------------+-------------------+------------+\n",
            "| 172.10.1.13|239.255.255.250|         15|    2975|      0|              6|2013-04-03 06:36:19|2013-04-03 06:36:27|          15|\n",
            "|172.30.1.204|239.255.255.250|          8|    1750|      0|              6|2013-04-03 06:36:13|2013-04-03 06:36:20|           8|\n",
            "| 172.30.2.86|      172.0.0.1|          1|     540|      0|              2|2013-04-03 06:36:09|2013-04-03 06:36:09|           1|\n",
            "|172.30.1.246|      172.0.0.1|         29|    2610|   2610|              0|2013-04-03 00:26:46|2013-04-03 23:06:00|          29|\n",
            "| 172.30.1.51|239.255.255.250|         16|    3850|      0|             18|2013-04-03 06:35:22|2013-04-03 06:44:08|          16|\n",
            "| 172.10.1.35|      172.0.0.1|          1|     270|      0|              0|2013-04-03 06:36:21|2013-04-03 06:36:21|           1|\n",
            "| 172.20.1.91|239.255.255.250|         19|    3675|      0|              6|2013-04-03 06:36:50|2013-04-03 06:36:59|          19|\n",
            "|172.20.1.249|239.255.255.250|          2|     700|      0|              6|2013-04-03 06:37:17|2013-04-03 06:37:23|           2|\n",
            "|172.10.1.232|      172.0.0.1|         30|    3060|   3060|             48|2013-04-03 01:31:31|2013-04-03 22:53:36|          30|\n",
            "|172.10.1.238|239.255.255.250|          2|     700|      0|              6|2013-04-03 06:36:44|2013-04-03 06:36:51|           2|\n",
            "|172.10.2.137|      172.0.0.1|         28|    2520|   2250|              0|2013-04-03 01:10:48|2013-04-03 23:15:00|          28|\n",
            "|172.30.1.131|       10.0.0.5|         83|   37545|  52348|              2|2013-04-03 06:48:00|2013-04-03 12:01:20|          83|\n",
            "|172.30.1.200|       10.0.0.6|         70|   31548|  44024|              2|2013-04-03 06:48:03|2013-04-03 12:02:30|          70|\n",
            "|172.30.1.115|      10.0.0.14|         71|   32126|  44426|              2|2013-04-03 06:48:05|2013-04-03 11:49:25|          71|\n",
            "|172.30.2.145|       10.0.0.8|         61|   26564|  37118|              5|2013-04-03 06:48:09|2013-04-03 12:12:36|          61|\n",
            "|172.30.1.112|       10.0.0.5|         72|   32562|  45450|             19|2013-04-03 06:48:09|2013-04-03 11:44:06|          72|\n",
            "|172.30.1.239|      10.0.0.11|        120|   53980|  74810|              0|2013-04-03 06:49:20|2013-04-03 14:51:26|         120|\n",
            "|172.20.1.246|      10.0.0.13|        111|   50348|  68303|             58|2013-04-03 06:49:22|2013-04-03 15:03:48|         111|\n",
            "|172.30.2.146|      10.0.0.10|         68|   30480|  42357|              7|2013-04-03 06:48:46|2013-04-03 12:06:50|          68|\n",
            "|172.10.1.151|      10.1.0.76|         64|   29414|  40458|             17|2013-04-03 06:48:37|2013-04-03 14:59:43|          64|\n",
            "+------------+---------------+-----------+--------+-------+---------------+-------------------+-------------------+------------+\n",
            "only showing top 20 rows\n",
            "\n",
            "CPU times: user 55.7 ms, sys: 38 ms, total: 93.6 ms\n",
            "Wall time: 2min 28s\n"
          ],
          "name": "stdout"
        }
      ]
    }
  ]
}