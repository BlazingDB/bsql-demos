{
 "cells": [
  {
   "cell_type": "markdown",
   "metadata": {
    "colab_type": "text",
    "id": "kJyD4oSbugE0"
   },
   "source": [
    "# Graphistry Netflow Demo\n",
    "\n",
    "In this example we are taking millions of rows of netflow (network traffic flow) data in order to search for anomalous activity within a network. We will query 20M rows of network security data (netflow) with BlazingSQL and pass it to Graphistry for visualization."
   ]
  },
  {
   "cell_type": "markdown",
   "metadata": {
    "colab_type": "text",
    "id": "4guM6G87ul8e"
   },
   "source": [
    "## Download CSV\n",
    "\n",
    "The cell below will download the data for this demo from AWS and store it locally as `nf-chunk2.csv`. "
   ]
  },
  {
   "cell_type": "code",
   "execution_count": 1,
   "metadata": {
    "colab": {
     "base_uri": "https://localhost:8080/",
     "height": 208
    },
    "colab_type": "code",
    "id": "F6teFkVGufUf",
    "outputId": "42fedd97-8baf-4d1a-ea41-95602cd8cb11"
   },
   "outputs": [
    {
     "name": "stdout",
     "output_type": "stream",
     "text": [
      "--2019-11-15 05:53:37--  https://blazingsql-colab.s3.amazonaws.com/netflow_data/nf-chunk2.csv\n",
      "Resolving blazingsql-colab.s3.amazonaws.com (blazingsql-colab.s3.amazonaws.com)... 52.217.41.36\n",
      "Connecting to blazingsql-colab.s3.amazonaws.com (blazingsql-colab.s3.amazonaws.com)|52.217.41.36|:443... connected.\n",
      "HTTP request sent, awaiting response... 200 OK\n",
      "Length: 2725056295 (2.5G) [text/csv]\n",
      "Saving to: ‘nf-chunk2.csv’\n",
      "\n",
      "nf-chunk2.csv       100%[===================>]   2.54G  40.5MB/s    in 68s     \n",
      "\n",
      "2019-11-15 05:54:46 (38.1 MB/s) - ‘nf-chunk2.csv’ saved [2725056295/2725056295]\n",
      "\n"
     ]
    }
   ],
   "source": [
    "!wget https://blazingsql-colab.s3.amazonaws.com/netflow_data/nf-chunk2.csv"
   ]
  },
  {
   "cell_type": "markdown",
   "metadata": {},
   "source": [
    "## Blazing Context\n",
    "Here we are importing cuDF and BlazingContext. You can think of the BlazingContext much like a Spark Context (i.e. where information such as FileSystems you have registered and Tables you have created will be stored). If you have issues running this cell, restart runtime and try running it again."
   ]
  },
  {
   "cell_type": "code",
   "execution_count": 2,
   "metadata": {
    "colab": {
     "base_uri": "https://localhost:8080/",
     "height": 69
    },
    "colab_type": "code",
    "id": "pqQ8lqL8vb-8",
    "outputId": "4e5ebc46-6319-4d3a-851c-7d6a2ac2825d"
   },
   "outputs": [
    {
     "name": "stdout",
     "output_type": "stream",
     "text": [
      "BlazingContext ready\n"
     ]
    }
   ],
   "source": [
    "from blazingsql import BlazingContext\n",
    "import cudf\n",
    "\n",
    "bc = BlazingContext()"
   ]
  },
  {
   "cell_type": "markdown",
   "metadata": {
    "colab_type": "text",
    "id": "yp7z8bfivbna"
   },
   "source": [
    "### Load & Query Tables\n",
    "\n",
    "In the cell below, we are first loading the CSV file into a GPU DataFrame (gdf), and then creating tables so that we can run SQL queries on those GDFs. \n",
    "\n",
    "Note: when you create a table off of a GDF there is no copy, it is merely registering the schema."
   ]
  },
  {
   "cell_type": "code",
   "execution_count": 3,
   "metadata": {},
   "outputs": [
    {
     "name": "stdout",
     "output_type": "stream",
     "text": [
      "CPU times: user 3 µs, sys: 1e+03 ns, total: 4 µs\n",
      "Wall time: 7.39 µs\n"
     ]
    }
   ],
   "source": [
    "%time\n",
    "# cudf gpu dataframe from csv \n",
    "gdf = cudf.read_csv('nf-chunk2.csv')"
   ]
  },
  {
   "cell_type": "code",
   "execution_count": 4,
   "metadata": {
    "colab": {},
    "colab_type": "code",
    "id": "lU-2wlwQntnq"
   },
   "outputs": [
    {
     "name": "stdout",
     "output_type": "stream",
     "text": [
      "CPU times: user 3 µs, sys: 1 µs, total: 4 µs\n",
      "Wall time: 6.68 µs\n"
     ]
    },
    {
     "data": {
      "text/plain": [
       "<pyblazing.apiv2.sql.Table at 0x7f0098759fd0>"
      ]
     },
     "execution_count": 4,
     "metadata": {},
     "output_type": "execute_result"
    }
   ],
   "source": [
    "%time\n",
    "# blazingsql table from gpu dataframe\n",
    "bc.create_table('netflow', gdf)"
   ]
  },
  {
   "cell_type": "markdown",
   "metadata": {
    "colab_type": "text",
    "id": "cgivbut9df-R"
   },
   "source": [
    "#### Query\n",
    "With the table made, we can simply run a SQL query.\n",
    "\n",
    "We are going to run some joins and aggregations in order to condese these millions of rows into thousands of rows that represent nodes and edges."
   ]
  },
  {
   "cell_type": "code",
   "execution_count": 5,
   "metadata": {
    "colab": {
     "base_uri": "https://localhost:8080/",
     "height": 277
    },
    "colab_type": "code",
    "id": "umBG2Tp0wbQx",
    "outputId": "b89e3666-f85a-40e9-e7c4-cda9a80b7fe5"
   },
   "outputs": [
    {
     "name": "stdout",
     "output_type": "stream",
     "text": [
      "CPU times: user 28.9 ms, sys: 4.25 ms, total: 33.1 ms\n",
      "Wall time: 1.84 s\n"
     ]
    }
   ],
   "source": [
    "%%time\n",
    "# what are we looking for \n",
    "query = '''\n",
    "        SELECT\n",
    "            a.firstSeenSrcIp as source,\n",
    "            a.firstSeenDestIp as destination,\n",
    "            count(a.firstSeenDestPort) as targetPorts,\n",
    "            SUM(a.firstSeenSrcTotalBytes) as bytesOut,\n",
    "            SUM(a.firstSeenDestTotalBytes) as bytesIn,\n",
    "            SUM(a.durationSeconds) as durationSeconds,\n",
    "            MIN(parsedDate) as firstFlowDate,\n",
    "            MAX(parsedDate) as lastFlowDate,\n",
    "            COUNT(*) as attemptCount\n",
    "        FROM\n",
    "            netflow a\n",
    "        GROUP BY\n",
    "            a.firstSeenSrcIp,\n",
    "            a.firstSeenDestIp\n",
    "        '''\n",
    "\n",
    "# run sql query\n",
    "result = bc.sql(query).get()\n",
    "\n",
    "# extract cudf dataframe from query result\n",
    "gdf = result.columns"
   ]
  },
  {
   "cell_type": "code",
   "execution_count": 6,
   "metadata": {},
   "outputs": [
    {
     "data": {
      "text/html": [
       "<div>\n",
       "<style scoped>\n",
       "    .dataframe tbody tr th:only-of-type {\n",
       "        vertical-align: middle;\n",
       "    }\n",
       "\n",
       "    .dataframe tbody tr th {\n",
       "        vertical-align: top;\n",
       "    }\n",
       "\n",
       "    .dataframe thead th {\n",
       "        text-align: right;\n",
       "    }\n",
       "</style>\n",
       "<table border=\"1\" class=\"dataframe\">\n",
       "  <thead>\n",
       "    <tr style=\"text-align: right;\">\n",
       "      <th></th>\n",
       "      <th>source</th>\n",
       "      <th>destination</th>\n",
       "      <th>targetPorts</th>\n",
       "      <th>bytesOut</th>\n",
       "      <th>bytesIn</th>\n",
       "      <th>durationSeconds</th>\n",
       "      <th>firstFlowDate</th>\n",
       "      <th>lastFlowDate</th>\n",
       "      <th>attemptCount</th>\n",
       "    </tr>\n",
       "  </thead>\n",
       "  <tbody>\n",
       "    <tr>\n",
       "      <th>0</th>\n",
       "      <td>172.10.1.234</td>\n",
       "      <td>10.0.0.5</td>\n",
       "      <td>104</td>\n",
       "      <td>47287</td>\n",
       "      <td>64750</td>\n",
       "      <td>18</td>\n",
       "      <td>2013-04-03 06:53:55</td>\n",
       "      <td>2013-04-03 15:11:07</td>\n",
       "      <td>104</td>\n",
       "    </tr>\n",
       "    <tr>\n",
       "      <th>1</th>\n",
       "      <td>172.30.1.85</td>\n",
       "      <td>10.0.0.8</td>\n",
       "      <td>84</td>\n",
       "      <td>37828</td>\n",
       "      <td>52864</td>\n",
       "      <td>3</td>\n",
       "      <td>2013-04-03 06:48:21</td>\n",
       "      <td>2013-04-03 12:06:53</td>\n",
       "      <td>84</td>\n",
       "    </tr>\n",
       "    <tr>\n",
       "      <th>2</th>\n",
       "      <td>172.30.1.10</td>\n",
       "      <td>10.0.0.12</td>\n",
       "      <td>69</td>\n",
       "      <td>31042</td>\n",
       "      <td>43044</td>\n",
       "      <td>25</td>\n",
       "      <td>2013-04-03 06:48:01</td>\n",
       "      <td>2013-04-03 12:11:40</td>\n",
       "      <td>69</td>\n",
       "    </tr>\n",
       "    <tr>\n",
       "      <th>3</th>\n",
       "      <td>172.10.1.89</td>\n",
       "      <td>10.0.0.5</td>\n",
       "      <td>112</td>\n",
       "      <td>51222</td>\n",
       "      <td>70260</td>\n",
       "      <td>24</td>\n",
       "      <td>2013-04-03 06:48:24</td>\n",
       "      <td>2013-04-03 15:17:39</td>\n",
       "      <td>112</td>\n",
       "    </tr>\n",
       "    <tr>\n",
       "      <th>4</th>\n",
       "      <td>172.30.2.60</td>\n",
       "      <td>10.0.0.9</td>\n",
       "      <td>82</td>\n",
       "      <td>34839</td>\n",
       "      <td>47716</td>\n",
       "      <td>134</td>\n",
       "      <td>2013-04-03 06:48:47</td>\n",
       "      <td>2013-04-03 12:12:37</td>\n",
       "      <td>82</td>\n",
       "    </tr>\n",
       "    <tr>\n",
       "      <th>5</th>\n",
       "      <td>172.10.1.162</td>\n",
       "      <td>10.0.0.11</td>\n",
       "      <td>87</td>\n",
       "      <td>39628</td>\n",
       "      <td>53983</td>\n",
       "      <td>24</td>\n",
       "      <td>2013-04-03 06:50:13</td>\n",
       "      <td>2013-04-03 14:58:35</td>\n",
       "      <td>87</td>\n",
       "    </tr>\n",
       "    <tr>\n",
       "      <th>6</th>\n",
       "      <td>172.30.1.56</td>\n",
       "      <td>172.0.0.1</td>\n",
       "      <td>25</td>\n",
       "      <td>3330</td>\n",
       "      <td>3240</td>\n",
       "      <td>67</td>\n",
       "      <td>2013-04-03 01:59:09</td>\n",
       "      <td>2013-04-03 22:05:39</td>\n",
       "      <td>25</td>\n",
       "    </tr>\n",
       "    <tr>\n",
       "      <th>7</th>\n",
       "      <td>172.20.1.58</td>\n",
       "      <td>10.7.5.5</td>\n",
       "      <td>49</td>\n",
       "      <td>3041309</td>\n",
       "      <td>116400561</td>\n",
       "      <td>2091</td>\n",
       "      <td>2013-04-03 10:12:27</td>\n",
       "      <td>2013-04-03 11:20:09</td>\n",
       "      <td>49</td>\n",
       "    </tr>\n",
       "    <tr>\n",
       "      <th>8</th>\n",
       "      <td>172.30.2.125</td>\n",
       "      <td>10.0.0.9</td>\n",
       "      <td>69</td>\n",
       "      <td>30701</td>\n",
       "      <td>41558</td>\n",
       "      <td>341</td>\n",
       "      <td>2013-04-03 06:50:50</td>\n",
       "      <td>2013-04-03 12:12:37</td>\n",
       "      <td>69</td>\n",
       "    </tr>\n",
       "    <tr>\n",
       "      <th>9</th>\n",
       "      <td>172.10.1.106</td>\n",
       "      <td>10.199.250.2</td>\n",
       "      <td>40</td>\n",
       "      <td>66638</td>\n",
       "      <td>2863884</td>\n",
       "      <td>24</td>\n",
       "      <td>2013-04-03 07:19:02</td>\n",
       "      <td>2013-04-03 10:12:35</td>\n",
       "      <td>40</td>\n",
       "    </tr>\n",
       "  </tbody>\n",
       "</table>\n",
       "</div>"
      ],
      "text/plain": [
       "         source   destination  targetPorts  bytesOut    bytesIn  \\\n",
       "0  172.10.1.234      10.0.0.5          104     47287      64750   \n",
       "1   172.30.1.85      10.0.0.8           84     37828      52864   \n",
       "2   172.30.1.10     10.0.0.12           69     31042      43044   \n",
       "3   172.10.1.89      10.0.0.5          112     51222      70260   \n",
       "4   172.30.2.60      10.0.0.9           82     34839      47716   \n",
       "5  172.10.1.162     10.0.0.11           87     39628      53983   \n",
       "6   172.30.1.56     172.0.0.1           25      3330       3240   \n",
       "7   172.20.1.58      10.7.5.5           49   3041309  116400561   \n",
       "8  172.30.2.125      10.0.0.9           69     30701      41558   \n",
       "9  172.10.1.106  10.199.250.2           40     66638    2863884   \n",
       "\n",
       "   durationSeconds        firstFlowDate         lastFlowDate  attemptCount  \n",
       "0               18  2013-04-03 06:53:55  2013-04-03 15:11:07           104  \n",
       "1                3  2013-04-03 06:48:21  2013-04-03 12:06:53            84  \n",
       "2               25  2013-04-03 06:48:01  2013-04-03 12:11:40            69  \n",
       "3               24  2013-04-03 06:48:24  2013-04-03 15:17:39           112  \n",
       "4              134  2013-04-03 06:48:47  2013-04-03 12:12:37            82  \n",
       "5               24  2013-04-03 06:50:13  2013-04-03 14:58:35            87  \n",
       "6               67  2013-04-03 01:59:09  2013-04-03 22:05:39            25  \n",
       "7             2091  2013-04-03 10:12:27  2013-04-03 11:20:09            49  \n",
       "8              341  2013-04-03 06:50:50  2013-04-03 12:12:37            69  \n",
       "9               24  2013-04-03 07:19:02  2013-04-03 10:12:35            40  "
      ]
     },
     "execution_count": 6,
     "metadata": {},
     "output_type": "execute_result"
    }
   ],
   "source": [
    "# how do the results look?\n",
    "gdf.head(10)"
   ]
  }
 ],
 "metadata": {
  "file_extension": ".py",
  "kernelspec": {
   "display_name": "Python 3",
   "language": "python",
   "name": "python3"
  },
  "language_info": {
   "codemirror_mode": {
    "name": "ipython",
    "version": 3
   },
   "file_extension": ".py",
   "mimetype": "text/x-python",
   "name": "python",
   "nbconvert_exporter": "python",
   "pygments_lexer": "ipython3",
   "version": "3.7.3"
  },
  "mimetype": "text/x-python",
  "name": "python",
  "npconvert_exporter": "python",
  "pygments_lexer": "ipython3",
  "version": 3
 },
 "nbformat": 4,
 "nbformat_minor": 2
}
