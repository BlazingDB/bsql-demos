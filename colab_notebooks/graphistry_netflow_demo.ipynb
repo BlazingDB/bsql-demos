{
 "cells": [
  {
   "cell_type": "markdown",
   "metadata": {
    "colab_type": "text",
    "id": "kJyD4oSbugE0"
   },
   "source": [
    "# Graphistry Netflow Demo\n",
    "\n",
    "In this example we are taking millions of rows of netflow (network traffic flow) data in order to search for anomalous activity within a network.\n",
    "\n",
    "In this notebook, we will: \n",
    "- Set up [BlazingSQL](https://blazingsql.com) and the [RAPIDS AI](https://rapids.ai/) suite.\n",
    "- Query 20M rows of network security data (netflow) with BlazingSQL and then pass to Graphistry to visualize and interact with the data.\n",
    "![Impression](https://www.google-analytics.com/collect?v=1&tid=UA-39814657-5&cid=555&t=event&ec=guides&ea=graphistry-netflow-demo&dt=graphistry-netflow-demo)"
   ]
  },
  {
   "cell_type": "markdown",
   "metadata": {},
   "source": [
    "## Setup\n",
    "### Environment Sanity Check \n",
    "\n",
    "RAPIDS packages (BlazingSQL included) require Pascal+ architecture to run. For Colab, this translates to a T4 GPU instance. \n",
    "\n",
    "The cell below will let you know what type of GPU you've been allocated, and how to proceed."
   ]
  },
  {
   "cell_type": "code",
   "execution_count": 1,
   "metadata": {
    "colab": {
     "base_uri": "https://localhost:8080/",
     "height": 312
    },
    "colab_type": "code",
    "id": "zxhxwrfI7aoT",
    "outputId": "0880eafa-a0b1-4f39-d3dc-bab9d4e8b127"
   },
   "outputs": [
    {
     "name": "stdout",
     "output_type": "stream",
     "text": [
      "\n",
      "\n",
      "***********************************\n",
      "GPU = b'Tesla T4'\n",
      "Woo! You got the right kind of GPU!\n",
      "***********************************\n",
      "\n",
      "\n"
     ]
    }
   ],
   "source": [
    "!wget https://github.com/BlazingDB/bsql-demos/raw/master/utils/colab_env.py\n",
    "!python colab_env.py "
   ]
  },
  {
   "cell_type": "markdown",
   "metadata": {},
   "source": [
    "## Installs \n",
    "The cell below pulls our Google Colab install script from the `bsql-demos` repo then runs it. The script first installs miniconda, then uses miniconda to install BlazingSQL and RAPIDS AI. This takes a few minutes to run. "
   ]
  },
  {
   "cell_type": "code",
   "execution_count": 3,
   "metadata": {
    "colab": {
     "base_uri": "https://localhost:8080/",
     "height": 35
    },
    "colab_type": "code",
    "id": "a7RprJxtZZtQ",
    "outputId": "5ed256e4-93ee-4295-914d-c5c75c9d6059"
   },
   "outputs": [],
   "source": [
    "!wget https://github.com/BlazingDB/bsql-demos/raw/master/utils/bsql-colab.sh \n",
    "!bash bsql-colab.sh\n",
    "\n",
    "import sys, os, time\n",
    "sys.path.append('/usr/local/lib/python3.6/site-packages/')\n",
    "os.environ['NUMBAPRO_NVVM'] = '/usr/local/cuda/nvvm/lib64/libnvvm.so'\n",
    "os.environ['NUMBAPRO_LIBDEVICE'] = '/usr/local/cuda/nvvm/libdevice/'\n",
    "\n",
    "import subprocess\n",
    "subprocess.Popen(['blazingsql-orchestrator', '9100', '8889', '127.0.0.1', '8890'],stdin=subprocess.PIPE, stdout=subprocess.PIPE, stderr=subprocess.STDOUT)\n",
    "subprocess.Popen(['java', '-jar', '/usr/local/lib/blazingsql-algebra.jar', '-p', '8890'])\n",
    "\n",
    "import pyblazing.apiv2.context as cont\n",
    "cont.runRal()\n",
    "time.sleep(1) \n",
    "!wget https://github.com/BlazingDB/bsql-demos/raw/master/utils/colab_env.py\n",
    "!python colab_env.py "
   ]
  },
  {
   "cell_type": "markdown",
   "metadata": {
    "colab_type": "text",
    "id": "4guM6G87ul8e"
   },
   "source": [
    "## Download CSV\n",
    "\n",
    "The cell below will download the data for this demo from AWS and store it locally as `nf-chunk2.csv`. "
   ]
  },
  {
   "cell_type": "code",
   "execution_count": null,
   "metadata": {
    "colab": {
     "base_uri": "https://localhost:8080/",
     "height": 208
    },
    "colab_type": "code",
    "id": "F6teFkVGufUf",
    "outputId": "42fedd97-8baf-4d1a-ea41-95602cd8cb11"
   },
   "outputs": [
    {
     "name": "stdout",
     "output_type": "stream",
     "text": [
      "--2019-08-23 21:43:50--  https://blazingsql-colab.s3.amazonaws.com/netflow_data/nf-chunk2.csv\n",
      "Resolving blazingsql-colab.s3.amazonaws.com (blazingsql-colab.s3.amazonaws.com)... 52.216.137.76\n",
      "Connecting to blazingsql-colab.s3.amazonaws.com (blazingsql-colab.s3.amazonaws.com)|52.216.137.76|:443... connected.\n",
      "HTTP request sent, awaiting response... 200 OK\n",
      "Length: 2725056295 (2.5G) [text/csv]\n",
      "Saving to: ‘nf-chunk2.csv’\n",
      "\n",
      "nf-chunk2.csv       100%[===================>]   2.54G  49.2MB/s    in 56s     \n",
      "\n",
      "2019-08-23 21:44:46 (46.2 MB/s) - ‘nf-chunk2.csv’ saved [2725056295/2725056295]\n",
      "\n"
     ]
    }
   ],
   "source": [
    "!wget https://blazingsql-colab.s3.amazonaws.com/netflow_data/nf-chunk2.csv"
   ]
  },
  {
   "cell_type": "markdown",
   "metadata": {},
   "source": [
    "## Blazing Context\n",
    "Here we are importing cuDF and BlazingContext. You can think of the BlazingContext much like a Spark Context (i.e. where information such as FileSystems you have registered and Tables you have created will be stored). If you have issues running this cell, restart runtime and try running it again."
   ]
  },
  {
   "cell_type": "code",
   "execution_count": 1,
   "metadata": {
    "colab": {
     "base_uri": "https://localhost:8080/",
     "height": 69
    },
    "colab_type": "code",
    "id": "pqQ8lqL8vb-8",
    "outputId": "4e5ebc46-6319-4d3a-851c-7d6a2ac2825d"
   },
   "outputs": [
    {
     "name": "stdout",
     "output_type": "stream",
     "text": [
      "BlazingContext ready\n"
     ]
    }
   ],
   "source": [
    "from blazingsql import BlazingContext\n",
    "import cudf\n",
    "# start up BlazingSQL\n",
    "bc = BlazingContext()"
   ]
  },
  {
   "cell_type": "markdown",
   "metadata": {
    "colab_type": "text",
    "id": "yp7z8bfivbna"
   },
   "source": [
    "### Load & Query Tables\n",
    "\n",
    "In the cell below, we are first loading the CSV file into a GPU DataFrame (gdf), and then creating tables so that we can run SQL queries on those GDFs. \n",
    "\n",
    "Note: when you create a table off of a GDF there is no copy, it is merely registering the schema."
   ]
  },
  {
   "cell_type": "code",
   "execution_count": 2,
   "metadata": {
    "colab": {},
    "colab_type": "code",
    "id": "lU-2wlwQntnq"
   },
   "outputs": [
    {
     "data": {
      "text/plain": [
       "<pyblazing.apiv2.sql.Table at 0x7f59488bceb8>"
      ]
     },
     "execution_count": 2,
     "metadata": {},
     "output_type": "execute_result"
    }
   ],
   "source": [
    "# Load CSVs into GPU DataFrames (gdf)\n",
    "netflow_gdf = cudf.read_csv('nf-chunk2.csv')\n",
    "\n",
    "# Create BlazingSQL Tables - There is no copy in this process\n",
    "bc.create_table('netflow', netflow_gdf)"
   ]
  },
  {
   "cell_type": "markdown",
   "metadata": {
    "colab_type": "text",
    "id": "cgivbut9df-R"
   },
   "source": [
    "#### Query\n",
    "With the table made, we can simply run a SQL query.\n",
    "\n",
    "We are going to run some joins and aggregations in order to condese these millions of rows into thousands of rows that represent nodes and edges."
   ]
  },
  {
   "cell_type": "code",
   "execution_count": 3,
   "metadata": {
    "colab": {
     "base_uri": "https://localhost:8080/",
     "height": 277
    },
    "colab_type": "code",
    "id": "umBG2Tp0wbQx",
    "outputId": "b89e3666-f85a-40e9-e7c4-cda9a80b7fe5"
   },
   "outputs": [
    {
     "name": "stdout",
     "output_type": "stream",
     "text": [
      "CPU times: user 32.3 ms, sys: 453 µs, total: 32.8 ms\n",
      "Wall time: 438 ms\n"
     ]
    }
   ],
   "source": [
    "%%time\n",
    "# make a query\n",
    "query = '''\n",
    "        SELECT\n",
    "            a.firstSeenSrcIp as source,\n",
    "            a.firstSeenDestIp as destination,\n",
    "            count(a.firstSeenDestPort) as targetPorts,\n",
    "            SUM(a.firstSeenSrcTotalBytes) as bytesOut,\n",
    "            SUM(a.firstSeenDestTotalBytes) as bytesIn,\n",
    "            SUM(a.durationSeconds) as durationSeconds,\n",
    "            MIN(parsedDate) as firstFlowDate,\n",
    "            MAX(parsedDate) as lastFlowDate,\n",
    "            COUNT(*) as attemptCount\n",
    "        FROM\n",
    "            netflow a\n",
    "        GROUP BY\n",
    "            a.firstSeenSrcIp,\n",
    "            a.firstSeenDestIp\n",
    "            '''\n",
    "\n",
    "# query the table\n",
    "gdf = bc.sql(query)"
   ]
  },
  {
   "cell_type": "code",
   "execution_count": 4,
   "metadata": {},
   "outputs": [
    {
     "data": {
      "text/html": [
       "<div>\n",
       "<style scoped>\n",
       "    .dataframe tbody tr th:only-of-type {\n",
       "        vertical-align: middle;\n",
       "    }\n",
       "\n",
       "    .dataframe tbody tr th {\n",
       "        vertical-align: top;\n",
       "    }\n",
       "\n",
       "    .dataframe thead th {\n",
       "        text-align: right;\n",
       "    }\n",
       "</style>\n",
       "<table border=\"1\" class=\"dataframe\">\n",
       "  <thead>\n",
       "    <tr style=\"text-align: right;\">\n",
       "      <th></th>\n",
       "      <th>source</th>\n",
       "      <th>destination</th>\n",
       "      <th>targetPorts</th>\n",
       "      <th>bytesOut</th>\n",
       "      <th>bytesIn</th>\n",
       "      <th>durationSeconds</th>\n",
       "      <th>firstFlowDate</th>\n",
       "      <th>lastFlowDate</th>\n",
       "      <th>attemptCount</th>\n",
       "    </tr>\n",
       "  </thead>\n",
       "  <tbody>\n",
       "    <tr>\n",
       "      <th>0</th>\n",
       "      <td>172.10.1.226</td>\n",
       "      <td>239.255.255.250</td>\n",
       "      <td>3</td>\n",
       "      <td>875</td>\n",
       "      <td>0</td>\n",
       "      <td>6</td>\n",
       "      <td>2013-04-03 06:36:44</td>\n",
       "      <td>2013-04-03 06:36:51</td>\n",
       "      <td>3</td>\n",
       "    </tr>\n",
       "    <tr>\n",
       "      <th>1</th>\n",
       "      <td>172.30.1.200</td>\n",
       "      <td>239.255.255.250</td>\n",
       "      <td>9</td>\n",
       "      <td>2275</td>\n",
       "      <td>0</td>\n",
       "      <td>12</td>\n",
       "      <td>2013-04-03 06:35:52</td>\n",
       "      <td>2013-04-03 06:43:26</td>\n",
       "      <td>9</td>\n",
       "    </tr>\n",
       "    <tr>\n",
       "      <th>2</th>\n",
       "      <td>172.30.1.225</td>\n",
       "      <td>172.0.0.1</td>\n",
       "      <td>1</td>\n",
       "      <td>90</td>\n",
       "      <td>90</td>\n",
       "      <td>0</td>\n",
       "      <td>2013-04-03 06:36:14</td>\n",
       "      <td>2013-04-03 06:36:14</td>\n",
       "      <td>1</td>\n",
       "    </tr>\n",
       "    <tr>\n",
       "      <th>3</th>\n",
       "      <td>172.30.1.46</td>\n",
       "      <td>239.255.255.250</td>\n",
       "      <td>17</td>\n",
       "      <td>4025</td>\n",
       "      <td>0</td>\n",
       "      <td>18</td>\n",
       "      <td>2013-04-03 06:35:22</td>\n",
       "      <td>2013-04-03 06:44:08</td>\n",
       "      <td>17</td>\n",
       "    </tr>\n",
       "    <tr>\n",
       "      <th>4</th>\n",
       "      <td>172.20.2.71</td>\n",
       "      <td>239.255.255.250</td>\n",
       "      <td>3</td>\n",
       "      <td>875</td>\n",
       "      <td>0</td>\n",
       "      <td>6</td>\n",
       "      <td>2013-04-03 06:37:11</td>\n",
       "      <td>2013-04-03 06:37:18</td>\n",
       "      <td>3</td>\n",
       "    </tr>\n",
       "    <tr>\n",
       "      <th>5</th>\n",
       "      <td>172.10.1.233</td>\n",
       "      <td>172.0.0.1</td>\n",
       "      <td>1</td>\n",
       "      <td>180</td>\n",
       "      <td>180</td>\n",
       "      <td>0</td>\n",
       "      <td>2013-04-03 06:36:45</td>\n",
       "      <td>2013-04-03 06:36:45</td>\n",
       "      <td>1</td>\n",
       "    </tr>\n",
       "    <tr>\n",
       "      <th>6</th>\n",
       "      <td>172.30.1.102</td>\n",
       "      <td>10.0.0.10</td>\n",
       "      <td>1</td>\n",
       "      <td>454</td>\n",
       "      <td>633</td>\n",
       "      <td>0</td>\n",
       "      <td>2013-04-03 06:48:05</td>\n",
       "      <td>2013-04-03 06:48:05</td>\n",
       "      <td>1</td>\n",
       "    </tr>\n",
       "    <tr>\n",
       "      <th>7</th>\n",
       "      <td>172.20.1.39</td>\n",
       "      <td>239.255.255.250</td>\n",
       "      <td>1</td>\n",
       "      <td>525</td>\n",
       "      <td>0</td>\n",
       "      <td>6</td>\n",
       "      <td>2013-04-03 06:36:59</td>\n",
       "      <td>2013-04-03 06:36:59</td>\n",
       "      <td>1</td>\n",
       "    </tr>\n",
       "    <tr>\n",
       "      <th>8</th>\n",
       "      <td>172.10.1.96</td>\n",
       "      <td>172.0.0.1</td>\n",
       "      <td>1</td>\n",
       "      <td>180</td>\n",
       "      <td>0</td>\n",
       "      <td>0</td>\n",
       "      <td>2013-04-03 06:36:21</td>\n",
       "      <td>2013-04-03 06:36:21</td>\n",
       "      <td>1</td>\n",
       "    </tr>\n",
       "    <tr>\n",
       "      <th>9</th>\n",
       "      <td>172.20.1.2</td>\n",
       "      <td>239.255.255.250</td>\n",
       "      <td>19</td>\n",
       "      <td>3675</td>\n",
       "      <td>0</td>\n",
       "      <td>6</td>\n",
       "      <td>2013-04-03 06:36:50</td>\n",
       "      <td>2013-04-03 06:36:59</td>\n",
       "      <td>19</td>\n",
       "    </tr>\n",
       "  </tbody>\n",
       "</table>\n",
       "</div>"
      ],
      "text/plain": [
       "         source      destination  targetPorts  bytesOut  bytesIn  \\\n",
       "0  172.10.1.226  239.255.255.250            3       875        0   \n",
       "1  172.30.1.200  239.255.255.250            9      2275        0   \n",
       "2  172.30.1.225        172.0.0.1            1        90       90   \n",
       "3   172.30.1.46  239.255.255.250           17      4025        0   \n",
       "4   172.20.2.71  239.255.255.250            3       875        0   \n",
       "5  172.10.1.233        172.0.0.1            1       180      180   \n",
       "6  172.30.1.102        10.0.0.10            1       454      633   \n",
       "7   172.20.1.39  239.255.255.250            1       525        0   \n",
       "8   172.10.1.96        172.0.0.1            1       180        0   \n",
       "9    172.20.1.2  239.255.255.250           19      3675        0   \n",
       "\n",
       "   durationSeconds        firstFlowDate         lastFlowDate  attemptCount  \n",
       "0                6  2013-04-03 06:36:44  2013-04-03 06:36:51             3  \n",
       "1               12  2013-04-03 06:35:52  2013-04-03 06:43:26             9  \n",
       "2                0  2013-04-03 06:36:14  2013-04-03 06:36:14             1  \n",
       "3               18  2013-04-03 06:35:22  2013-04-03 06:44:08            17  \n",
       "4                6  2013-04-03 06:37:11  2013-04-03 06:37:18             3  \n",
       "5                0  2013-04-03 06:36:45  2013-04-03 06:36:45             1  \n",
       "6                0  2013-04-03 06:48:05  2013-04-03 06:48:05             1  \n",
       "7                6  2013-04-03 06:36:59  2013-04-03 06:36:59             1  \n",
       "8                0  2013-04-03 06:36:21  2013-04-03 06:36:21             1  \n",
       "9                6  2013-04-03 06:36:50  2013-04-03 06:36:59            19  "
      ]
     },
     "execution_count": 4,
     "metadata": {},
     "output_type": "execute_result"
    }
   ],
   "source": [
    "# how's the dataframe look?\n",
    "gdf.head(10)"
   ]
  }
 ],
 "metadata": {
  "file_extension": ".py",
  "kernelspec": {
   "display_name": "Python 3",
   "language": "python",
   "name": "python3"
  },
  "language_info": {
   "codemirror_mode": {
    "name": "ipython",
    "version": 3
   },
   "file_extension": ".py",
   "mimetype": "text/x-python",
   "name": "python",
   "nbconvert_exporter": "python",
   "pygments_lexer": "ipython3",
   "version": "3.6.7"
  },
  "mimetype": "text/x-python",
  "name": "python",
  "npconvert_exporter": "python",
  "pygments_lexer": "ipython3",
  "version": 3
 },
 "nbformat": 4,
 "nbformat_minor": 2
}
