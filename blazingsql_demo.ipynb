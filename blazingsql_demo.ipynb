{
  "nbformat": 4,
  "nbformat_minor": 0,
  "metadata": {
    "colab": {
      "name": "blazingsql_demo.ipynb",
      "provenance": [],
      "collapsed_sections": []
    },
    "kernelspec": {
      "name": "python3",
      "display_name": "Python 3"
    },
    "accelerator": "GPU"
  },
  "cells": [
    {
      "cell_type": "markdown",
      "metadata": {
        "id": "8AdUt3HiUrc3",
        "colab_type": "text"
      },
      "source": [
        "# 10 minutes to BlazingSQL\n",
        "\n",
        "![BlazingSQL](https://raw.githubusercontent.com/gumdropsteve/bsql-demos/getting_started/imgs/bsql_main.png)\n",
        "\n",
        "In this notebook, we will cover: \n",
        "- how to set up [`BlazingSQL`](https://blazingsql.com) and the [RAPIDS AI](https://rapids.ai/) suite \n",
        "- how to read and query csv files with `cuDF` and `BlazingSQL`\n"
      ]
    },
    {
      "cell_type": "markdown",
      "metadata": {
        "id": "_h26epJpUeZP",
        "colab_type": "text"
      },
      "source": [
        "## Setup\n",
        "### Environment Sanity Check \n",
        "\n",
        "- All RAPIDS packages (BlazingSQL included) require a T4 GPU instance to run in Google Colab\n",
        "  - The cell below will let you know what type of GPU you've been allocated, and how to proceed "
      ]
    },
    {
      "cell_type": "code",
      "metadata": {
        "id": "_lf6yKBoRYGy",
        "colab_type": "code",
        "outputId": "8e9f7e7e-b89f-49bd-fd3c-c435ffb55c9c",
        "colab": {
          "base_uri": "https://localhost:8080/",
          "height": 322
        }
      },
      "source": [
        "# tag specs\n",
        "colab_smi = !nvidia-smi\n",
        "# focus GPU type\n",
        "try:\n",
        "  my_gpu = ' '.join(colab_smi[7].split()[2:4])\n",
        "# not on gpu acceleration \n",
        "except:\n",
        "  raise Exception(\"\\nUnfortunately this instance does not have a T4 GPU.\\n\\n\"\n",
        "                  \"Please make sure you've configured Colab to request a GPU instance type.\\n\\n\"\n",
        "                  \"At top of Colab, try: Runtime -> Change runtime type -> Hardware accelerator -> GPU -> Save\\n\")\n",
        "\n",
        "# not allocated T4\n",
        "if my_gpu != b'Tesla T4':\n",
        "  # allocated K80\n",
        "  if my_gpu == 'Tesla K80':\n",
        "    raise Exception(\"\\nYou've been allocated a K80 instance\\n\\n\"\n",
        "                    \"Unfortunately, this demo requires a T4 instance\\n\\n\"\n",
        "                    \"At top of Colab, try: Runtime -> Reset all runtimes...\\n\")\n",
        "  else:\n",
        "    raise Exception(\"\\nYou've achieved wizardy.\\nPlease inform winston@blazingsql.com\")\n",
        "\n",
        "# allocated T4\n",
        "else:\n",
        "  print('Woo! You got the right kind of GPU!')"
      ],
      "execution_count": 16,
      "outputs": [
        {
          "output_type": "error",
          "ename": "Exception",
          "evalue": "ignored",
          "traceback": [
            "\u001b[0;31m---------------------------------------------------------------------------\u001b[0m",
            "\u001b[0;31mException\u001b[0m                                 Traceback (most recent call last)",
            "\u001b[0;32m<ipython-input-16-a316df21c7bc>\u001b[0m in \u001b[0;36m<module>\u001b[0;34m()\u001b[0m\n\u001b[1;32m     13\u001b[0m   \u001b[0;31m# allocated K80\u001b[0m\u001b[0;34m\u001b[0m\u001b[0;34m\u001b[0m\u001b[0;34m\u001b[0m\u001b[0m\n\u001b[1;32m     14\u001b[0m   \u001b[0;32mif\u001b[0m \u001b[0mmy_gpu\u001b[0m \u001b[0;34m==\u001b[0m \u001b[0;34m'Tesla K80'\u001b[0m\u001b[0;34m:\u001b[0m\u001b[0;34m\u001b[0m\u001b[0;34m\u001b[0m\u001b[0m\n\u001b[0;32m---> 15\u001b[0;31m     raise Exception(\"\\nYou've been allocated a K80 instance\\n\\n\"\n\u001b[0m\u001b[1;32m     16\u001b[0m                     \u001b[0;34m\"Unfortunately, this demo requires a T4 instance\\n\\n\"\u001b[0m\u001b[0;34m\u001b[0m\u001b[0;34m\u001b[0m\u001b[0m\n\u001b[1;32m     17\u001b[0m                     \"At top of Colab, try: Runtime -> Reset all runtimes...\\n\")\n",
            "\u001b[0;31mException\u001b[0m: \nYou've been allocated a K80 instance\n\nUnfortunately, this demo requires a T4 instance\n\nAt top of Colab, try: Runtime -> Reset all runtimes...\n"
          ]
        }
      ]
    },
    {
      "cell_type": "markdown",
      "metadata": {
        "id": "xM8xTlqeRi-g",
        "colab_type": "text"
      },
      "source": [
        "## Installs \n",
        "\n",
        "Below you will find three code blocks\n",
        "1. installs miniconda\n",
        "2. installs RAPIDS AI \n",
        "  - and sets up the system environment \n",
        "3. installs BlazingSQL\n",
        "\n",
        "### Miniconda"
      ]
    },
    {
      "cell_type": "code",
      "metadata": {
        "id": "gfWF_lG1HqV7",
        "colab_type": "code",
        "colab": {}
      },
      "source": [
        "# intall miniconda\n",
        "!wget -c https://repo.continuum.io/miniconda/Miniconda3-4.5.4-Linux-x86_64.sh\n",
        "!chmod +x Miniconda3-4.5.4-Linux-x86_64.sh\n",
        "!bash ./Miniconda3-4.5.4-Linux-x86_64.sh -b -f -p /usr/local"
      ],
      "execution_count": 0,
      "outputs": []
    },
    {
      "cell_type": "markdown",
      "metadata": {
        "id": "YAGMrX4wHqs_",
        "colab_type": "text"
      },
      "source": [
        "### RAPIDS AI"
      ]
    },
    {
      "cell_type": "code",
      "metadata": {
        "id": "NteQ1Xv4EN-x",
        "colab_type": "code",
        "colab": {}
      },
      "source": [
        "# install RAPIDS packages\n",
        "!conda install -q -y --prefix /usr/local -c nvidia -c rapidsai \\\n",
        "  -c numba -c conda-forge -c pytorch -c defaults \\\n",
        "  cudf=0.9 cuml=0.9 cugraph=0.9 python=3.6 cudatoolkit=10.0\n",
        "\n",
        "# set environment vars\n",
        "import sys, os, shutil\n",
        "sys.path.append('/usr/local/lib/python3.6/site-packages/')\n",
        "os.environ['NUMBAPRO_NVVM'] = '/usr/local/cuda/nvvm/lib64/libnvvm.so'\n",
        "os.environ['NUMBAPRO_LIBDEVICE'] = '/usr/local/cuda/nvvm/libdevice/'\n",
        "\n",
        "# copy .so files to current working dir\n",
        "for fn in ['libcudf.so', 'librmm.so']:\n",
        "  shutil.copy('/usr/local/lib/'+fn, os.getcwd())"
      ],
      "execution_count": 0,
      "outputs": []
    },
    {
      "cell_type": "markdown",
      "metadata": {
        "id": "bY9qZcfeEmQC",
        "colab_type": "text"
      },
      "source": [
        "### BlazingSQL"
      ]
    },
    {
      "cell_type": "code",
      "metadata": {
        "id": "mYtu-3EWdIi3",
        "colab_type": "code",
        "colab": {}
      },
      "source": [
        "# Install BlazingSQL for CUDA 10.0\n",
        "! conda install -q -y --prefix /usr/local -c conda-forge -c defaults -c nvidia -c rapidsai \\\n",
        "   -c blazingsql/label/cuda10.0 -c blazingsql \\\n",
        "   blazingsql-calcite blazingsql-orchestrator blazingsql-ral blazingsql-python"
      ],
      "execution_count": 0,
      "outputs": []
    },
    {
      "cell_type": "code",
      "metadata": {
        "id": "JA4_g6R3FJHj",
        "colab_type": "code",
        "colab": {}
      },
      "source": [
        "# NEEDS TESTING IN COLAB\n",
        "!pip install flatbuffers"
      ],
      "execution_count": 0,
      "outputs": []
    },
    {
      "cell_type": "markdown",
      "metadata": {
        "id": "aMwNKxePSwOp",
        "colab_type": "text"
      },
      "source": [
        "## Import packages and create Blazing Context\n",
        "You can think of the BlazingContext much like a Spark Context \n",
        "- I.e. this is where information such as FileSystems you have registered and Tables you have created will be stored\n",
        "  - If you have issues running this cell, restart runtime and try running it again\n"
      ]
    },
    {
      "cell_type": "code",
      "metadata": {
        "id": "ZR_vWwtMcvvY",
        "colab_type": "code",
        "outputId": "c78cc40a-f7d8-4ac5-c255-d99edd03b785",
        "colab": {
          "base_uri": "https://localhost:8080/",
          "height": 35
        }
      },
      "source": [
        "from blazingsql import BlazingContext\n",
        "import cudf\n",
        "\n",
        "bc = BlazingContext()"
      ],
      "execution_count": 0,
      "outputs": [
        {
          "output_type": "stream",
          "text": [
            "Already connected to the Orchestrator\n"
          ],
          "name": "stdout"
        }
      ]
    },
    {
      "cell_type": "markdown",
      "metadata": {
        "id": "N2bqpDEnZyQf",
        "colab_type": "text"
      },
      "source": [
        "## Read CSV\n",
        "- First we uploaded a CSV file through the Google Colab interface \n",
        "  - Then we use cuDF to read the CSV file, which gives us a GPU DataFrame (GDF)\n",
        "    - To learn more about the GDF and how it enables end to end workloads on rapids, check out our [blog post](https://blog.blazingdb.com/blazingsql-part-1-the-gpu-dataframe-gdf-and-cudf-in-rapids-ai-96ec15102240)"
      ]
    },
    {
      "cell_type": "code",
      "metadata": {
        "id": "iqRDacOBOg44",
        "colab_type": "code",
        "outputId": "dccb35e0-c284-498b-80b7-8cfc84a7a6a7",
        "colab": {
          "base_uri": "https://localhost:8080/",
          "height": 204
        }
      },
      "source": [
        "#Download the test CSV\n",
        "!wget 'https://s3.amazonaws.com/blazingsql-colab/Music.csv'"
      ],
      "execution_count": 0,
      "outputs": [
        {
          "output_type": "stream",
          "text": [
            "--2019-08-15 23:32:28--  https://s3.amazonaws.com/blazingsql-colab/Music.csv\n",
            "Resolving s3.amazonaws.com (s3.amazonaws.com)... 52.216.107.206\n",
            "Connecting to s3.amazonaws.com (s3.amazonaws.com)|52.216.107.206|:443... connected.\n",
            "HTTP request sent, awaiting response... 200 OK\n",
            "Length: 10473 (10K) [text/csv]\n",
            "Saving to: ‘Music.csv’\n",
            "\n",
            "\rMusic.csv             0%[                    ]       0  --.-KB/s               \rMusic.csv           100%[===================>]  10.23K  --.-KB/s    in 0s      \n",
            "\n",
            "2019-08-15 23:32:29 (155 MB/s) - ‘Music.csv’ saved [10473/10473]\n",
            "\n"
          ],
          "name": "stdout"
        }
      ]
    },
    {
      "cell_type": "code",
      "metadata": {
        "id": "HhRhj-ZvZygH",
        "colab_type": "code",
        "colab": {}
      },
      "source": [
        "# like pandas, cudf can simply read the csv\n",
        "gdf = cudf.read_csv('Music.csv')\n",
        "\n",
        "# let's see how it looks\n",
        "gdf.head()"
      ],
      "execution_count": 0,
      "outputs": []
    },
    {
      "cell_type": "markdown",
      "metadata": {
        "id": "HJFz-mqZTJ5Z",
        "colab_type": "text"
      },
      "source": [
        "## Create a Table\n",
        "\n",
        "Now we just need to create a table. Apache Parquet is a great, open source and distributed file format built for systems like HDFS\n",
        "- Apache Parquet files also have metadata which self describes the schema, making import a cinch!"
      ]
    },
    {
      "cell_type": "code",
      "metadata": {
        "id": "HJuvtJDYTMyb",
        "colab_type": "code",
        "colab": {}
      },
      "source": [
        "bc.create_table('music', gdf)"
      ],
      "execution_count": 0,
      "outputs": []
    },
    {
      "cell_type": "markdown",
      "metadata": {
        "id": "98HJFrt5TRa0",
        "colab_type": "text"
      },
      "source": [
        "## Query a Table\n",
        "That's it! Now you can write a SQL query and the data will get processed on the GPU with BlazingSQL, and the output will be a GPU DataFrame (GDF) inside RAPIDS!"
      ]
    },
    {
      "cell_type": "code",
      "metadata": {
        "id": "14GwxmLsTV_p",
        "colab_type": "code",
        "outputId": "144b7601-5363-49f8-d5af-13e80917672c",
        "colab": {
          "base_uri": "https://localhost:8080/",
          "height": 1000
        }
      },
      "source": [
        "#Query\n",
        "result = bc.sql('SELECT * FROM main.music').get()\n",
        "\n",
        "#Get GDF\n",
        "result_gdf = result.columns\n",
        "\n",
        "#Print GDF\n",
        "print(result_gdf)"
      ],
      "execution_count": 0,
      "outputs": [
        {
          "output_type": "stream",
          "text": [
            "                                  ARTIST RATING  ...          LOCATION FESTIVAL_SET\n",
            "0                            Arcade Fire   10.0  ...         Las Vegas          1.0\n",
            "1                                Justice   10.0  ...         Las Vegas          1.0\n",
            "2               Florence and The Machine   10.0  ...         Las Vegas          1.0\n",
            "3                                 Odesza   10.0  ...             Indio          1.0\n",
            "4                               Bon Iver   10.0  ...             Indio          1.0\n",
            "5            LA Philharmonic + Sigur Ros   10.0  ...                LA          0.0\n",
            "6                              Sigur Ros   10.0  ...             Malmo          0.0\n",
            "7                            Arcade Fire   10.0  ...             Indio          1.0\n",
            "8                                 Escort    9.0  ...     San Francisco          0.0\n",
            "9                                Phoenix    9.0  ...          Berkeley          0.0\n",
            "10                              Jamie XX    9.0  ...  Golden Gate Park          1.0\n",
            "11                               Beyonce   10.0  ...             Indio          1.0\n",
            "12                               Soulwax    9.0  ...             Indio          1.0\n",
            "13                                The XX    9.0  ...         Las Vegas          1.0\n",
            "14                               Justice    9.0  ...             Indio          1.0\n",
            "15                             Sigur Ros    9.0  ...                LA          0.0\n",
            "16                                The XX    9.0  ...            London          0.0\n",
            "17            Porter Robinson and Madeon    9.0  ...            London          0.0\n",
            "18                  Garden City Movement    9.0  ...          Tel Aviv          0.0\n",
            "19                                  ACDC    9.0  ...             Indio          1.0\n",
            "20                       Porter Robinson    9.0  ...         Las Vegas          1.0\n",
            "21                                 Alt-J    9.0  ...         Barcelona          1.0\n",
            "22                           Arcade Fire    9.0  ...                LA          0.0\n",
            "23                               Phoenix    9.0  ...             Indio          1.0\n",
            "24                              Chvrches    9.0  ...        Copenhagen          0.0\n",
            "25                 Red Hot Chili Peppers    9.0  ...           Oakland          0.0\n",
            "26                                Jungle    8.0  ...         Las Vegas          1.0\n",
            "27                           Sylvan Esso    8.0  ...         Las Vegas          1.0\n",
            "28                      Lake Street Dive    8.0  ...     San Francisco          0.0\n",
            "29                                Elohim    8.0  ...  Golden Gate Park          1.0\n",
            "..                                   ...    ...  ...               ...          ...\n",
            "316                              Ratatat    3.0  ...             Indio          1.0\n",
            "317                              Kaskade    3.0  ...             Indio          1.0\n",
            "318                           Peking Duk    3.0  ...         Las Vegas          1.0\n",
            "319                               Foals     3.0  ...           Oakland          1.0\n",
            "320                     The Neighborhood    3.0  ...             Indio          1.0\n",
            "321  Tyler the Creator / Earl Sweatshirt    3.0  ...             Indio          1.0\n",
            "322                      Childish Gambi0    3.0  ...         Claremont          0.0\n",
            "323                          Two Friends    3.0  ...     San Francisco          0.0\n",
            "324                           Digitalism    3.0  ...        Copenhagen          0.0\n",
            "325                               Deorro    2.0  ...         Las Vegas          1.0\n",
            "326                              Bearson    2.0  ...         Las Vegas          1.0\n",
            "327                              Whethan    2.0  ...     Mountain View          1.0\n",
            "328                                Kungs    2.0  ...             Indio          1.0\n",
            "329                          Thomas Jack    2.0  ...             Indio          1.0\n",
            "330                                Vanic    2.0  ...             Indio          1.0\n",
            "331                                Drake    2.0  ...             Indio          1.0\n",
            "332                                 Kygo    2.0  ...             Indio          1.0\n",
            "333                               Health    2.0  ...         Barcelona          1.0\n",
            "334                                 Muse    2.0  ...             Indio          1.0\n",
            "335                         Modest Mouse    2.0  ...             Indio          1.0\n",
            "336                            The K0cks    2.0  ...                LA          0.0\n",
            "337                     The Chainsmokers    2.0  ...            London          0.0\n",
            "338                               Avicii    2.0  ...             Vegas          0.0\n",
            "339                             2 Chainz    1.0  ...         Las Vegas          1.0\n",
            "340          Nick cave and the bad seeds    1.0  ...             Indio          1.0\n",
            "341                                 null   null  ...              null         null\n",
            "342                                 null   null  ...              null         null\n",
            "343                                 null   null  ...              null         null\n",
            "344                                 null   null  ...              null         null\n",
            "345                                 null   null  ...                ,          null\n",
            "\n",
            "[346 rows x 5 columns]\n"
          ],
          "name": "stdout"
        }
      ]
    },
    {
      "cell_type": "markdown",
      "metadata": {
        "id": "wygAeTIFTm2X",
        "colab_type": "text"
      },
      "source": [
        "# You're Ready to Rock\n",
        "And... thats it! You are now live with BlazingSQL.\n",
        "- Check out our [docs](https://docs.blazingdb.com) to get fancy \n",
        "  - as well as to learn more about how BlazingSQL works with the rest of [RAPIDS AI](https://rapids.ai/)"
      ]
    }
  ]
}