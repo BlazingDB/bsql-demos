{
 "cells": [
  {
   "cell_type": "markdown",
   "metadata": {
    "colab_type": "text",
    "id": "8AdUt3HiUrc3"
   },
   "source": [
    "# Querying Multiple Data Formats\n",
    "\n",
    "In this notebook, we will cover: \n",
    "- How to set up [BlazingSQL](https://blazingsql.com) and the [RAPIDS AI](https://rapids.ai/) suite.\n",
    "- In this demo we will join a CSV, a Parquet File, and a GPU DataFrame(GDF) in a single query using BlazingSQL.\n",
    "\n",
    "![Impression](https://www.google-analytics.com/collect?v=1&tid=UA-39814657-5&cid=555&t=event&ec=guides&ea=federated_query_demo&dt=federated_query_demo)"
   ]
  },
  {
   "cell_type": "markdown",
   "metadata": {
    "colab_type": "text",
    "id": "_h26epJpUeZP"
   },
   "source": [
    "## Setup\n",
    "### Environment Sanity Check \n",
    "\n",
    "RAPIDS packages (BlazingSQL included) require Pascal+ architecture to run. For Colab, this translates to a T4 GPU instance. \n",
    "\n",
    "The cell below will let you know what type of GPU you've been allocated, and how to proceed."
   ]
  },
  {
   "cell_type": "code",
   "execution_count": 3,
   "metadata": {
    "colab": {
     "base_uri": "https://localhost:8080/",
     "height": 312
    },
    "colab_type": "code",
    "id": "_lf6yKBoRYGy",
    "outputId": "b4b13e6e-dd62-4ed6-d261-1195e7d2b2e1"
   },
   "outputs": [
    {
     "name": "stdout",
     "output_type": "stream",
     "text": [
      "Woo! You got the right kind of GPU!\n"
     ]
    }
   ],
   "source": [
    "# tag specs\n",
    "colab_smi = !nvidia-smi\n",
    "\n",
    "# focus GPU type\n",
    "try:\n",
    "    my_gpu = ' '.join(colab_smi[7].split()[2:4])\n",
    "# not on gpu acceleration \n",
    "except:\n",
    "    raise Exception(\"\\nPlease make sure you've configured Colab to request a GPU instance type.\\n\\n\"\n",
    "                    \"At top of Colab, try: Runtime -> Change runtime type -> Hardware accelerator -> GPU -> Save\\n\")\n",
    "\n",
    "# not allocated compatable GPU\n",
    "if (my_gpu != b'Tesla T4') and (my_gpu != 'Tesla P100-PCIE...') and (my_gpu != 'GeForce GTX'):\n",
    "    # allocated K80\n",
    "    if my_gpu == 'Tesla K80':\n",
    "        raise Exception(\"\\nYou've been allocated a K80 instance\\n\\n\"\n",
    "                    \"Unfortunately, this demo requires a T4 instance\\n\\n\"\n",
    "                    \"At top of Colab, try: Runtime -> Reset all runtimes...\\n\")\n",
    "    else:\n",
    "        raise Exception(f\"\\nYou've achieved wizardy.\\nyour GPU is {my_gpu}\\nPlease inform info@blazingsql.com\")\n",
    "\n",
    "# allocated compatable GPU\n",
    "else:\n",
    "    print('Woo! You got the right kind of GPU!')"
   ]
  },
  {
   "cell_type": "markdown",
   "metadata": {
    "colab_type": "text",
    "id": "xM8xTlqeRi-g"
   },
   "source": [
    "## Installs \n",
    "\n",
    "Below you will find three code blocks:\n",
    "1. The first installs miniconda.\n",
    "2. The second installs RAPIDS AI and sets up the system environment. \n",
    "3. The third installs BlazingSQL.\n",
    "\n",
    "### Miniconda"
   ]
  },
  {
   "cell_type": "code",
   "execution_count": 5,
   "metadata": {
    "colab": {
     "base_uri": "https://localhost:8080/",
     "height": 35
    },
    "colab_type": "code",
    "id": "roG-52LWRsRC",
    "outputId": "288c24b8-3713-481b-afb9-f3780bdbec6a"
   },
   "outputs": [],
   "source": [
    "# intall miniconda\n",
    "!wget -c https://repo.continuum.io/miniconda/Miniconda3-4.5.4-Linux-x86_64.sh\n",
    "!chmod +x Miniconda3-4.5.4-Linux-x86_64.sh\n",
    "!bash ./Miniconda3-4.5.4-Linux-x86_64.sh -b -f -p /usr/local"
   ]
  },
  {
   "cell_type": "markdown",
   "metadata": {},
   "source": [
    "### RAPIDS AI"
   ]
  },
  {
   "cell_type": "code",
   "execution_count": 4,
   "metadata": {
    "colab": {
     "base_uri": "https://localhost:8080/",
     "height": 1000
    },
    "colab_type": "code",
    "id": "OkVuK3ImoRFQ",
    "outputId": "f93f7771-d59b-4ddf-eaed-774d7d741adf"
   },
   "outputs": [],
   "source": [
    "# install RAPIDS packages\n",
    "!conda install -q -y --prefix /usr/local -c nvidia -c rapidsai \\\n",
    "  -c numba -c conda-forge -c pytorch -c defaults \\\n",
    "  cudf=0.9 cuml=0.9 cugraph=0.9 python=3.6 cudatoolkit=10.0\n",
    "\n",
    "# set environment vars\n",
    "import sys, os, shutil\n",
    "sys.path.append('/usr/local/lib/python3.6/site-packages/')\n",
    "os.environ['NUMBAPRO_NVVM'] = '/usr/local/cuda/nvvm/lib64/libnvvm.so'\n",
    "os.environ['NUMBAPRO_LIBDEVICE'] = '/usr/local/cuda/nvvm/libdevice/'\n",
    "\n",
    "# copy .so files to current working dir\n",
    "for fn in ['libcudf.so', 'librmm.so']:\n",
    "    shutil.copy('/usr/local/lib/'+fn, os.getcwd())"
   ]
  },
  {
   "cell_type": "markdown",
   "metadata": {},
   "source": [
    "### BlazingSQL"
   ]
  },
  {
   "cell_type": "code",
   "execution_count": null,
   "metadata": {
    "colab": {},
    "colab_type": "code",
    "id": "8XXRbuofogdy"
   },
   "outputs": [],
   "source": [
    "# Install BlazingSQL for CUDA 10.0\n",
    "! conda install -q -y --prefix /usr/local -c conda-forge -c defaults -c nvidia -c rapidsai \\\n",
    "   -c blazingsql/label/cuda10.0 -c blazingsql \\\n",
    "   blazingsql-calcite blazingsql-orchestrator blazingsql-ral blazingsql-python\n",
    "\n",
    "!pip install flatbuffers"
   ]
  },
  {
   "cell_type": "markdown",
   "metadata": {
    "colab_type": "text",
    "id": "aMwNKxePSwOp"
   },
   "source": [
    "## Import packages and create Blazing Context\n",
    "You can think of the BlazingContext much like a Spark Context (i.e. where information such as FileSystems you have registered and Tables you have created will be stored). If you have issues running this cell, restart runtime and try running it again."
   ]
  },
  {
   "cell_type": "code",
   "execution_count": 1,
   "metadata": {
    "colab": {
     "base_uri": "https://localhost:8080/",
     "height": 35
    },
    "colab_type": "code",
    "id": "azZ7l2q7odYT",
    "outputId": "a5302d6e-307e-45c5-a682-c786cc999a40"
   },
   "outputs": [
    {
     "name": "stdout",
     "output_type": "stream",
     "text": [
      "BlazingContext ready\n"
     ]
    }
   ],
   "source": [
    "# Import RAPIDS AI stack\n",
    "from blazingsql import BlazingContext\n",
    "import cudf\n",
    "\n",
    "bc = BlazingContext()"
   ]
  },
  {
   "cell_type": "markdown",
   "metadata": {
    "colab_type": "text",
    "id": "xEFX-xVGzxmJ"
   },
   "source": [
    "# Grab Data\n",
    "\n",
    "The data is in our public S3 bucket so we can use wget to grab it"
   ]
  },
  {
   "cell_type": "code",
   "execution_count": 2,
   "metadata": {
    "colab": {
     "base_uri": "https://localhost:8080/",
     "height": 609
    },
    "colab_type": "code",
    "id": "55nBTddNz-Py",
    "outputId": "fb658a23-49f7-48b8-f406-3cb3e69e56c9"
   },
   "outputs": [
    {
     "name": "stdout",
     "output_type": "stream",
     "text": [
      "--2019-10-20 18:21:56--  https://blazingsql-colab.s3.amazonaws.com/cancer_data/cancer_data_00.csv\n",
      "Resolving blazingsql-colab.s3.amazonaws.com (blazingsql-colab.s3.amazonaws.com)... 52.216.168.235\n",
      "Connecting to blazingsql-colab.s3.amazonaws.com (blazingsql-colab.s3.amazonaws.com)|52.216.168.235|:443... connected.\n",
      "HTTP request sent, awaiting response... 200 OK\n",
      "Length: 1233 (1.2K) [text/csv]\n",
      "Saving to: ‘cancer_data_00.csv’\n",
      "\n",
      "cancer_data_00.csv  100%[===================>]   1.20K  --.-KB/s    in 0s      \n",
      "\n",
      "2019-10-20 18:21:57 (59.1 MB/s) - ‘cancer_data_00.csv’ saved [1233/1233]\n",
      "\n",
      "--2019-10-20 18:21:57--  https://blazingsql-colab.s3.amazonaws.com/cancer_data/cancer_data_01.parquet\n",
      "Resolving blazingsql-colab.s3.amazonaws.com (blazingsql-colab.s3.amazonaws.com)... 52.216.168.235\n",
      "Connecting to blazingsql-colab.s3.amazonaws.com (blazingsql-colab.s3.amazonaws.com)|52.216.168.235|:443... connected.\n",
      "HTTP request sent, awaiting response... 200 OK\n",
      "Length: 2364 (2.3K) [binary/octet-stream]\n",
      "Saving to: ‘cancer_data_01.parquet’\n",
      "\n",
      "cancer_data_01.parq 100%[===================>]   2.31K  --.-KB/s    in 0.001s  \n",
      "\n",
      "2019-10-20 18:21:57 (2.27 MB/s) - ‘cancer_data_01.parquet’ saved [2364/2364]\n",
      "\n",
      "--2019-10-20 18:21:57--  https://blazingsql-colab.s3.amazonaws.com/cancer_data/cancer_data_02.csv\n",
      "Resolving blazingsql-colab.s3.amazonaws.com (blazingsql-colab.s3.amazonaws.com)... 52.216.168.235\n",
      "Connecting to blazingsql-colab.s3.amazonaws.com (blazingsql-colab.s3.amazonaws.com)|52.216.168.235|:443... connected.\n",
      "HTTP request sent, awaiting response... 200 OK\n",
      "Length: 1854 (1.8K) [text/csv]\n",
      "Saving to: ‘cancer_data_02.csv’\n",
      "\n",
      "cancer_data_02.csv  100%[===================>]   1.81K  --.-KB/s    in 0s      \n",
      "\n",
      "2019-10-20 18:21:58 (59.9 MB/s) - ‘cancer_data_02.csv’ saved [1854/1854]\n",
      "\n"
     ]
    }
   ],
   "source": [
    "!wget 'https://blazingsql-colab.s3.amazonaws.com/cancer_data/cancer_data_00.csv'\n",
    "!wget 'https://blazingsql-colab.s3.amazonaws.com/cancer_data/cancer_data_01.parquet'\n",
    "!wget 'https://blazingsql-colab.s3.amazonaws.com/cancer_data/cancer_data_02.csv'"
   ]
  },
  {
   "cell_type": "markdown",
   "metadata": {
    "colab_type": "text",
    "id": "N2bqpDEnZyQf"
   },
   "source": [
    "# Create Table from CSV\n"
   ]
  },
  {
   "cell_type": "code",
   "execution_count": 2,
   "metadata": {
    "colab": {},
    "colab_type": "code",
    "id": "HhRhj-ZvZygH"
   },
   "outputs": [
    {
     "name": "stdout",
     "output_type": "stream",
     "text": [
      "b\"In function ddlCreateTableService: cannot create the table: Path 'cancer_data_00.csv' does not exist. File paths are expected to be in one of the following formats:   For local file paths: '/folder0/folder1/fileName.extension'    For s3 file paths: 's3://registeredFileSystemName/folder0/folder1/fileName.extension'    For HDFS file paths: 'hdfs://registeredFileSystemName/folder0/folder1/fileName.extension'\"\n"
     ]
    },
    {
     "data": {
      "text/plain": [
       "<pyblazing.apiv2.sql.Table at 0x7f7bfc69eda0>"
      ]
     },
     "execution_count": 2,
     "metadata": {},
     "output_type": "execute_result"
    }
   ],
   "source": [
    "column_names = ['diagnosis_result', 'radius', 'texture', 'perimeter']\n",
    "column_types = ['float32', 'float32', 'float32', 'float32']\n",
    "\n",
    "bc.create_table('data_00', 'cancer_data_00.csv', delimiter=',', dtype=column_types, names=column_names)\n"
   ]
  },
  {
   "cell_type": "markdown",
   "metadata": {
    "colab_type": "text",
    "id": "HJFz-mqZTJ5Z"
   },
   "source": [
    "# Create Table from Parquet\n",
    "\n"
   ]
  },
  {
   "cell_type": "code",
   "execution_count": 7,
   "metadata": {
    "colab": {},
    "colab_type": "code",
    "id": "HJuvtJDYTMyb"
   },
   "outputs": [
    {
     "name": "stdout",
     "output_type": "stream",
     "text": [
      "b\"In function ddlCreateTableService: cannot create the table: Path 'cancer_data_01.parquet' does not exist. File paths are expected to be in one of the following formats:   For local file paths: '/folder0/folder1/fileName.extension'    For s3 file paths: 's3://registeredFileSystemName/folder0/folder1/fileName.extension'    For HDFS file paths: 'hdfs://registeredFileSystemName/folder0/folder1/fileName.extension'\"\n"
     ]
    },
    {
     "data": {
      "text/plain": [
       "<pyblazing.apiv2.sql.Table at 0x7fc688061e48>"
      ]
     },
     "execution_count": 7,
     "metadata": {},
     "output_type": "execute_result"
    }
   ],
   "source": [
    "bc.create_table('data_01', 'cancer_data_01.parquet')\n",
    "       "
   ]
  },
  {
   "cell_type": "markdown",
   "metadata": {
    "colab_type": "text",
    "id": "98HJFrt5TRa0"
   },
   "source": [
    "# Create Table from GPU DataFrame (GDF)\n",
    "Here we use cuDF to create a GDF, we then using BlazingSQL to create a table from that GDF. The GDF is the standard memory representation for the RAPIDS AI ecosystem."
   ]
  },
  {
   "cell_type": "code",
   "execution_count": null,
   "metadata": {
    "colab": {},
    "colab_type": "code",
    "id": "14GwxmLsTV_p"
   },
   "outputs": [],
   "source": [
    "column_names = ['compactness', 'symmetry', 'fractal_dimension']\n",
    "column_types = ['float32', 'float32', 'float32', 'float32']\n",
    "\n",
    "gdf_02= cudf.read_csv('/content/cancer_data_02.csv',delimiter=',', dtype=column_types, names=column_names)\n",
    "\n",
    "bc.create_table('data_02', gdf_02)"
   ]
  },
  {
   "cell_type": "markdown",
   "metadata": {
    "colab_type": "text",
    "id": "9DAZShZ2y-Nx"
   },
   "source": [
    "# Join Tables Together \n",
    "\n",
    "Now we can use BlazingSQL to join all three data formats in a single federated query. "
   ]
  },
  {
   "cell_type": "code",
   "execution_count": null,
   "metadata": {
    "colab": {
     "base_uri": "https://localhost:8080/",
     "height": 1000
    },
    "colab_type": "code",
    "id": "HOYSFebvzGcX",
    "outputId": "ad133dfd-540e-4142-8f12-a4a70d803bb6"
   },
   "outputs": [
    {
     "name": "stdout",
     "output_type": "stream",
     "text": [
      "     diagnosis_result  radius  ...     symmetry  fractal_dimension\n",
      "0                 0.0    19.0  ...  0.196999997        0.067999996\n",
      "1                 1.0    14.0  ...  0.215000004        0.067000002\n",
      "2                 1.0    18.0  ...        0.162              0.057\n",
      "3                 0.0    22.0  ...        0.147              0.059\n",
      "4                 0.0    21.0  ...        0.147              0.059\n",
      "5                 1.0    15.0  ...  0.181000009              0.057\n",
      "6                 0.0    25.0  ...  0.181000009              0.057\n",
      "7                 0.0    19.0  ...  0.181000009              0.057\n",
      "8                 0.0    22.0  ...        0.147              0.059\n",
      "9                 0.0    21.0  ...  0.172000006        0.063999996\n",
      "10                1.0    24.0  ...  0.193999991        0.068999998\n",
      "11                1.0    18.0  ...  0.158000007        0.054000001\n",
      "12                1.0    20.0  ...  0.193999991        0.068999998\n",
      "13                0.0    22.0  ...  0.172000006        0.063999996\n",
      "14                1.0    11.0  ...  0.194999993        0.072999999\n",
      "15                1.0    17.0  ...  0.194999993        0.072999999\n",
      "16                1.0    12.0  ...  0.194999993        0.072999999\n",
      "17                0.0    20.0  ...        0.162              0.057\n",
      "18                0.0    24.0  ...         null               null\n",
      "19                1.0    18.0  ...         null               null\n",
      "20                0.0    21.0  ...         null               null\n",
      "21                0.0    20.0  ...         null               null\n",
      "22                0.0    22.0  ...         null               null\n",
      "23                1.0    15.0  ...         null               null\n",
      "24                0.0    25.0  ...         null               null\n",
      "25                0.0    19.0  ...         null               null\n",
      "26                1.0    11.0  ...         null               null\n",
      "27                1.0    15.0  ...         null               null\n",
      "28                0.0    25.0  ...         null               null\n",
      "29                0.0    19.0  ...         null               null\n",
      "..                ...     ...  ...          ...                ...\n",
      "286               1.0    10.0  ...  0.172000006        0.063999996\n",
      "287               1.0    24.0  ...  0.178000003        0.056000002\n",
      "288               1.0    20.0  ...  0.178000003        0.056000002\n",
      "289               1.0    14.0  ...  0.209000006        0.063000001\n",
      "290               1.0    18.0  ...  0.224999994        0.068999998\n",
      "291               1.0    17.0  ...  0.203000009        0.067999996\n",
      "292               1.0    12.0  ...  0.203000009        0.067999996\n",
      "293               0.0    24.0  ...   0.21100001        0.079999998\n",
      "294               1.0    18.0  ...  0.188000008        0.063999996\n",
      "295               0.0    21.0  ...        0.147              0.059\n",
      "296               1.0    24.0  ...  0.213000014        0.067999996\n",
      "297               1.0    15.0  ...  0.196999997        0.067999996\n",
      "298               1.0    10.0  ...  0.157000005              0.055\n",
      "299               1.0    20.0  ...  0.213000014        0.067999996\n",
      "300               0.0    25.0  ...  0.196999997        0.067999996\n",
      "301               1.0    14.0  ...         null               null\n",
      "302               1.0    11.0  ...         null               null\n",
      "303               1.0    10.0  ...         null               null\n",
      "304               1.0    11.0  ...         null               null\n",
      "305               1.0    10.0  ...         null               null\n",
      "306               1.0    18.0  ...  0.230000004        0.071000002\n",
      "307               0.0    22.0  ...  0.193000004        0.064999998\n",
      "308               0.0    23.0  ...   0.13499999        0.068999998\n",
      "309               0.0    21.0  ...  0.182000011              0.055\n",
      "310               1.0    17.0  ...  0.138999999        0.052999999\n",
      "311               0.0    15.0  ...  0.274000019               0.07\n",
      "312               1.0    12.0  ...  0.138999999        0.052999999\n",
      "313               1.0    10.0  ...  0.138999999        0.052999999\n",
      "314               1.0    10.0  ...  0.192000002        0.059999999\n",
      "315               1.0    10.0  ...        0.191              0.066\n",
      "\n",
      "[316 rows x 9 columns]\n"
     ]
    }
   ],
   "source": [
    "sql = '''\n",
    "SELECT a.*, b.area, b.smoothness, c.* from main.data_00 as a\n",
    "LEFT JOIN main.data_01  as b\n",
    "ON (a.perimeter = b.perimeter)\n",
    "LEFT JOIN main.data_02 as c\n",
    "ON (b.compactness = c.compactness)\n",
    "'''\n",
    "join = bc.sql(sql).get()\n",
    "result = join.columns\n",
    "\n",
    "print(result)"
   ]
  },
  {
   "cell_type": "markdown",
   "metadata": {
    "colab_type": "text",
    "id": "wygAeTIFTm2X"
   },
   "source": [
    "*And*... thats it! Check out our [docs](https://docs.blazingdb.com) to get fancy as well as to learn more about how BlazingSQL works with the rest of [RAPIDS AI](https://rapids.ai/). "
   ]
  }
 ],
 "metadata": {
  "accelerator": "GPU",
  "colab": {
   "collapsed_sections": [
    "McVBO7GHRDzz"
   ],
   "name": "BlazingSQL_Federated_Query_Demo.ipynb",
   "provenance": [],
   "toc_visible": true
  },
  "kernelspec": {
   "display_name": "Python 3",
   "language": "python",
   "name": "python3"
  },
  "language_info": {
   "codemirror_mode": {
    "name": "ipython",
    "version": 3
   },
   "file_extension": ".py",
   "mimetype": "text/x-python",
   "name": "python",
   "nbconvert_exporter": "python",
   "pygments_lexer": "ipython3",
   "version": "3.7.3"
  }
 },
 "nbformat": 4,
 "nbformat_minor": 4
}
