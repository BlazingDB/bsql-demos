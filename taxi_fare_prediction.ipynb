{
 "cells": [
  {
   "cell_type": "markdown",
   "metadata": {
    "colab_type": "text",
    "id": "l4fOFMjbRvkZ"
   },
   "source": [
    "# BlazingSQL + cuML NYC Taxi Cab Fare Prediction\n",
    "\n",
    "This demo uses pubically availible [NYC Taxi Cab Data](https://www.kaggle.com/c/new-york-city-taxi-fare-prediction) to predict the total fare of a taxi ride in New York City given the pickup and dropoff locations. \n",
    "\n",
    "In this notebook, we will cover: \n",
    "- How to set up [BlazingSQL](https://blazingsql.com) and the [RAPIDS AI](https://rapids.ai/) suite.\n",
    "- How to read and query csv files with cuDF and BlazingSQL.\n",
    "- How to implement a linear regression model with cuML.\n",
    "\n",
    "![Impression](https://www.google-analytics.com/collect?v=1&tid=UA-39814657-5&cid=555&t=event&ec=guides&ea=taxi_fare_prediction&dt=taxi_fare_prediction)\n"
   ]
  },
  {
   "cell_type": "markdown",
   "metadata": {
    "colab_type": "text",
    "id": "h7IpRu0ZjSYY"
   },
   "source": [
    "## Setup\n",
    "### Environment Sanity Check \n",
    "\n",
    "RAPIDS packages (BlazingSQL included) require Pascal+ architecture to run. For Colab, this translates to a T4 GPU instance. \n",
    "\n",
    "The cell below will let you know what type of GPU you've been allocated, and how to proceed."
   ]
  },
  {
   "cell_type": "code",
   "execution_count": 1,
   "metadata": {
    "colab": {
     "base_uri": "https://localhost:8080/",
     "height": 306
    },
    "colab_type": "code",
    "id": "7Z2YTrgqGgI9",
    "outputId": "392dfd83-abdf-48c9-9ef6-b3cc6ae03c74"
   },
   "outputs": [
    {
     "name": "stdout",
     "output_type": "stream",
     "text": [
      "Woo! You got the right kind of GPU!\n"
     ]
    }
   ],
   "source": [
    "# tag specs\n",
    "colab_smi = !nvidia-smi\n",
    "\n",
    "# focus GPU type\n",
    "try:\n",
    "    my_gpu = ' '.join(colab_smi[7].split()[2:4])\n",
    "# not on gpu acceleration \n",
    "except:\n",
    "    raise Exception(\"\\nPlease make sure you've configured Colab to request a GPU instance type.\\n\\n\"\n",
    "                    \"At top of Colab, try: Runtime -> Change runtime type -> Hardware accelerator -> GPU -> Save\\n\")\n",
    "\n",
    "# not allocated compatable GPU\n",
    "if (my_gpu != b'Tesla T4') and (my_gpu != 'Tesla P100-PCIE...') and (my_gpu != 'GeForce GTX'):\n",
    "    # allocated K80\n",
    "    if my_gpu == 'Tesla K80':\n",
    "        raise Exception(\"\\nYou've been allocated a K80 instance\\n\\n\"\n",
    "                    \"Unfortunately, this demo requires a T4 instance\\n\\n\"\n",
    "                    \"At top of Colab, try: Runtime -> Reset all runtimes...\\n\")\n",
    "    else:\n",
    "        raise Exception(f\"\\nYou've achieved wizardy.\\nyour GPU is {my_gpu}\\nPlease inform info@blazingsql.com\")\n",
    "\n",
    "# allocated compatable GPU\n",
    "else:\n",
    "    print('Woo! You got the right kind of GPU!')"
   ]
  },
  {
   "cell_type": "markdown",
   "metadata": {
    "colab_type": "text",
    "id": "eadvPhFii-Q6"
   },
   "source": [
    "## Installs \n",
    "\n",
    "Below you will find three code blocks:\n",
    "1. The first installs miniconda.\n",
    "2. The second installs RAPIDS AI and sets up the system environment. \n",
    "3. The third installs BlazingSQL.\n",
    "\n",
    "### Miniconda"
   ]
  },
  {
   "cell_type": "code",
   "execution_count": 2,
   "metadata": {
    "colab": {
     "base_uri": "https://localhost:8080/",
     "height": 1000
    },
    "colab_type": "code",
    "id": "IS8mCBCyGs8Y",
    "outputId": "3282198c-b4cf-4cb3-c91e-b3c08bb15d86"
   },
   "outputs": [],
   "source": [
    "# # intall miniconda\n",
    "# !wget -c https://repo.continuum.io/miniconda/Miniconda3-4.5.4-Linux-x86_64.sh\n",
    "# !chmod +x Miniconda3-4.5.4-Linux-x86_64.sh\n",
    "# !bash ./Miniconda3-4.5.4-Linux-x86_64.sh -b -f -p /usr/local"
   ]
  },
  {
   "cell_type": "markdown",
   "metadata": {},
   "source": [
    "### RAPIDS AI"
   ]
  },
  {
   "cell_type": "code",
   "execution_count": 3,
   "metadata": {},
   "outputs": [],
   "source": [
    "# # install RAPIDS packages\n",
    "# !conda install -q -y --prefix /usr/local -c nvidia -c rapidsai \\\n",
    "#   -c numba -c conda-forge -c pytorch -c defaults \\\n",
    "#   cudf=0.9 cuml=0.9 cugraph=0.9 python=3.6 cudatoolkit=10.0\n",
    "\n",
    "# # set environment vars\n",
    "# import sys, os, shutil\n",
    "# sys.path.append('/usr/local/lib/python3.6/site-packages/')\n",
    "# os.environ['NUMBAPRO_NVVM'] = '/usr/local/cuda/nvvm/lib64/libnvvm.so'\n",
    "# os.environ['NUMBAPRO_LIBDEVICE'] = '/usr/local/cuda/nvvm/libdevice/'\n",
    "\n",
    "# # copy .so files to current working dir\n",
    "# for fn in ['libcudf.so', 'librmm.so']:\n",
    "#     shutil.copy('/usr/local/lib/'+fn, os.getcwd())"
   ]
  },
  {
   "cell_type": "markdown",
   "metadata": {},
   "source": [
    "### BlazingSQL"
   ]
  },
  {
   "cell_type": "code",
   "execution_count": 4,
   "metadata": {},
   "outputs": [],
   "source": [
    "# # Install BlazingSQL for CUDA 10.0\n",
    "# ! conda install -q -y --prefix /usr/local -c conda-forge -c defaults -c nvidia -c rapidsai \\\n",
    "#    -c blazingsql/label/cuda10.0 -c blazingsql \\\n",
    "#    blazingsql-calcite blazingsql-orchestrator blazingsql-ral blazingsql-python\n",
    "\n",
    "# !pip install flatbuffers"
   ]
  },
  {
   "cell_type": "markdown",
   "metadata": {
    "colab_type": "text",
    "id": "RnUyVHwHmKyk"
   },
   "source": [
    "# Import Packages"
   ]
  },
  {
   "cell_type": "code",
   "execution_count": 5,
   "metadata": {},
   "outputs": [
    {
     "name": "stdout",
     "output_type": "stream",
     "text": [
      "WARNING: blazingsql-orchestrator was not automativally started, its probably already running\n",
      "WARNING: blazingsql-engine was not automativally started, its probably already running\n",
      "BlazingContext ready\n"
     ]
    }
   ],
   "source": [
    "# Import RAPIDS AI stack\n",
    "from blazingsql import BlazingContext\n",
    "import cudf\n",
    "\n",
    "bc = BlazingContext()"
   ]
  },
  {
   "cell_type": "markdown",
   "metadata": {
    "colab_type": "text",
    "id": "Gt0TPBqif50q"
   },
   "source": [
    "# Download Data"
   ]
  },
  {
   "cell_type": "code",
   "execution_count": 6,
   "metadata": {
    "colab": {
     "base_uri": "https://localhost:8080/",
     "height": 765
    },
    "colab_type": "code",
    "id": "6uR3aNkqD1Pb",
    "outputId": "84628680-669e-4583-d3a2-d27f7c7dfed4"
   },
   "outputs": [],
   "source": [
    "# !wget https://blazingsql-colab.s3.amazonaws.com/taxi_data/taxi_00.csv\n",
    "# !wget https://blazingsql-colab.s3.amazonaws.com/taxi_data/taxi_01.csv\n",
    "# !wget https://blazingsql-colab.s3.amazonaws.com/taxi_data/taxi_02.csv\n",
    "# !wget https://blazingsql-colab.s3.amazonaws.com/taxi_data/taxi_03.csv"
   ]
  },
  {
   "cell_type": "markdown",
   "metadata": {
    "colab_type": "text",
    "id": "PXtydYrimQGt"
   },
   "source": [
    "# ETL: Read and Join CSVs\n"
   ]
  },
  {
   "cell_type": "code",
   "execution_count": 7,
   "metadata": {
    "colab": {},
    "colab_type": "code",
    "id": "Gr7CUSrsEBmW"
   },
   "outputs": [
    {
     "data": {
      "text/html": [
       "<div>\n",
       "<style scoped>\n",
       "    .dataframe tbody tr th:only-of-type {\n",
       "        vertical-align: middle;\n",
       "    }\n",
       "\n",
       "    .dataframe tbody tr th {\n",
       "        vertical-align: top;\n",
       "    }\n",
       "\n",
       "    .dataframe thead th {\n",
       "        text-align: right;\n",
       "    }\n",
       "</style>\n",
       "<table border=\"1\" class=\"dataframe\">\n",
       "  <thead>\n",
       "    <tr style=\"text-align: right;\">\n",
       "      <th></th>\n",
       "      <th>key</th>\n",
       "      <th>fare_amount</th>\n",
       "      <th>pickup_longitude</th>\n",
       "      <th>pickup_latitude</th>\n",
       "      <th>dropoff_longitude</th>\n",
       "      <th>dropoff_latitude</th>\n",
       "      <th>passenger_count</th>\n",
       "    </tr>\n",
       "  </thead>\n",
       "  <tbody>\n",
       "    <tr>\n",
       "      <th>0</th>\n",
       "      <td>2012-02-02 22:30:19.002</td>\n",
       "      <td>8.9</td>\n",
       "      <td>-73.988708</td>\n",
       "      <td>40.758804</td>\n",
       "      <td>-73.986519</td>\n",
       "      <td>40.737202</td>\n",
       "      <td>1.0</td>\n",
       "    </tr>\n",
       "    <tr>\n",
       "      <th>1</th>\n",
       "      <td>2014-09-20 07:19:24.001</td>\n",
       "      <td>4.0</td>\n",
       "      <td>-73.990204</td>\n",
       "      <td>40.746708</td>\n",
       "      <td>-73.994728</td>\n",
       "      <td>40.750515</td>\n",
       "      <td>1.0</td>\n",
       "    </tr>\n",
       "    <tr>\n",
       "      <th>2</th>\n",
       "      <td>2013-02-23 07:18:05.001</td>\n",
       "      <td>5.5</td>\n",
       "      <td>-74.016762</td>\n",
       "      <td>40.709438</td>\n",
       "      <td>-74.009003</td>\n",
       "      <td>40.719498</td>\n",
       "      <td>3.0</td>\n",
       "    </tr>\n",
       "    <tr>\n",
       "      <th>3</th>\n",
       "      <td>2015-04-18 23:49:27.009</td>\n",
       "      <td>13.5</td>\n",
       "      <td>-74.002708</td>\n",
       "      <td>40.733730</td>\n",
       "      <td>-73.986099</td>\n",
       "      <td>40.734776</td>\n",
       "      <td>1.0</td>\n",
       "    </tr>\n",
       "    <tr>\n",
       "      <th>4</th>\n",
       "      <td>2010-03-04 08:15:59.001</td>\n",
       "      <td>10.5</td>\n",
       "      <td>-73.988365</td>\n",
       "      <td>40.737663</td>\n",
       "      <td>-74.012459</td>\n",
       "      <td>40.713932</td>\n",
       "      <td>1.0</td>\n",
       "    </tr>\n",
       "  </tbody>\n",
       "</table>\n",
       "</div>"
      ],
      "text/plain": [
       "                      key  fare_amount  pickup_longitude  pickup_latitude  \\\n",
       "0 2012-02-02 22:30:19.002          8.9        -73.988708        40.758804   \n",
       "1 2014-09-20 07:19:24.001          4.0        -73.990204        40.746708   \n",
       "2 2013-02-23 07:18:05.001          5.5        -74.016762        40.709438   \n",
       "3 2015-04-18 23:49:27.009         13.5        -74.002708        40.733730   \n",
       "4 2010-03-04 08:15:59.001         10.5        -73.988365        40.737663   \n",
       "\n",
       "   dropoff_longitude  dropoff_latitude  passenger_count  \n",
       "0         -73.986519         40.737202              1.0  \n",
       "1         -73.994728         40.750515              1.0  \n",
       "2         -74.009003         40.719498              3.0  \n",
       "3         -73.986099         40.734776              1.0  \n",
       "4         -74.012459         40.713932              1.0  "
      ]
     },
     "execution_count": 7,
     "metadata": {},
     "output_type": "execute_result"
    }
   ],
   "source": [
    "# set attribute column names \n",
    "column_names = ['key', 'fare_amount', 'pickup_longitude', 'pickup_latitude', \n",
    "                'dropoff_longitude', 'dropoff_latitude', 'passenger_count']\n",
    "# and the type of each column\n",
    "column_types = ['date64', 'float32', 'float32', 'float32', \n",
    "                'float32', 'float32', 'float32']\n",
    "\n",
    "# load first csv \n",
    "gdf_00 = cudf.read_csv('taxi_00.csv', delimiter= ',', dtype = column_types, names = column_names)\n",
    "# load second csv\n",
    "gdf_01 = cudf.read_csv('taxi_01.csv', delimiter= ',', dtype = column_types, names = column_names)\n",
    "# load third csv\n",
    "gdf_02 = cudf.read_csv('taxi_01.csv', delimiter= ',', dtype = column_types, names = column_names)\n",
    "# load fourth csv\n",
    "gdf_03 = cudf.read_csv('taxi_01.csv', delimiter= ',', dtype = column_types, names = column_names)\n",
    "\n",
    "# combine all those dataframes into one master dataframe\n",
    "gdf = cudf.concat([gdf_00,gdf_01, gdf_02, gdf_03])\n",
    "\n",
    "# what's it look like?\n",
    "gdf.head()"
   ]
  },
  {
   "cell_type": "markdown",
   "metadata": {
    "colab_type": "text",
    "id": "3RU7kfesmGex"
   },
   "source": [
    "# ETL: Create Table"
   ]
  },
  {
   "cell_type": "code",
   "execution_count": 8,
   "metadata": {
    "colab": {},
    "colab_type": "code",
    "id": "uri88uVIRcHa"
   },
   "outputs": [
    {
     "name": "stdout",
     "output_type": "stream",
     "text": [
      "CPU times: user 2 µs, sys: 1e+03 ns, total: 3 µs\n",
      "Wall time: 4.05 µs\n"
     ]
    },
    {
     "data": {
      "text/plain": [
       "<pyblazing.apiv2.sql.Table at 0x7f171c0c8a20>"
      ]
     },
     "execution_count": 8,
     "metadata": {},
     "output_type": "execute_result"
    }
   ],
   "source": [
    "%time\n",
    "# make a table from the combined df\n",
    "bc.create_table('taxi', gdf)"
   ]
  },
  {
   "cell_type": "markdown",
   "metadata": {
    "colab_type": "text",
    "id": "XnzjqEFnmDC5"
   },
   "source": [
    "# ETL: Query Tables for Training Data"
   ]
  },
  {
   "cell_type": "code",
   "execution_count": 9,
   "metadata": {
    "colab": {
     "base_uri": "https://localhost:8080/",
     "height": 425
    },
    "colab_type": "code",
    "id": "_MDxz73ZMhhK",
    "outputId": "f2abeafc-0cdf-46b1-ddf5-a5cde3d37792"
   },
   "outputs": [],
   "source": [
    "# define the query\n",
    "query = '''\n",
    "        SELECT hour(key) as hours, month(key) as months, year(key) - 2000 as years,  \n",
    "        dropoff_longitude - pickup_longitude as longitude_distance, \n",
    "        dropoff_latitude - pickup_latitude as latitude_distance, \n",
    "        passenger_count FROM main.taxi\n",
    "        '''\n",
    "# run query on table\n",
    "X_train = bc.sql(query).get()"
   ]
  },
  {
   "cell_type": "code",
   "execution_count": 10,
   "metadata": {},
   "outputs": [
    {
     "data": {
      "text/html": [
       "<div>\n",
       "<style scoped>\n",
       "    .dataframe tbody tr th:only-of-type {\n",
       "        vertical-align: middle;\n",
       "    }\n",
       "\n",
       "    .dataframe tbody tr th {\n",
       "        vertical-align: top;\n",
       "    }\n",
       "\n",
       "    .dataframe thead th {\n",
       "        text-align: right;\n",
       "    }\n",
       "</style>\n",
       "<table border=\"1\" class=\"dataframe\">\n",
       "  <thead>\n",
       "    <tr style=\"text-align: right;\">\n",
       "      <th></th>\n",
       "      <th>$f0</th>\n",
       "      <th>$f1</th>\n",
       "      <th>$f2</th>\n",
       "      <th>$f3</th>\n",
       "      <th>$f4</th>\n",
       "      <th>passenger_count</th>\n",
       "    </tr>\n",
       "  </thead>\n",
       "  <tbody>\n",
       "    <tr>\n",
       "      <th>0</th>\n",
       "      <td>22</td>\n",
       "      <td>2</td>\n",
       "      <td>12</td>\n",
       "      <td>0.002190</td>\n",
       "      <td>-0.021603</td>\n",
       "      <td>1.0</td>\n",
       "    </tr>\n",
       "    <tr>\n",
       "      <th>1</th>\n",
       "      <td>7</td>\n",
       "      <td>9</td>\n",
       "      <td>14</td>\n",
       "      <td>-0.004524</td>\n",
       "      <td>0.003807</td>\n",
       "      <td>1.0</td>\n",
       "    </tr>\n",
       "    <tr>\n",
       "      <th>2</th>\n",
       "      <td>7</td>\n",
       "      <td>2</td>\n",
       "      <td>13</td>\n",
       "      <td>0.007759</td>\n",
       "      <td>0.010059</td>\n",
       "      <td>3.0</td>\n",
       "    </tr>\n",
       "    <tr>\n",
       "      <th>3</th>\n",
       "      <td>23</td>\n",
       "      <td>4</td>\n",
       "      <td>15</td>\n",
       "      <td>0.016609</td>\n",
       "      <td>0.001045</td>\n",
       "      <td>1.0</td>\n",
       "    </tr>\n",
       "    <tr>\n",
       "      <th>4</th>\n",
       "      <td>8</td>\n",
       "      <td>3</td>\n",
       "      <td>10</td>\n",
       "      <td>-0.024094</td>\n",
       "      <td>-0.023731</td>\n",
       "      <td>1.0</td>\n",
       "    </tr>\n",
       "  </tbody>\n",
       "</table>\n",
       "</div>"
      ],
      "text/plain": [
       "   $f0  $f1  $f2       $f3       $f4  passenger_count\n",
       "0   22    2   12  0.002190 -0.021603              1.0\n",
       "1    7    9   14 -0.004524  0.003807              1.0\n",
       "2    7    2   13  0.007759  0.010059              3.0\n",
       "3   23    4   15  0.016609  0.001045              1.0\n",
       "4    8    3   10 -0.024094 -0.023731              1.0"
      ]
     },
     "execution_count": 10,
     "metadata": {},
     "output_type": "execute_result"
    }
   ],
   "source": [
    "# extract dataframe\n",
    "X_train_gdf = X_train.columns\n",
    "\n",
    "# how's that look?\n",
    "X_train_gdf.head()"
   ]
  },
  {
   "cell_type": "markdown",
   "metadata": {},
   "source": [
    "# Current status brief\n",
    "- table is being made\n",
    "  - but column names are not being coppied as expected \n",
    "- `X_train` is a whole thing "
   ]
  },
  {
   "cell_type": "code",
   "execution_count": 11,
   "metadata": {},
   "outputs": [
    {
     "data": {
      "text/html": [
       "<div>\n",
       "<style scoped>\n",
       "    .dataframe tbody tr th:only-of-type {\n",
       "        vertical-align: middle;\n",
       "    }\n",
       "\n",
       "    .dataframe tbody tr th {\n",
       "        vertical-align: top;\n",
       "    }\n",
       "\n",
       "    .dataframe thead th {\n",
       "        text-align: right;\n",
       "    }\n",
       "</style>\n",
       "<table border=\"1\" class=\"dataframe\">\n",
       "  <thead>\n",
       "    <tr style=\"text-align: right;\">\n",
       "      <th></th>\n",
       "      <th>hours</th>\n",
       "      <th>months</th>\n",
       "      <th>years</th>\n",
       "      <th>longitude_distance</th>\n",
       "      <th>latitude_distance</th>\n",
       "      <th>passenger_count</th>\n",
       "    </tr>\n",
       "  </thead>\n",
       "  <tbody>\n",
       "    <tr>\n",
       "      <th>0</th>\n",
       "      <td>22</td>\n",
       "      <td>2</td>\n",
       "      <td>12</td>\n",
       "      <td>0.002190</td>\n",
       "      <td>-0.021603</td>\n",
       "      <td>1.0</td>\n",
       "    </tr>\n",
       "    <tr>\n",
       "      <th>1</th>\n",
       "      <td>7</td>\n",
       "      <td>9</td>\n",
       "      <td>14</td>\n",
       "      <td>-0.004524</td>\n",
       "      <td>0.003807</td>\n",
       "      <td>1.0</td>\n",
       "    </tr>\n",
       "    <tr>\n",
       "      <th>2</th>\n",
       "      <td>7</td>\n",
       "      <td>2</td>\n",
       "      <td>13</td>\n",
       "      <td>0.007759</td>\n",
       "      <td>0.010059</td>\n",
       "      <td>3.0</td>\n",
       "    </tr>\n",
       "    <tr>\n",
       "      <th>3</th>\n",
       "      <td>23</td>\n",
       "      <td>4</td>\n",
       "      <td>15</td>\n",
       "      <td>0.016609</td>\n",
       "      <td>0.001045</td>\n",
       "      <td>1.0</td>\n",
       "    </tr>\n",
       "    <tr>\n",
       "      <th>4</th>\n",
       "      <td>8</td>\n",
       "      <td>3</td>\n",
       "      <td>10</td>\n",
       "      <td>-0.024094</td>\n",
       "      <td>-0.023731</td>\n",
       "      <td>1.0</td>\n",
       "    </tr>\n",
       "  </tbody>\n",
       "</table>\n",
       "</div>"
      ],
      "text/plain": [
       "   hours  months  years  longitude_distance  latitude_distance  \\\n",
       "0     22       2     12            0.002190          -0.021603   \n",
       "1      7       9     14           -0.004524           0.003807   \n",
       "2      7       2     13            0.007759           0.010059   \n",
       "3     23       4     15            0.016609           0.001045   \n",
       "4      8       3     10           -0.024094          -0.023731   \n",
       "\n",
       "   passenger_count  \n",
       "0              1.0  \n",
       "1              1.0  \n",
       "2              3.0  \n",
       "3              1.0  \n",
       "4              1.0  "
      ]
     },
     "execution_count": 11,
     "metadata": {},
     "output_type": "execute_result"
    }
   ],
   "source": [
    "# temp fix to columns not translating as expected\n",
    "X_train_gdf.columns = ['hours', 'months', 'years', \n",
    "                       'longitude_distance', 'latitude_distance', 'passenger_count']\n",
    "\n",
    "X_train_gdf.head()"
   ]
  },
  {
   "cell_type": "code",
   "execution_count": 12,
   "metadata": {},
   "outputs": [
    {
     "data": {
      "text/html": [
       "<div>\n",
       "<style scoped>\n",
       "    .dataframe tbody tr th:only-of-type {\n",
       "        vertical-align: middle;\n",
       "    }\n",
       "\n",
       "    .dataframe tbody tr th {\n",
       "        vertical-align: top;\n",
       "    }\n",
       "\n",
       "    .dataframe thead th {\n",
       "        text-align: right;\n",
       "    }\n",
       "</style>\n",
       "<table border=\"1\" class=\"dataframe\">\n",
       "  <thead>\n",
       "    <tr style=\"text-align: right;\">\n",
       "      <th></th>\n",
       "      <th>hours</th>\n",
       "      <th>months</th>\n",
       "      <th>years</th>\n",
       "      <th>longitude_distance</th>\n",
       "      <th>latitude_distance</th>\n",
       "      <th>passenger_count</th>\n",
       "    </tr>\n",
       "  </thead>\n",
       "  <tbody>\n",
       "    <tr>\n",
       "      <th>0</th>\n",
       "      <td>22.0</td>\n",
       "      <td>2.0</td>\n",
       "      <td>12.0</td>\n",
       "      <td>0.002190</td>\n",
       "      <td>-0.021603</td>\n",
       "      <td>1.0</td>\n",
       "    </tr>\n",
       "    <tr>\n",
       "      <th>1</th>\n",
       "      <td>7.0</td>\n",
       "      <td>9.0</td>\n",
       "      <td>14.0</td>\n",
       "      <td>-0.004524</td>\n",
       "      <td>0.003807</td>\n",
       "      <td>1.0</td>\n",
       "    </tr>\n",
       "    <tr>\n",
       "      <th>2</th>\n",
       "      <td>7.0</td>\n",
       "      <td>2.0</td>\n",
       "      <td>13.0</td>\n",
       "      <td>0.007759</td>\n",
       "      <td>0.010059</td>\n",
       "      <td>3.0</td>\n",
       "    </tr>\n",
       "    <tr>\n",
       "      <th>3</th>\n",
       "      <td>23.0</td>\n",
       "      <td>4.0</td>\n",
       "      <td>15.0</td>\n",
       "      <td>0.016609</td>\n",
       "      <td>0.001045</td>\n",
       "      <td>1.0</td>\n",
       "    </tr>\n",
       "    <tr>\n",
       "      <th>4</th>\n",
       "      <td>8.0</td>\n",
       "      <td>3.0</td>\n",
       "      <td>10.0</td>\n",
       "      <td>-0.024094</td>\n",
       "      <td>-0.023731</td>\n",
       "      <td>1.0</td>\n",
       "    </tr>\n",
       "  </tbody>\n",
       "</table>\n",
       "</div>"
      ],
      "text/plain": [
       "   hours  months  years  longitude_distance  latitude_distance  \\\n",
       "0   22.0     2.0   12.0            0.002190          -0.021603   \n",
       "1    7.0     9.0   14.0           -0.004524           0.003807   \n",
       "2    7.0     2.0   13.0            0.007759           0.010059   \n",
       "3   23.0     4.0   15.0            0.016609           0.001045   \n",
       "4    8.0     3.0   10.0           -0.024094          -0.023731   \n",
       "\n",
       "   passenger_count  \n",
       "0              1.0  \n",
       "1              1.0  \n",
       "2              3.0  \n",
       "3              1.0  \n",
       "4              1.0  "
      ]
     },
     "execution_count": 12,
     "metadata": {},
     "output_type": "execute_result"
    }
   ],
   "source": [
    "X_train_gdf['longitude_distance'] = X_train_gdf['longitude_distance'].fillna(0).astype('float32')\n",
    "X_train_gdf['latitude_distance'] = X_train_gdf['latitude_distance'].fillna(0).astype('float32')\n",
    "X_train_gdf['passenger_count'] = X_train_gdf['passenger_count'].fillna(0).astype('float32')\n",
    "X_train_gdf['months'] = X_train_gdf['months'].astype('float32') \n",
    "X_train_gdf['years'] = X_train_gdf['years'].astype('float32') \n",
    "X_train_gdf['hours'] = X_train_gdf['hours'].astype('float32')\n",
    "        \n",
    "X_train_gdf.head()"
   ]
  },
  {
   "cell_type": "code",
   "execution_count": 13,
   "metadata": {},
   "outputs": [
    {
     "data": {
      "text/plain": [
       "(hours                 0\n",
       " months                0\n",
       " years                 0\n",
       " longitude_distance    0\n",
       " latitude_distance     0\n",
       " passenger_count       0\n",
       " dtype: int64, 20000000)"
      ]
     },
     "execution_count": 13,
     "metadata": {},
     "output_type": "execute_result"
    }
   ],
   "source": [
    "X_train_gdf.isnull().sum(), len(X_train_gdf)"
   ]
  },
  {
   "cell_type": "code",
   "execution_count": 14,
   "metadata": {},
   "outputs": [
    {
     "data": {
      "text/html": [
       "<div>\n",
       "<style scoped>\n",
       "    .dataframe tbody tr th:only-of-type {\n",
       "        vertical-align: middle;\n",
       "    }\n",
       "\n",
       "    .dataframe tbody tr th {\n",
       "        vertical-align: top;\n",
       "    }\n",
       "\n",
       "    .dataframe thead th {\n",
       "        text-align: right;\n",
       "    }\n",
       "</style>\n",
       "<table border=\"1\" class=\"dataframe\">\n",
       "  <thead>\n",
       "    <tr style=\"text-align: right;\">\n",
       "      <th></th>\n",
       "      <th>fare_amount</th>\n",
       "    </tr>\n",
       "  </thead>\n",
       "  <tbody>\n",
       "    <tr>\n",
       "      <th>0</th>\n",
       "      <td>8.9</td>\n",
       "    </tr>\n",
       "    <tr>\n",
       "      <th>1</th>\n",
       "      <td>4.0</td>\n",
       "    </tr>\n",
       "    <tr>\n",
       "      <th>2</th>\n",
       "      <td>5.5</td>\n",
       "    </tr>\n",
       "    <tr>\n",
       "      <th>3</th>\n",
       "      <td>13.5</td>\n",
       "    </tr>\n",
       "    <tr>\n",
       "      <th>4</th>\n",
       "      <td>10.5</td>\n",
       "    </tr>\n",
       "  </tbody>\n",
       "</table>\n",
       "</div>"
      ],
      "text/plain": [
       "   fare_amount\n",
       "0          8.9\n",
       "1          4.0\n",
       "2          5.5\n",
       "3         13.5\n",
       "4         10.5"
      ]
     },
     "execution_count": 14,
     "metadata": {},
     "output_type": "execute_result"
    }
   ],
   "source": [
    "# query dependent variable y\n",
    "y_train = bc.sql('SELECT fare_amount FROM main.taxi').get()\n",
    "# extract dataframe\n",
    "y_train_gdf = y_train.columns\n",
    "# shrink to single column\n",
    "# y_train_gdf = y_train_gdf['fare_amount']\n",
    "\n",
    "y_train_gdf.head()"
   ]
  },
  {
   "cell_type": "markdown",
   "metadata": {
    "colab_type": "text",
    "id": "ZWLI4jcgiou8"
   },
   "source": [
    "# Install cuML on Colab"
   ]
  },
  {
   "cell_type": "code",
   "execution_count": 15,
   "metadata": {
    "colab": {
     "base_uri": "https://localhost:8080/",
     "height": 918
    },
    "colab_type": "code",
    "id": "n2XmBLf8Di2k",
    "outputId": "dcc62b91-1c07-494a-e151-1ec6f34f92b4"
   },
   "outputs": [],
   "source": [
    "# !wget -c https://repo.continuum.io/miniconda/Miniconda3-4.5.4-Linux-x86_64.sh\n",
    "# !chmod +x Miniconda3-4.5.4-Linux-x86_64.sh\n",
    "# !bash ./Miniconda3-4.5.4-Linux-x86_64.sh -b -f -p /usr/local\n",
    "# import sys\n",
    "# sys.path.append('/usr/local/lib/python3.6/site-packages/')"
   ]
  },
  {
   "cell_type": "code",
   "execution_count": 16,
   "metadata": {
    "colab": {
     "base_uri": "https://localhost:8080/",
     "height": 1000
    },
    "colab_type": "code",
    "id": "UymK3OIogIYj",
    "outputId": "880cfd41-dd27-4896-c4a7-41da3210ebd1"
   },
   "outputs": [],
   "source": [
    "# !conda install -c rapidsai -c nvidia -c conda-forge \\\n",
    "#     -c defaults cuml=0.10 python=3.7 cudatoolkit=10.0 -y"
   ]
  },
  {
   "cell_type": "markdown",
   "metadata": {
    "colab_type": "text",
    "id": "-J3ZzyD6iwQy"
   },
   "source": [
    "# Linear Regression: Train Model"
   ]
  },
  {
   "cell_type": "code",
   "execution_count": 17,
   "metadata": {
    "colab": {
     "base_uri": "https://localhost:8080/",
     "height": 531
    },
    "colab_type": "code",
    "id": "tVUZvT9TB6Ii",
    "outputId": "d61c0249-47ee-40b8-a72f-9d62383f23dd"
   },
   "outputs": [
    {
     "name": "stderr",
     "output_type": "stream",
     "text": [
      "Exception ignored in: <finalize object at 0x7f1711f4cb10; dead>\n",
      "Traceback (most recent call last):\n",
      "  File \"/home/rodrigo/anaconda3/envs/rapidsenv/lib/python3.7/site-packages/numba/utils.py\", line 669, in __call__\n",
      "    return info.func(*info.args, **(info.kwargs or {}))\n",
      "  File \"/home/rodrigo/anaconda3/envs/rapidsenv/lib/python3.7/site-packages/rmm/rmm.py\", line 220, in finalizer\n",
      "    librmm.rmm_free(handle, stream)\n",
      "  File \"rmm/_lib/lib.pyx\", line 229, in rmm._lib.lib.rmm_free\n",
      "  File \"rmm/_lib/lib.pyx\", line 218, in rmm._lib.lib.c_free\n",
      "  File \"rmm/_lib/lib.pyx\", line 49, in rmm._lib.lib.check_error\n",
      "rmm.rmm.RMMError: RMM_ERROR_CUDA_ERROR\n"
     ]
    },
    {
     "ename": "RuntimeError",
     "evalue": "Exception occured! file=/conda/conda-bld/libcuml_1571339163826/work/cpp/src_prims/common/cuml_allocator.hpp line=109: FAIL: call='cudaMalloc(&ptr, n)'. Reason:out of memory\n\nObtained 64 stack frames\n#0 in /home/rodrigo/anaconda3/envs/rapidsenv/lib/python3.7/site-packages/cuml/common/../../../../libcuml++.so(_ZN8MLCommon9Exception16collectCallStackEv+0x3e) [0x7f162412983e]\n#1 in /home/rodrigo/anaconda3/envs/rapidsenv/lib/python3.7/site-packages/cuml/common/../../../../libcuml++.so(_ZN8MLCommon9ExceptionC2ERKNSt7__cxx1112basic_stringIcSt11char_traitsIcESaIcEEE+0x80) [0x7f162412a350]\n#2 in /home/rodrigo/anaconda3/envs/rapidsenv/lib/python3.7/site-packages/cuml/common/../../../../libcuml++.so(_ZN8MLCommon22defaultDeviceAllocator8allocateEmP11CUstream_st+0x10e) [0x7f162412a63e]\n#3 in /home/rodrigo/anaconda3/envs/rapidsenv/lib/python3.7/site-packages/cuml/common/../../../../libcuml++.so(_ZN8MLCommon11buffer_baseIfNS_15deviceAllocatorEEC2ESt10shared_ptrIS1_EP11CUstream_stm+0xa5) [0x7f1624131a75]\n#4 in /home/rodrigo/anaconda3/envs/rapidsenv/lib/python3.7/site-packages/cuml/common/../../../../libcuml++.so(_ZN8MLCommon6LinAlg8lstsqEigIfEEvPT_iiS3_S3_P17cusolverDnContextP13cublasContextSt10shared_ptrINS_15deviceAllocatorEEP11CUstream_st+0x1ac) [0x7f1624200dbc]\n#5 in /home/rodrigo/anaconda3/envs/rapidsenv/lib/python3.7/site-packages/cuml/common/../../../../libcuml++.so(_ZN2ML3GLM6olsFitIfEEvRKNS_15cumlHandle_implEPT_iiS6_S6_S6_bbP11CUstream_sti+0x677) [0x7f16242047c7]\n#6 in /home/rodrigo/anaconda3/envs/rapidsenv/lib/python3.7/site-packages/cuml/common/../../../../libcuml++.so(_ZN2ML3GLM6olsFitERKNS_10cumlHandleEPfiiS4_S4_S4_bbi+0x9d) [0x7f16241c255d]\n#7 in /home/rodrigo/anaconda3/envs/rapidsenv/lib/python3.7/site-packages/cuml/linear_model/linear_regression.cpython-37m-x86_64-linux-gnu.so(+0x11dc3) [0x7f1710cbadc3]\n#8 in /home/rodrigo/anaconda3/envs/rapidsenv/bin/python(_PyObject_FastCallKeywords+0x3fb) [0x55b450a4916b]\n#9 in /home/rodrigo/anaconda3/envs/rapidsenv/bin/python(_PyEval_EvalFrameDefault+0x53ae) [0x55b450aae49e]\n#10 in /home/rodrigo/anaconda3/envs/rapidsenv/bin/python(_PyEval_EvalCodeWithName+0x2f9) [0x55b4509ee929]\n#11 in /home/rodrigo/anaconda3/envs/rapidsenv/bin/python(PyEval_EvalCodeEx+0x44) [0x55b4509ef7e4]\n#12 in /home/rodrigo/anaconda3/envs/rapidsenv/bin/python(PyEval_EvalCode+0x1c) [0x55b4509ef80c]\n#13 in /home/rodrigo/anaconda3/envs/rapidsenv/bin/python(+0x1e0c70) [0x55b450ab8c70]\n#14 in /home/rodrigo/anaconda3/envs/rapidsenv/bin/python(_PyMethodDef_RawFastCallKeywords+0xe9) [0x55b450a405f9]\n#15 in /home/rodrigo/anaconda3/envs/rapidsenv/bin/python(_PyCFunction_FastCallKeywords+0x21) [0x55b450a40891]\n#16 in /home/rodrigo/anaconda3/envs/rapidsenv/bin/python(_PyEval_EvalFrameDefault+0x47d4) [0x55b450aad8c4]\n#17 in /home/rodrigo/anaconda3/envs/rapidsenv/bin/python(_PyEval_EvalCodeWithName+0x2f9) [0x55b4509ee929]\n#18 in /home/rodrigo/anaconda3/envs/rapidsenv/bin/python(_PyFunction_FastCallDict+0x1d5) [0x55b4509ef9f5]\n#19 in /home/rodrigo/anaconda3/envs/rapidsenv/bin/python(_PyEval_EvalFrameDefault+0x1f4c) [0x55b450aab03c]\n#20 in /home/rodrigo/anaconda3/envs/rapidsenv/bin/python(_PyEval_EvalCodeWithName+0x2f9) [0x55b4509ee929]\n#21 in /home/rodrigo/anaconda3/envs/rapidsenv/bin/python(_PyFunction_FastCallKeywords+0x387) [0x55b450a3ff87]\n#22 in /home/rodrigo/anaconda3/envs/rapidsenv/bin/python(_PyEval_EvalFrameDefault+0x416) [0x55b450aa9506]\n#23 in /home/rodrigo/anaconda3/envs/rapidsenv/bin/python(_PyEval_EvalCodeWithName+0x2f9) [0x55b4509ee929]\n#24 in /home/rodrigo/anaconda3/envs/rapidsenv/bin/python(_PyFunction_FastCallDict+0x400) [0x55b4509efc20]\n#25 in /home/rodrigo/anaconda3/envs/rapidsenv/bin/python(_PyObject_Call_Prepend+0x63) [0x55b450a0ee23]\n#26 in /home/rodrigo/anaconda3/envs/rapidsenv/bin/python(PyObject_Call+0x6e) [0x55b450a0151e]\n#27 in /home/rodrigo/anaconda3/envs/rapidsenv/bin/python(_PyEval_EvalFrameDefault+0x1f4c) [0x55b450aab03c]\n#28 in /home/rodrigo/anaconda3/envs/rapidsenv/bin/python(_PyFunction_FastCallKeywords+0xfb) [0x55b450a3fcfb]\n#29 in /home/rodrigo/anaconda3/envs/rapidsenv/bin/python(_PyEval_EvalFrameDefault+0x6f0) [0x55b450aa97e0]\n#30 in /home/rodrigo/anaconda3/envs/rapidsenv/bin/python(_PyEval_EvalCodeWithName+0x2f9) [0x55b4509ee929]\n#31 in /home/rodrigo/anaconda3/envs/rapidsenv/bin/python(PyEval_EvalCodeEx+0x44) [0x55b4509ef7e4]\n#32 in /home/rodrigo/anaconda3/envs/rapidsenv/bin/python(PyEval_EvalCode+0x1c) [0x55b4509ef80c]\n#33 in /home/rodrigo/anaconda3/envs/rapidsenv/bin/python(+0x1e0c70) [0x55b450ab8c70]\n#34 in /home/rodrigo/anaconda3/envs/rapidsenv/bin/python(_PyMethodDef_RawFastCallKeywords+0xe9) [0x55b450a405f9]\n#35 in /home/rodrigo/anaconda3/envs/rapidsenv/bin/python(_PyCFunction_FastCallKeywords+0x21) [0x55b450a40891]\n#36 in /home/rodrigo/anaconda3/envs/rapidsenv/bin/python(_PyEval_EvalFrameDefault+0x47d4) [0x55b450aad8c4]\n#37 in /home/rodrigo/anaconda3/envs/rapidsenv/bin/python(_PyGen_Send+0x2a2) [0x55b450a49ea2]\n#38 in /home/rodrigo/anaconda3/envs/rapidsenv/bin/python(_PyEval_EvalFrameDefault+0x1acc) [0x55b450aaabbc]\n#39 in /home/rodrigo/anaconda3/envs/rapidsenv/bin/python(_PyGen_Send+0x2a2) [0x55b450a49ea2]\n#40 in /home/rodrigo/anaconda3/envs/rapidsenv/bin/python(_PyEval_EvalFrameDefault+0x1acc) [0x55b450aaabbc]\n#41 in /home/rodrigo/anaconda3/envs/rapidsenv/bin/python(_PyGen_Send+0x2a2) [0x55b450a49ea2]\n#42 in /home/rodrigo/anaconda3/envs/rapidsenv/bin/python(_PyMethodDef_RawFastCallKeywords+0x8c) [0x55b450a4059c]\n#43 in /home/rodrigo/anaconda3/envs/rapidsenv/bin/python(_PyMethodDescr_FastCallKeywords+0x4f) [0x55b450a48cdf]\n#44 in /home/rodrigo/anaconda3/envs/rapidsenv/bin/python(_PyEval_EvalFrameDefault+0x4cbc) [0x55b450aaddac]\n#45 in /home/rodrigo/anaconda3/envs/rapidsenv/bin/python(_PyFunction_FastCallKeywords+0xfb) [0x55b450a3fcfb]\n#46 in /home/rodrigo/anaconda3/envs/rapidsenv/bin/python(_PyEval_EvalFrameDefault+0x416) [0x55b450aa9506]\n#47 in /home/rodrigo/anaconda3/envs/rapidsenv/bin/python(_PyFunction_FastCallKeywords+0xfb) [0x55b450a3fcfb]\n#48 in /home/rodrigo/anaconda3/envs/rapidsenv/bin/python(_PyEval_EvalFrameDefault+0x6f0) [0x55b450aa97e0]\n#49 in /home/rodrigo/anaconda3/envs/rapidsenv/bin/python(_PyEval_EvalCodeWithName+0x2f9) [0x55b4509ee929]\n#50 in /home/rodrigo/anaconda3/envs/rapidsenv/bin/python(_PyFunction_FastCallDict+0x400) [0x55b4509efc20]\n#51 in /home/rodrigo/anaconda3/envs/rapidsenv/bin/python(_PyObject_Call_Prepend+0x63) [0x55b450a0ee23]\n#52 in /home/rodrigo/anaconda3/envs/rapidsenv/bin/python(PyObject_Call+0x6e) [0x55b450a0151e]\n#53 in /home/rodrigo/anaconda3/envs/rapidsenv/bin/python(_PyEval_EvalFrameDefault+0x1f4c) [0x55b450aab03c]\n#54 in /home/rodrigo/anaconda3/envs/rapidsenv/bin/python(_PyEval_EvalCodeWithName+0x5da) [0x55b4509eec0a]\n#55 in /home/rodrigo/anaconda3/envs/rapidsenv/bin/python(_PyFunction_FastCallKeywords+0x387) [0x55b450a3ff87]\n#56 in /home/rodrigo/anaconda3/envs/rapidsenv/bin/python(_PyEval_EvalFrameDefault+0x14dc) [0x55b450aaa5cc]\n#57 in /home/rodrigo/anaconda3/envs/rapidsenv/bin/python(+0x171969) [0x55b450a49969]\n#58 in /home/rodrigo/anaconda3/envs/rapidsenv/bin/python(_PyMethodDef_RawFastCallKeywords+0xe9) [0x55b450a405f9]\n#59 in /home/rodrigo/anaconda3/envs/rapidsenv/bin/python(_PyCFunction_FastCallKeywords+0x21) [0x55b450a40891]\n#60 in /home/rodrigo/anaconda3/envs/rapidsenv/bin/python(_PyEval_EvalFrameDefault+0x47d4) [0x55b450aad8c4]\n#61 in /home/rodrigo/anaconda3/envs/rapidsenv/bin/python(_PyEval_EvalCodeWithName+0x5da) [0x55b4509eec0a]\n#62 in /home/rodrigo/anaconda3/envs/rapidsenv/bin/python(_PyFunction_FastCallKeywords+0x387) [0x55b450a3ff87]\n#63 in /home/rodrigo/anaconda3/envs/rapidsenv/bin/python(_PyEval_EvalFrameDefault+0x6f0) [0x55b450aa97e0]\n",
     "output_type": "error",
     "traceback": [
      "\u001b[0;31m---------------------------------------------------------------------------\u001b[0m",
      "\u001b[0;31mRuntimeError\u001b[0m                              Traceback (most recent call last)",
      "\u001b[0;32m<timed exec>\u001b[0m in \u001b[0;36m<module>\u001b[0;34m\u001b[0m\n",
      "\u001b[0;32mcuml/linear_model/linear_regression.pyx\u001b[0m in \u001b[0;36mcuml.linear_model.linear_regression.LinearRegression.fit\u001b[0;34m()\u001b[0m\n",
      "\u001b[0;31mRuntimeError\u001b[0m: Exception occured! file=/conda/conda-bld/libcuml_1571339163826/work/cpp/src_prims/common/cuml_allocator.hpp line=109: FAIL: call='cudaMalloc(&ptr, n)'. Reason:out of memory\n\nObtained 64 stack frames\n#0 in /home/rodrigo/anaconda3/envs/rapidsenv/lib/python3.7/site-packages/cuml/common/../../../../libcuml++.so(_ZN8MLCommon9Exception16collectCallStackEv+0x3e) [0x7f162412983e]\n#1 in /home/rodrigo/anaconda3/envs/rapidsenv/lib/python3.7/site-packages/cuml/common/../../../../libcuml++.so(_ZN8MLCommon9ExceptionC2ERKNSt7__cxx1112basic_stringIcSt11char_traitsIcESaIcEEE+0x80) [0x7f162412a350]\n#2 in /home/rodrigo/anaconda3/envs/rapidsenv/lib/python3.7/site-packages/cuml/common/../../../../libcuml++.so(_ZN8MLCommon22defaultDeviceAllocator8allocateEmP11CUstream_st+0x10e) [0x7f162412a63e]\n#3 in /home/rodrigo/anaconda3/envs/rapidsenv/lib/python3.7/site-packages/cuml/common/../../../../libcuml++.so(_ZN8MLCommon11buffer_baseIfNS_15deviceAllocatorEEC2ESt10shared_ptrIS1_EP11CUstream_stm+0xa5) [0x7f1624131a75]\n#4 in /home/rodrigo/anaconda3/envs/rapidsenv/lib/python3.7/site-packages/cuml/common/../../../../libcuml++.so(_ZN8MLCommon6LinAlg8lstsqEigIfEEvPT_iiS3_S3_P17cusolverDnContextP13cublasContextSt10shared_ptrINS_15deviceAllocatorEEP11CUstream_st+0x1ac) [0x7f1624200dbc]\n#5 in /home/rodrigo/anaconda3/envs/rapidsenv/lib/python3.7/site-packages/cuml/common/../../../../libcuml++.so(_ZN2ML3GLM6olsFitIfEEvRKNS_15cumlHandle_implEPT_iiS6_S6_S6_bbP11CUstream_sti+0x677) [0x7f16242047c7]\n#6 in /home/rodrigo/anaconda3/envs/rapidsenv/lib/python3.7/site-packages/cuml/common/../../../../libcuml++.so(_ZN2ML3GLM6olsFitERKNS_10cumlHandleEPfiiS4_S4_S4_bbi+0x9d) [0x7f16241c255d]\n#7 in /home/rodrigo/anaconda3/envs/rapidsenv/lib/python3.7/site-packages/cuml/linear_model/linear_regression.cpython-37m-x86_64-linux-gnu.so(+0x11dc3) [0x7f1710cbadc3]\n#8 in /home/rodrigo/anaconda3/envs/rapidsenv/bin/python(_PyObject_FastCallKeywords+0x3fb) [0x55b450a4916b]\n#9 in /home/rodrigo/anaconda3/envs/rapidsenv/bin/python(_PyEval_EvalFrameDefault+0x53ae) [0x55b450aae49e]\n#10 in /home/rodrigo/anaconda3/envs/rapidsenv/bin/python(_PyEval_EvalCodeWithName+0x2f9) [0x55b4509ee929]\n#11 in /home/rodrigo/anaconda3/envs/rapidsenv/bin/python(PyEval_EvalCodeEx+0x44) [0x55b4509ef7e4]\n#12 in /home/rodrigo/anaconda3/envs/rapidsenv/bin/python(PyEval_EvalCode+0x1c) [0x55b4509ef80c]\n#13 in /home/rodrigo/anaconda3/envs/rapidsenv/bin/python(+0x1e0c70) [0x55b450ab8c70]\n#14 in /home/rodrigo/anaconda3/envs/rapidsenv/bin/python(_PyMethodDef_RawFastCallKeywords+0xe9) [0x55b450a405f9]\n#15 in /home/rodrigo/anaconda3/envs/rapidsenv/bin/python(_PyCFunction_FastCallKeywords+0x21) [0x55b450a40891]\n#16 in /home/rodrigo/anaconda3/envs/rapidsenv/bin/python(_PyEval_EvalFrameDefault+0x47d4) [0x55b450aad8c4]\n#17 in /home/rodrigo/anaconda3/envs/rapidsenv/bin/python(_PyEval_EvalCodeWithName+0x2f9) [0x55b4509ee929]\n#18 in /home/rodrigo/anaconda3/envs/rapidsenv/bin/python(_PyFunction_FastCallDict+0x1d5) [0x55b4509ef9f5]\n#19 in /home/rodrigo/anaconda3/envs/rapidsenv/bin/python(_PyEval_EvalFrameDefault+0x1f4c) [0x55b450aab03c]\n#20 in /home/rodrigo/anaconda3/envs/rapidsenv/bin/python(_PyEval_EvalCodeWithName+0x2f9) [0x55b4509ee929]\n#21 in /home/rodrigo/anaconda3/envs/rapidsenv/bin/python(_PyFunction_FastCallKeywords+0x387) [0x55b450a3ff87]\n#22 in /home/rodrigo/anaconda3/envs/rapidsenv/bin/python(_PyEval_EvalFrameDefault+0x416) [0x55b450aa9506]\n#23 in /home/rodrigo/anaconda3/envs/rapidsenv/bin/python(_PyEval_EvalCodeWithName+0x2f9) [0x55b4509ee929]\n#24 in /home/rodrigo/anaconda3/envs/rapidsenv/bin/python(_PyFunction_FastCallDict+0x400) [0x55b4509efc20]\n#25 in /home/rodrigo/anaconda3/envs/rapidsenv/bin/python(_PyObject_Call_Prepend+0x63) [0x55b450a0ee23]\n#26 in /home/rodrigo/anaconda3/envs/rapidsenv/bin/python(PyObject_Call+0x6e) [0x55b450a0151e]\n#27 in /home/rodrigo/anaconda3/envs/rapidsenv/bin/python(_PyEval_EvalFrameDefault+0x1f4c) [0x55b450aab03c]\n#28 in /home/rodrigo/anaconda3/envs/rapidsenv/bin/python(_PyFunction_FastCallKeywords+0xfb) [0x55b450a3fcfb]\n#29 in /home/rodrigo/anaconda3/envs/rapidsenv/bin/python(_PyEval_EvalFrameDefault+0x6f0) [0x55b450aa97e0]\n#30 in /home/rodrigo/anaconda3/envs/rapidsenv/bin/python(_PyEval_EvalCodeWithName+0x2f9) [0x55b4509ee929]\n#31 in /home/rodrigo/anaconda3/envs/rapidsenv/bin/python(PyEval_EvalCodeEx+0x44) [0x55b4509ef7e4]\n#32 in /home/rodrigo/anaconda3/envs/rapidsenv/bin/python(PyEval_EvalCode+0x1c) [0x55b4509ef80c]\n#33 in /home/rodrigo/anaconda3/envs/rapidsenv/bin/python(+0x1e0c70) [0x55b450ab8c70]\n#34 in /home/rodrigo/anaconda3/envs/rapidsenv/bin/python(_PyMethodDef_RawFastCallKeywords+0xe9) [0x55b450a405f9]\n#35 in /home/rodrigo/anaconda3/envs/rapidsenv/bin/python(_PyCFunction_FastCallKeywords+0x21) [0x55b450a40891]\n#36 in /home/rodrigo/anaconda3/envs/rapidsenv/bin/python(_PyEval_EvalFrameDefault+0x47d4) [0x55b450aad8c4]\n#37 in /home/rodrigo/anaconda3/envs/rapidsenv/bin/python(_PyGen_Send+0x2a2) [0x55b450a49ea2]\n#38 in /home/rodrigo/anaconda3/envs/rapidsenv/bin/python(_PyEval_EvalFrameDefault+0x1acc) [0x55b450aaabbc]\n#39 in /home/rodrigo/anaconda3/envs/rapidsenv/bin/python(_PyGen_Send+0x2a2) [0x55b450a49ea2]\n#40 in /home/rodrigo/anaconda3/envs/rapidsenv/bin/python(_PyEval_EvalFrameDefault+0x1acc) [0x55b450aaabbc]\n#41 in /home/rodrigo/anaconda3/envs/rapidsenv/bin/python(_PyGen_Send+0x2a2) [0x55b450a49ea2]\n#42 in /home/rodrigo/anaconda3/envs/rapidsenv/bin/python(_PyMethodDef_RawFastCallKeywords+0x8c) [0x55b450a4059c]\n#43 in /home/rodrigo/anaconda3/envs/rapidsenv/bin/python(_PyMethodDescr_FastCallKeywords+0x4f) [0x55b450a48cdf]\n#44 in /home/rodrigo/anaconda3/envs/rapidsenv/bin/python(_PyEval_EvalFrameDefault+0x4cbc) [0x55b450aaddac]\n#45 in /home/rodrigo/anaconda3/envs/rapidsenv/bin/python(_PyFunction_FastCallKeywords+0xfb) [0x55b450a3fcfb]\n#46 in /home/rodrigo/anaconda3/envs/rapidsenv/bin/python(_PyEval_EvalFrameDefault+0x416) [0x55b450aa9506]\n#47 in /home/rodrigo/anaconda3/envs/rapidsenv/bin/python(_PyFunction_FastCallKeywords+0xfb) [0x55b450a3fcfb]\n#48 in /home/rodrigo/anaconda3/envs/rapidsenv/bin/python(_PyEval_EvalFrameDefault+0x6f0) [0x55b450aa97e0]\n#49 in /home/rodrigo/anaconda3/envs/rapidsenv/bin/python(_PyEval_EvalCodeWithName+0x2f9) [0x55b4509ee929]\n#50 in /home/rodrigo/anaconda3/envs/rapidsenv/bin/python(_PyFunction_FastCallDict+0x400) [0x55b4509efc20]\n#51 in /home/rodrigo/anaconda3/envs/rapidsenv/bin/python(_PyObject_Call_Prepend+0x63) [0x55b450a0ee23]\n#52 in /home/rodrigo/anaconda3/envs/rapidsenv/bin/python(PyObject_Call+0x6e) [0x55b450a0151e]\n#53 in /home/rodrigo/anaconda3/envs/rapidsenv/bin/python(_PyEval_EvalFrameDefault+0x1f4c) [0x55b450aab03c]\n#54 in /home/rodrigo/anaconda3/envs/rapidsenv/bin/python(_PyEval_EvalCodeWithName+0x5da) [0x55b4509eec0a]\n#55 in /home/rodrigo/anaconda3/envs/rapidsenv/bin/python(_PyFunction_FastCallKeywords+0x387) [0x55b450a3ff87]\n#56 in /home/rodrigo/anaconda3/envs/rapidsenv/bin/python(_PyEval_EvalFrameDefault+0x14dc) [0x55b450aaa5cc]\n#57 in /home/rodrigo/anaconda3/envs/rapidsenv/bin/python(+0x171969) [0x55b450a49969]\n#58 in /home/rodrigo/anaconda3/envs/rapidsenv/bin/python(_PyMethodDef_RawFastCallKeywords+0xe9) [0x55b450a405f9]\n#59 in /home/rodrigo/anaconda3/envs/rapidsenv/bin/python(_PyCFunction_FastCallKeywords+0x21) [0x55b450a40891]\n#60 in /home/rodrigo/anaconda3/envs/rapidsenv/bin/python(_PyEval_EvalFrameDefault+0x47d4) [0x55b450aad8c4]\n#61 in /home/rodrigo/anaconda3/envs/rapidsenv/bin/python(_PyEval_EvalCodeWithName+0x5da) [0x55b4509eec0a]\n#62 in /home/rodrigo/anaconda3/envs/rapidsenv/bin/python(_PyFunction_FastCallKeywords+0x387) [0x55b450a3ff87]\n#63 in /home/rodrigo/anaconda3/envs/rapidsenv/bin/python(_PyEval_EvalFrameDefault+0x6f0) [0x55b450aa97e0]\n"
     ]
    }
   ],
   "source": [
    "%%time\n",
    "\n",
    "import cuml\n",
    "from cuml import LinearRegression\n",
    "\n",
    "#create model\n",
    "lr = LinearRegression(fit_intercept = True, normalize = False, algorithm = \"eig\")\n",
    "#train model\n",
    "reg = lr.fit(X_train_gdf,y_train_gdf)\n",
    "#print results\n",
    "print(\"Coefficients:\")\n",
    "print(reg.coef_)\n",
    "print(\" \")\n",
    "print(\" Y intercept:\")\n",
    "print(reg.intercept_)"
   ]
  },
  {
   "cell_type": "markdown",
   "metadata": {
    "colab_type": "text",
    "id": "pHtni9xcl-ht"
   },
   "source": [
    "# Linear Regression: Use Model to Predict Future Taxi Fares \n",
    "\n",
    "For this we are using a second dataset with data but no fare amount. We will predict fare_amounts. \n",
    "\n",
    "Here is a public link to that file: https://drive.google.com/file/d/1UG5-dXNPsAWZb0bJgquEg1qZsm12jzZW/view?usp=sharing\n",
    "\n",
    "You will need to download that file and upload it to the colab. "
   ]
  },
  {
   "cell_type": "code",
   "execution_count": 18,
   "metadata": {
    "colab": {},
    "colab_type": "code",
    "id": "yRM5PosNiuGh"
   },
   "outputs": [
    {
     "name": "stdout",
     "output_type": "stream",
     "text": [
      "--2019-10-25 03:50:30--  https://blazingsql-demos.s3-us-west-1.amazonaws.com/test.csv\n",
      "Resolving blazingsql-demos.s3-us-west-1.amazonaws.com (blazingsql-demos.s3-us-west-1.amazonaws.com)... 52.219.120.145\n",
      "Connecting to blazingsql-demos.s3-us-west-1.amazonaws.com (blazingsql-demos.s3-us-west-1.amazonaws.com)|52.219.120.145|:443... connected.\n",
      "HTTP request sent, awaiting response... 200 OK\n",
      "Length: 982916 (960K) [text/csv]\n",
      "Saving to: ‘test.csv.1’\n",
      "\n",
      "test.csv.1          100%[===================>] 959.88K  --.-KB/s    in 0.09s   \n",
      "\n",
      "2019-10-25 03:50:31 (10.6 MB/s) - ‘test.csv.1’ saved [982916/982916]\n",
      "\n"
     ]
    },
    {
     "data": {
      "text/plain": [
       "<pyblazing.apiv2.sql.Table at 0x7f17110340b8>"
      ]
     },
     "execution_count": 18,
     "metadata": {},
     "output_type": "execute_result"
    }
   ],
   "source": [
    "# Create Test Data Table\n",
    "\n",
    "column_names = ['key', 'fare_amount', 'pickup_longitude', 'pickup_latitude', 'dropoff_longitude', 'dropoff_latitude', 'passenger_count']\n",
    "column_types = ['date64', 'float32', 'float32', 'float32', 'float32', 'float32', 'float32']\n",
    "\n",
    "# !wget 'https://blazingsql-demos.s3-us-west-1.amazonaws.com/test.csv'\n",
    "\n",
    "gdf2 = cudf.read_csv('test.csv', delimiter= ',', dtype = column_types, names = column_names)\n",
    "\n",
    "bc.create_table('test', gdf2)\n"
   ]
  },
  {
   "cell_type": "code",
   "execution_count": 19,
   "metadata": {
    "colab": {},
    "colab_type": "code",
    "id": "g4I8AJ51dpW5"
   },
   "outputs": [
    {
     "ename": "KeyError",
     "evalue": "'longitude_distance'",
     "output_type": "error",
     "traceback": [
      "\u001b[0;31m---------------------------------------------------------------------------\u001b[0m",
      "\u001b[0;31mKeyError\u001b[0m                                  Traceback (most recent call last)",
      "\u001b[0;32m<ipython-input-19-0155e4ceb13a>\u001b[0m in \u001b[0;36m<module>\u001b[0;34m\u001b[0m\n\u001b[1;32m      3\u001b[0m \u001b[0mX_test_gdf\u001b[0m \u001b[0;34m=\u001b[0m \u001b[0mX_test\u001b[0m\u001b[0;34m.\u001b[0m\u001b[0mcolumns\u001b[0m\u001b[0;34m\u001b[0m\u001b[0;34m\u001b[0m\u001b[0m\n\u001b[1;32m      4\u001b[0m \u001b[0;34m\u001b[0m\u001b[0m\n\u001b[0;32m----> 5\u001b[0;31m \u001b[0mX_test_gdf\u001b[0m\u001b[0;34m[\u001b[0m\u001b[0;34m'longitude_distance'\u001b[0m\u001b[0;34m]\u001b[0m \u001b[0;34m=\u001b[0m \u001b[0mX_test_gdf\u001b[0m\u001b[0;34m[\u001b[0m\u001b[0;34m'longitude_distance'\u001b[0m\u001b[0;34m]\u001b[0m\u001b[0;34m.\u001b[0m\u001b[0mfillna\u001b[0m\u001b[0;34m(\u001b[0m\u001b[0;36m0\u001b[0m\u001b[0;34m)\u001b[0m\u001b[0;34m.\u001b[0m\u001b[0mastype\u001b[0m\u001b[0;34m(\u001b[0m\u001b[0;34m'float32'\u001b[0m\u001b[0;34m)\u001b[0m\u001b[0;34m\u001b[0m\u001b[0;34m\u001b[0m\u001b[0m\n\u001b[0m\u001b[1;32m      6\u001b[0m \u001b[0mX_test_gdf\u001b[0m\u001b[0;34m[\u001b[0m\u001b[0;34m'latitude_distance'\u001b[0m\u001b[0;34m]\u001b[0m \u001b[0;34m=\u001b[0m \u001b[0mX_test_gdf\u001b[0m\u001b[0;34m[\u001b[0m\u001b[0;34m'latitude_distance'\u001b[0m\u001b[0;34m]\u001b[0m\u001b[0;34m.\u001b[0m\u001b[0mfillna\u001b[0m\u001b[0;34m(\u001b[0m\u001b[0;36m0\u001b[0m\u001b[0;34m)\u001b[0m\u001b[0;34m.\u001b[0m\u001b[0mastype\u001b[0m\u001b[0;34m(\u001b[0m\u001b[0;34m'float32'\u001b[0m\u001b[0;34m)\u001b[0m\u001b[0;34m\u001b[0m\u001b[0;34m\u001b[0m\u001b[0m\n\u001b[1;32m      7\u001b[0m \u001b[0mX_test_gdf\u001b[0m\u001b[0;34m[\u001b[0m\u001b[0;34m'passenger_count'\u001b[0m\u001b[0;34m]\u001b[0m \u001b[0;34m=\u001b[0m \u001b[0mX_test_gdf\u001b[0m\u001b[0;34m[\u001b[0m\u001b[0;34m'passenger_count'\u001b[0m\u001b[0;34m]\u001b[0m\u001b[0;34m.\u001b[0m\u001b[0mfillna\u001b[0m\u001b[0;34m(\u001b[0m\u001b[0;36m0\u001b[0m\u001b[0;34m)\u001b[0m\u001b[0;34m.\u001b[0m\u001b[0mastype\u001b[0m\u001b[0;34m(\u001b[0m\u001b[0;34m'float32'\u001b[0m\u001b[0;34m)\u001b[0m\u001b[0;34m\u001b[0m\u001b[0;34m\u001b[0m\u001b[0m\n",
      "\u001b[0;32m~/anaconda3/envs/rapidsenv/lib/python3.7/site-packages/cudf/core/dataframe.py\u001b[0m in \u001b[0;36m__getitem__\u001b[0;34m(self, arg)\u001b[0m\n\u001b[1;32m    323\u001b[0m             \u001b[0;32mreturn\u001b[0m \u001b[0mself\u001b[0m\u001b[0;34m.\u001b[0m\u001b[0mcolumns\u001b[0m\u001b[0;34m.\u001b[0m\u001b[0m_get_column_major\u001b[0m\u001b[0;34m(\u001b[0m\u001b[0mself\u001b[0m\u001b[0;34m,\u001b[0m \u001b[0marg\u001b[0m\u001b[0;34m)\u001b[0m\u001b[0;34m\u001b[0m\u001b[0;34m\u001b[0m\u001b[0m\n\u001b[1;32m    324\u001b[0m         \u001b[0;32mif\u001b[0m \u001b[0mis_scalar\u001b[0m\u001b[0;34m(\u001b[0m\u001b[0marg\u001b[0m\u001b[0;34m)\u001b[0m \u001b[0;32mor\u001b[0m \u001b[0misinstance\u001b[0m\u001b[0;34m(\u001b[0m\u001b[0marg\u001b[0m\u001b[0;34m,\u001b[0m \u001b[0mtuple\u001b[0m\u001b[0;34m)\u001b[0m\u001b[0;34m:\u001b[0m\u001b[0;34m\u001b[0m\u001b[0;34m\u001b[0m\u001b[0m\n\u001b[0;32m--> 325\u001b[0;31m             \u001b[0ms\u001b[0m \u001b[0;34m=\u001b[0m \u001b[0mself\u001b[0m\u001b[0;34m.\u001b[0m\u001b[0m_cols\u001b[0m\u001b[0;34m[\u001b[0m\u001b[0marg\u001b[0m\u001b[0;34m]\u001b[0m\u001b[0;34m\u001b[0m\u001b[0;34m\u001b[0m\u001b[0m\n\u001b[0m\u001b[1;32m    326\u001b[0m             \u001b[0ms\u001b[0m\u001b[0;34m.\u001b[0m\u001b[0mname\u001b[0m \u001b[0;34m=\u001b[0m \u001b[0marg\u001b[0m\u001b[0;34m\u001b[0m\u001b[0;34m\u001b[0m\u001b[0m\n\u001b[1;32m    327\u001b[0m             \u001b[0ms\u001b[0m\u001b[0;34m.\u001b[0m\u001b[0mindex\u001b[0m \u001b[0;34m=\u001b[0m \u001b[0mself\u001b[0m\u001b[0;34m.\u001b[0m\u001b[0mindex\u001b[0m\u001b[0;34m\u001b[0m\u001b[0;34m\u001b[0m\u001b[0m\n",
      "\u001b[0;31mKeyError\u001b[0m: 'longitude_distance'"
     ]
    }
   ],
   "source": [
    "# Query Test Data Table to Create GDF\n",
    "X_test = bc.sql('SELECT hour(key) as hours, month(key) as months, year(key) - 2000 as years,  dropoff_longitude - pickup_longitude as longitude_distance, dropoff_latitude - pickup_latitude as latitude_distance , passenger_count FROM main.test').get()\n",
    "X_test_gdf = X_test.columns\n",
    "\n",
    "X_test_gdf['longitude_distance'] = X_test_gdf['longitude_distance'].fillna(0).astype('float32')\n",
    "X_test_gdf['latitude_distance'] = X_test_gdf['latitude_distance'].fillna(0).astype('float32')\n",
    "X_test_gdf['passenger_count'] = X_test_gdf['passenger_count'].fillna(0).astype('float32')\n",
    "X_test_gdf['months'] = X_test_gdf['months'].astype('float32') \n",
    "X_test_gdf['years'] = X_test_gdf['years'].astype('float32') \n",
    "X_test_gdf['hours'] = X_test_gdf['hours'].astype('float32')\n",
    "\n",
    "print(X_test_gdf) #this is the data we will use to predict future ride costs"
   ]
  },
  {
   "cell_type": "code",
   "execution_count": null,
   "metadata": {
    "colab": {},
    "colab_type": "code",
    "id": "zCft6P5QkepN"
   },
   "outputs": [],
   "source": [
    "# Predict Fare Amounts \n",
    "predictions = lr.predict(X_test_gdf)\n",
    "print(predictions)"
   ]
  },
  {
   "cell_type": "code",
   "execution_count": null,
   "metadata": {
    "colab": {},
    "colab_type": "code",
    "id": "GdjUjJ42l2BI"
   },
   "outputs": [],
   "source": [
    "#Combine into a table of table points and predictions\n",
    "X_test_gdf['predicted_fare'] = predictions\n",
    "print(X_test_gdf)"
   ]
  },
  {
   "cell_type": "markdown",
   "metadata": {
    "colab_type": "text",
    "id": "zO1g6UXXiVGf"
   },
   "source": [
    " ##  Predict Cost from Grand Central Station to Samsung Next NYC at 7:00 AM on May 15th, 2020"
   ]
  },
  {
   "cell_type": "code",
   "execution_count": null,
   "metadata": {
    "colab": {},
    "colab_type": "code",
    "id": "lACHZcrMl3v_",
    "scrolled": true
   },
   "outputs": [],
   "source": [
    "samsung_ride = cudf.DataFrame([('hours', 7.0), ('days',15.0), ('months', 5.0), ('years', 20.0), ('longitude_distance', 0.012727), ('latitude_distance', 0.008484), ('passenger_count', 1.0)])\n",
    "\n",
    "samsung_ride['hours'] = samsung_ride['hours'].astype('float32')\n",
    "samsung_ride['days'] = samsung_ride['days'].astype('float32')\n",
    "samsung_ride['months'] = samsung_ride['months'].astype('float32')\n",
    "samsung_ride['years'] = samsung_ride['years'].astype('float32')\n",
    "samsung_ride['longitude_distance'] = samsung_ride['longitude_distance'].astype('float32')\n",
    "samsung_ride['latitude_distance'] = samsung_ride['latitude_distance'].astype('float32')\n",
    "samsung_ride['passenger_count'] = samsung_ride['passenger_count'].astype('float32')\n",
    "\n",
    "samsung_prediction = lr.predict(samsung_ride)\n",
    "print(samsung_prediction)"
   ]
  }
 ],
 "metadata": {
  "accelerator": "GPU",
  "colab": {
   "collapsed_sections": [],
   "name": "BlazingSQL_cuML_Taxi_Fare_Prediction.ipynb",
   "provenance": []
  },
  "kernelspec": {
   "display_name": "Python 3",
   "language": "python",
   "name": "python3"
  },
  "language_info": {
   "codemirror_mode": {
    "name": "ipython",
    "version": 3
   },
   "file_extension": ".py",
   "mimetype": "text/x-python",
   "name": "python",
   "nbconvert_exporter": "python",
   "pygments_lexer": "ipython3",
   "version": "3.7.3"
  }
 },
 "nbformat": 4,
 "nbformat_minor": 4
}
