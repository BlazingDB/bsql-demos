{
 "cells": [
  {
   "cell_type": "markdown",
   "metadata": {
    "colab_type": "text",
    "id": "l4fOFMjbRvkZ"
   },
   "source": [
    "# BlazingSQL + cuML NYC Taxi Cab Fare Prediction\n",
    "\n",
    "This demo uses pubically availible [NYC Taxi Cab Data](https://www.kaggle.com/c/new-york-city-taxi-fare-prediction) to predict the total fare of a taxi ride in New York City given the pickup and dropoff locations. \n",
    "\n",
    "In this notebook, we will cover: \n",
    "- How to set up [BlazingSQL](https://blazingsql.com) and the [RAPIDS AI](https://rapids.ai/) suite.\n",
    "- How to read and query csv files with cuDF and BlazingSQL.\n",
    "- How to implement a linear regression model with cuML.\n",
    "\n",
    "![Impression](https://www.google-analytics.com/collect?v=1&tid=UA-39814657-5&cid=555&t=event&ec=guides&ea=taxi_fare_prediction&dt=taxi_fare_prediction)\n"
   ]
  },
  {
   "cell_type": "markdown",
   "metadata": {
    "colab_type": "text",
    "id": "h7IpRu0ZjSYY"
   },
   "source": [
    "## Setup\n",
    "### Environment Sanity Check \n",
    "\n",
    "RAPIDS packages (BlazingSQL included) require Pascal+ architecture to run. For Colab, this translates to a T4 GPU instance. \n",
    "\n",
    "The cell below will let you know what type of GPU you've been allocated, and how to proceed."
   ]
  },
  {
   "cell_type": "code",
   "execution_count": 1,
   "metadata": {
    "colab": {
     "base_uri": "https://localhost:8080/",
     "height": 306
    },
    "colab_type": "code",
    "id": "7Z2YTrgqGgI9",
    "outputId": "392dfd83-abdf-48c9-9ef6-b3cc6ae03c74"
   },
   "outputs": [
    {
     "name": "stdout",
     "output_type": "stream",
     "text": [
      "Woo! You got the right kind of GPU!\n"
     ]
    }
   ],
   "source": [
    "# tag specs\n",
    "colab_smi = !nvidia-smi\n",
    "\n",
    "# focus GPU type\n",
    "try:\n",
    "    my_gpu = ' '.join(colab_smi[7].split()[2:4])\n",
    "# not on gpu acceleration \n",
    "except:\n",
    "    raise Exception(\"\\nPlease make sure you've configured Colab to request a GPU instance type.\\n\\n\"\n",
    "                    \"At top of Colab, try: Runtime -> Change runtime type -> Hardware accelerator -> GPU -> Save\\n\")\n",
    "\n",
    "# not allocated compatable GPU\n",
    "if (my_gpu != b'Tesla T4') and (my_gpu != 'Tesla P100-PCIE...') and (my_gpu != 'GeForce GTX'):\n",
    "    # allocated K80\n",
    "    if my_gpu == 'Tesla K80':\n",
    "        raise Exception(\"\\nYou've been allocated a K80 instance\\n\\n\"\n",
    "                    \"Unfortunately, this demo requires a T4 instance\\n\\n\"\n",
    "                    \"At top of Colab, try: Runtime -> Reset all runtimes...\\n\")\n",
    "    else:\n",
    "        raise Exception(f\"\\nYou've achieved wizardy.\\nyour GPU is {my_gpu}\\nPlease inform info@blazingsql.com\")\n",
    "\n",
    "# allocated compatable GPU\n",
    "else:\n",
    "    print('Woo! You got the right kind of GPU!')"
   ]
  },
  {
   "cell_type": "markdown",
   "metadata": {
    "colab_type": "text",
    "id": "eadvPhFii-Q6"
   },
   "source": [
    "## Installs \n",
    "\n",
    "Below you will find three code blocks:\n",
    "1. The first installs miniconda.\n",
    "2. The second installs RAPIDS AI and sets up the system environment. \n",
    "3. The third installs BlazingSQL.\n",
    "\n",
    "### Miniconda"
   ]
  },
  {
   "cell_type": "code",
   "execution_count": 2,
   "metadata": {
    "colab": {
     "base_uri": "https://localhost:8080/",
     "height": 1000
    },
    "colab_type": "code",
    "id": "IS8mCBCyGs8Y",
    "outputId": "3282198c-b4cf-4cb3-c91e-b3c08bb15d86"
   },
   "outputs": [],
   "source": [
    "# # intall miniconda\n",
    "# !wget -c https://repo.continuum.io/miniconda/Miniconda3-4.5.4-Linux-x86_64.sh\n",
    "# !chmod +x Miniconda3-4.5.4-Linux-x86_64.sh\n",
    "# !bash ./Miniconda3-4.5.4-Linux-x86_64.sh -b -f -p /usr/local"
   ]
  },
  {
   "cell_type": "markdown",
   "metadata": {},
   "source": [
    "### RAPIDS AI"
   ]
  },
  {
   "cell_type": "code",
   "execution_count": 3,
   "metadata": {},
   "outputs": [],
   "source": [
    "# # install RAPIDS packages\n",
    "# !conda install -q -y --prefix /usr/local -c nvidia -c rapidsai \\\n",
    "#   -c numba -c conda-forge -c pytorch -c defaults \\\n",
    "#   cudf=0.9 cuml=0.9 cugraph=0.9 python=3.6 cudatoolkit=10.0\n",
    "\n",
    "# # set environment vars\n",
    "# import sys, os, shutil\n",
    "# sys.path.append('/usr/local/lib/python3.6/site-packages/')\n",
    "# os.environ['NUMBAPRO_NVVM'] = '/usr/local/cuda/nvvm/lib64/libnvvm.so'\n",
    "# os.environ['NUMBAPRO_LIBDEVICE'] = '/usr/local/cuda/nvvm/libdevice/'\n",
    "\n",
    "# # copy .so files to current working dir\n",
    "# for fn in ['libcudf.so', 'librmm.so']:\n",
    "#     shutil.copy('/usr/local/lib/'+fn, os.getcwd())"
   ]
  },
  {
   "cell_type": "markdown",
   "metadata": {},
   "source": [
    "### BlazingSQL"
   ]
  },
  {
   "cell_type": "code",
   "execution_count": 4,
   "metadata": {},
   "outputs": [],
   "source": [
    "# # Install BlazingSQL for CUDA 10.0\n",
    "# ! conda install -q -y --prefix /usr/local -c conda-forge -c defaults -c nvidia -c rapidsai \\\n",
    "#    -c blazingsql/label/cuda10.0 -c blazingsql \\\n",
    "#    blazingsql-calcite blazingsql-orchestrator blazingsql-ral blazingsql-python\n",
    "\n",
    "# !pip install flatbuffers"
   ]
  },
  {
   "cell_type": "markdown",
   "metadata": {
    "colab_type": "text",
    "id": "RnUyVHwHmKyk"
   },
   "source": [
    "# Import Packages"
   ]
  },
  {
   "cell_type": "code",
   "execution_count": 1,
   "metadata": {},
   "outputs": [
    {
     "name": "stdout",
     "output_type": "stream",
     "text": [
      "BlazingContext ready\n"
     ]
    }
   ],
   "source": [
    "# Import RAPIDS AI stack\n",
    "from blazingsql import BlazingContext\n",
    "import cudf\n",
    "\n",
    "bc = BlazingContext()"
   ]
  },
  {
   "cell_type": "markdown",
   "metadata": {
    "colab_type": "text",
    "id": "Gt0TPBqif50q"
   },
   "source": [
    "# Download Data"
   ]
  },
  {
   "cell_type": "code",
   "execution_count": 2,
   "metadata": {
    "colab": {
     "base_uri": "https://localhost:8080/",
     "height": 765
    },
    "colab_type": "code",
    "id": "6uR3aNkqD1Pb",
    "outputId": "84628680-669e-4583-d3a2-d27f7c7dfed4"
   },
   "outputs": [],
   "source": [
    "# !wget https://blazingsql-colab.s3.amazonaws.com/taxi_data/taxi_00.csv\n",
    "# !wget https://blazingsql-colab.s3.amazonaws.com/taxi_data/taxi_01.csv\n",
    "# !wget https://blazingsql-colab.s3.amazonaws.com/taxi_data/taxi_02.csv\n",
    "# !wget https://blazingsql-colab.s3.amazonaws.com/taxi_data/taxi_03.csv"
   ]
  },
  {
   "cell_type": "markdown",
   "metadata": {
    "colab_type": "text",
    "id": "PXtydYrimQGt"
   },
   "source": [
    "# ETL: Read and Join CSVs\n"
   ]
  },
  {
   "cell_type": "code",
   "execution_count": 3,
   "metadata": {
    "colab": {},
    "colab_type": "code",
    "id": "Gr7CUSrsEBmW"
   },
   "outputs": [
    {
     "data": {
      "text/html": [
       "<div>\n",
       "<style scoped>\n",
       "    .dataframe tbody tr th:only-of-type {\n",
       "        vertical-align: middle;\n",
       "    }\n",
       "\n",
       "    .dataframe tbody tr th {\n",
       "        vertical-align: top;\n",
       "    }\n",
       "\n",
       "    .dataframe thead th {\n",
       "        text-align: right;\n",
       "    }\n",
       "</style>\n",
       "<table border=\"1\" class=\"dataframe\">\n",
       "  <thead>\n",
       "    <tr style=\"text-align: right;\">\n",
       "      <th></th>\n",
       "      <th>key</th>\n",
       "      <th>fare_amount</th>\n",
       "      <th>pickup_longitude</th>\n",
       "      <th>pickup_latitude</th>\n",
       "      <th>dropoff_longitude</th>\n",
       "      <th>dropoff_latitude</th>\n",
       "      <th>passenger_count</th>\n",
       "    </tr>\n",
       "  </thead>\n",
       "  <tbody>\n",
       "    <tr>\n",
       "      <th>0</th>\n",
       "      <td>2012-02-02 22:30:19.002</td>\n",
       "      <td>8.9</td>\n",
       "      <td>-73.988708</td>\n",
       "      <td>40.758804</td>\n",
       "      <td>-73.986519</td>\n",
       "      <td>40.737202</td>\n",
       "      <td>1.0</td>\n",
       "    </tr>\n",
       "    <tr>\n",
       "      <th>1</th>\n",
       "      <td>2014-09-20 07:19:24.001</td>\n",
       "      <td>4.0</td>\n",
       "      <td>-73.990204</td>\n",
       "      <td>40.746708</td>\n",
       "      <td>-73.994728</td>\n",
       "      <td>40.750515</td>\n",
       "      <td>1.0</td>\n",
       "    </tr>\n",
       "    <tr>\n",
       "      <th>2</th>\n",
       "      <td>2013-02-23 07:18:05.001</td>\n",
       "      <td>5.5</td>\n",
       "      <td>-74.016762</td>\n",
       "      <td>40.709438</td>\n",
       "      <td>-74.009003</td>\n",
       "      <td>40.719498</td>\n",
       "      <td>3.0</td>\n",
       "    </tr>\n",
       "    <tr>\n",
       "      <th>3</th>\n",
       "      <td>2015-04-18 23:49:27.009</td>\n",
       "      <td>13.5</td>\n",
       "      <td>-74.002708</td>\n",
       "      <td>40.733730</td>\n",
       "      <td>-73.986099</td>\n",
       "      <td>40.734776</td>\n",
       "      <td>1.0</td>\n",
       "    </tr>\n",
       "    <tr>\n",
       "      <th>4</th>\n",
       "      <td>2010-03-04 08:15:59.001</td>\n",
       "      <td>10.5</td>\n",
       "      <td>-73.988365</td>\n",
       "      <td>40.737663</td>\n",
       "      <td>-74.012459</td>\n",
       "      <td>40.713932</td>\n",
       "      <td>1.0</td>\n",
       "    </tr>\n",
       "  </tbody>\n",
       "</table>\n",
       "</div>"
      ],
      "text/plain": [
       "                      key  fare_amount  pickup_longitude  pickup_latitude  \\\n",
       "0 2012-02-02 22:30:19.002          8.9        -73.988708        40.758804   \n",
       "1 2014-09-20 07:19:24.001          4.0        -73.990204        40.746708   \n",
       "2 2013-02-23 07:18:05.001          5.5        -74.016762        40.709438   \n",
       "3 2015-04-18 23:49:27.009         13.5        -74.002708        40.733730   \n",
       "4 2010-03-04 08:15:59.001         10.5        -73.988365        40.737663   \n",
       "\n",
       "   dropoff_longitude  dropoff_latitude  passenger_count  \n",
       "0         -73.986519         40.737202              1.0  \n",
       "1         -73.994728         40.750515              1.0  \n",
       "2         -74.009003         40.719498              3.0  \n",
       "3         -73.986099         40.734776              1.0  \n",
       "4         -74.012459         40.713932              1.0  "
      ]
     },
     "execution_count": 3,
     "metadata": {},
     "output_type": "execute_result"
    }
   ],
   "source": [
    "# set attribute column names \n",
    "column_names = ['key', 'fare_amount', 'pickup_longitude', 'pickup_latitude', \n",
    "                'dropoff_longitude', 'dropoff_latitude', 'passenger_count']\n",
    "# and the type of each column\n",
    "column_types = ['date64', 'float32', 'float32', 'float32', \n",
    "                'float32', 'float32', 'float32']\n",
    "\n",
    "# load first csv \n",
    "gdf_00 = cudf.read_csv('taxi_00.csv', delimiter= ',', dtype = column_types, names = column_names)\n",
    "# load second csv\n",
    "gdf_01 = cudf.read_csv('taxi_01.csv', delimiter= ',', dtype = column_types, names = column_names)\n",
    "# load third csv\n",
    "gdf_02 = cudf.read_csv('taxi_01.csv', delimiter= ',', dtype = column_types, names = column_names)\n",
    "# load fourth csv\n",
    "gdf_03 = cudf.read_csv('taxi_01.csv', delimiter= ',', dtype = column_types, names = column_names)\n",
    "\n",
    "# combine all those dataframes into one master dataframe\n",
    "gdf = cudf.concat([gdf_00,gdf_01, gdf_02, gdf_03])\n",
    "\n",
    "# what's it look like?\n",
    "gdf.head()"
   ]
  },
  {
   "cell_type": "markdown",
   "metadata": {
    "colab_type": "text",
    "id": "3RU7kfesmGex"
   },
   "source": [
    "# ETL: Create Table"
   ]
  },
  {
   "cell_type": "code",
   "execution_count": 4,
   "metadata": {
    "colab": {},
    "colab_type": "code",
    "id": "uri88uVIRcHa"
   },
   "outputs": [
    {
     "name": "stdout",
     "output_type": "stream",
     "text": [
      "CPU times: user 3 µs, sys: 1 µs, total: 4 µs\n",
      "Wall time: 6.44 µs\n"
     ]
    },
    {
     "data": {
      "text/plain": [
       "<pyblazing.apiv2.sql.Table at 0x7f5559634668>"
      ]
     },
     "execution_count": 4,
     "metadata": {},
     "output_type": "execute_result"
    }
   ],
   "source": [
    "%time\n",
    "# make a table from the combined df\n",
    "bc.create_table('taxi', gdf)"
   ]
  },
  {
   "cell_type": "markdown",
   "metadata": {
    "colab_type": "text",
    "id": "XnzjqEFnmDC5"
   },
   "source": [
    "# ETL: Query Tables for Training Data"
   ]
  },
  {
   "cell_type": "code",
   "execution_count": 5,
   "metadata": {
    "colab": {
     "base_uri": "https://localhost:8080/",
     "height": 425
    },
    "colab_type": "code",
    "id": "_MDxz73ZMhhK",
    "outputId": "f2abeafc-0cdf-46b1-ddf5-a5cde3d37792"
   },
   "outputs": [],
   "source": [
    "# define the query\n",
    "query = '''\n",
    "        SELECT hour(key) as hours, month(key) as months, year(key) - 2000 as years,  \n",
    "        dropoff_longitude - pickup_longitude as longitude_distance, \n",
    "        dropoff_latitude - pickup_latitude as latitude_distance, \n",
    "        passenger_count FROM main.taxi\n",
    "        '''\n",
    "# run query on table\n",
    "X_train = bc.sql(query).get()"
   ]
  },
  {
   "cell_type": "code",
   "execution_count": 6,
   "metadata": {},
   "outputs": [
    {
     "data": {
      "text/html": [
       "<div>\n",
       "<style scoped>\n",
       "    .dataframe tbody tr th:only-of-type {\n",
       "        vertical-align: middle;\n",
       "    }\n",
       "\n",
       "    .dataframe tbody tr th {\n",
       "        vertical-align: top;\n",
       "    }\n",
       "\n",
       "    .dataframe thead th {\n",
       "        text-align: right;\n",
       "    }\n",
       "</style>\n",
       "<table border=\"1\" class=\"dataframe\">\n",
       "  <thead>\n",
       "    <tr style=\"text-align: right;\">\n",
       "      <th></th>\n",
       "      <th>$f0</th>\n",
       "      <th>$f1</th>\n",
       "      <th>$f2</th>\n",
       "      <th>$f3</th>\n",
       "      <th>$f4</th>\n",
       "      <th>passenger_count</th>\n",
       "    </tr>\n",
       "  </thead>\n",
       "  <tbody>\n",
       "    <tr>\n",
       "      <th>0</th>\n",
       "      <td>22</td>\n",
       "      <td>2</td>\n",
       "      <td>12</td>\n",
       "      <td>0.002190</td>\n",
       "      <td>-0.021603</td>\n",
       "      <td>1.0</td>\n",
       "    </tr>\n",
       "    <tr>\n",
       "      <th>1</th>\n",
       "      <td>7</td>\n",
       "      <td>9</td>\n",
       "      <td>14</td>\n",
       "      <td>-0.004524</td>\n",
       "      <td>0.003807</td>\n",
       "      <td>1.0</td>\n",
       "    </tr>\n",
       "    <tr>\n",
       "      <th>2</th>\n",
       "      <td>7</td>\n",
       "      <td>2</td>\n",
       "      <td>13</td>\n",
       "      <td>0.007759</td>\n",
       "      <td>0.010059</td>\n",
       "      <td>3.0</td>\n",
       "    </tr>\n",
       "    <tr>\n",
       "      <th>3</th>\n",
       "      <td>23</td>\n",
       "      <td>4</td>\n",
       "      <td>15</td>\n",
       "      <td>0.016609</td>\n",
       "      <td>0.001045</td>\n",
       "      <td>1.0</td>\n",
       "    </tr>\n",
       "    <tr>\n",
       "      <th>4</th>\n",
       "      <td>8</td>\n",
       "      <td>3</td>\n",
       "      <td>10</td>\n",
       "      <td>-0.024094</td>\n",
       "      <td>-0.023731</td>\n",
       "      <td>1.0</td>\n",
       "    </tr>\n",
       "  </tbody>\n",
       "</table>\n",
       "</div>"
      ],
      "text/plain": [
       "   $f0  $f1  $f2       $f3       $f4  passenger_count\n",
       "0   22    2   12  0.002190 -0.021603              1.0\n",
       "1    7    9   14 -0.004524  0.003807              1.0\n",
       "2    7    2   13  0.007759  0.010059              3.0\n",
       "3   23    4   15  0.016609  0.001045              1.0\n",
       "4    8    3   10 -0.024094 -0.023731              1.0"
      ]
     },
     "execution_count": 6,
     "metadata": {},
     "output_type": "execute_result"
    }
   ],
   "source": [
    "# extract dataframe\n",
    "X_train_gdf = X_train.columns\n",
    "\n",
    "# how's that look?\n",
    "X_train_gdf.head()"
   ]
  },
  {
   "cell_type": "markdown",
   "metadata": {},
   "source": [
    "# Current status brief\n",
    "- table is being made\n",
    "  - but column names are not being coppied as expected \n",
    "- `X_train` is a whole thing "
   ]
  },
  {
   "cell_type": "code",
   "execution_count": 7,
   "metadata": {},
   "outputs": [
    {
     "data": {
      "text/html": [
       "<div>\n",
       "<style scoped>\n",
       "    .dataframe tbody tr th:only-of-type {\n",
       "        vertical-align: middle;\n",
       "    }\n",
       "\n",
       "    .dataframe tbody tr th {\n",
       "        vertical-align: top;\n",
       "    }\n",
       "\n",
       "    .dataframe thead th {\n",
       "        text-align: right;\n",
       "    }\n",
       "</style>\n",
       "<table border=\"1\" class=\"dataframe\">\n",
       "  <thead>\n",
       "    <tr style=\"text-align: right;\">\n",
       "      <th></th>\n",
       "      <th>hours</th>\n",
       "      <th>months</th>\n",
       "      <th>years</th>\n",
       "      <th>longitude_distance</th>\n",
       "      <th>latitude_distance</th>\n",
       "      <th>passenger_count</th>\n",
       "    </tr>\n",
       "  </thead>\n",
       "  <tbody>\n",
       "    <tr>\n",
       "      <th>0</th>\n",
       "      <td>22</td>\n",
       "      <td>2</td>\n",
       "      <td>12</td>\n",
       "      <td>0.002190</td>\n",
       "      <td>-0.021603</td>\n",
       "      <td>1.0</td>\n",
       "    </tr>\n",
       "    <tr>\n",
       "      <th>1</th>\n",
       "      <td>7</td>\n",
       "      <td>9</td>\n",
       "      <td>14</td>\n",
       "      <td>-0.004524</td>\n",
       "      <td>0.003807</td>\n",
       "      <td>1.0</td>\n",
       "    </tr>\n",
       "    <tr>\n",
       "      <th>2</th>\n",
       "      <td>7</td>\n",
       "      <td>2</td>\n",
       "      <td>13</td>\n",
       "      <td>0.007759</td>\n",
       "      <td>0.010059</td>\n",
       "      <td>3.0</td>\n",
       "    </tr>\n",
       "    <tr>\n",
       "      <th>3</th>\n",
       "      <td>23</td>\n",
       "      <td>4</td>\n",
       "      <td>15</td>\n",
       "      <td>0.016609</td>\n",
       "      <td>0.001045</td>\n",
       "      <td>1.0</td>\n",
       "    </tr>\n",
       "    <tr>\n",
       "      <th>4</th>\n",
       "      <td>8</td>\n",
       "      <td>3</td>\n",
       "      <td>10</td>\n",
       "      <td>-0.024094</td>\n",
       "      <td>-0.023731</td>\n",
       "      <td>1.0</td>\n",
       "    </tr>\n",
       "  </tbody>\n",
       "</table>\n",
       "</div>"
      ],
      "text/plain": [
       "   hours  months  years  longitude_distance  latitude_distance  \\\n",
       "0     22       2     12            0.002190          -0.021603   \n",
       "1      7       9     14           -0.004524           0.003807   \n",
       "2      7       2     13            0.007759           0.010059   \n",
       "3     23       4     15            0.016609           0.001045   \n",
       "4      8       3     10           -0.024094          -0.023731   \n",
       "\n",
       "   passenger_count  \n",
       "0              1.0  \n",
       "1              1.0  \n",
       "2              3.0  \n",
       "3              1.0  \n",
       "4              1.0  "
      ]
     },
     "execution_count": 7,
     "metadata": {},
     "output_type": "execute_result"
    }
   ],
   "source": [
    "# temp fix to columns not translating as expected\n",
    "X_train_gdf.columns = ['hours', 'months', 'years', \n",
    "                       'longitude_distance', 'latitude_distance', 'passenger_count']\n",
    "\n",
    "X_train_gdf.head()"
   ]
  },
  {
   "cell_type": "code",
   "execution_count": 8,
   "metadata": {},
   "outputs": [
    {
     "data": {
      "text/html": [
       "<div>\n",
       "<style scoped>\n",
       "    .dataframe tbody tr th:only-of-type {\n",
       "        vertical-align: middle;\n",
       "    }\n",
       "\n",
       "    .dataframe tbody tr th {\n",
       "        vertical-align: top;\n",
       "    }\n",
       "\n",
       "    .dataframe thead th {\n",
       "        text-align: right;\n",
       "    }\n",
       "</style>\n",
       "<table border=\"1\" class=\"dataframe\">\n",
       "  <thead>\n",
       "    <tr style=\"text-align: right;\">\n",
       "      <th></th>\n",
       "      <th>hours</th>\n",
       "      <th>months</th>\n",
       "      <th>years</th>\n",
       "      <th>longitude_distance</th>\n",
       "      <th>latitude_distance</th>\n",
       "      <th>passenger_count</th>\n",
       "    </tr>\n",
       "  </thead>\n",
       "  <tbody>\n",
       "    <tr>\n",
       "      <th>0</th>\n",
       "      <td>22.0</td>\n",
       "      <td>2.0</td>\n",
       "      <td>12.0</td>\n",
       "      <td>0.002190</td>\n",
       "      <td>-0.021603</td>\n",
       "      <td>1.0</td>\n",
       "    </tr>\n",
       "    <tr>\n",
       "      <th>1</th>\n",
       "      <td>7.0</td>\n",
       "      <td>9.0</td>\n",
       "      <td>14.0</td>\n",
       "      <td>-0.004524</td>\n",
       "      <td>0.003807</td>\n",
       "      <td>1.0</td>\n",
       "    </tr>\n",
       "    <tr>\n",
       "      <th>2</th>\n",
       "      <td>7.0</td>\n",
       "      <td>2.0</td>\n",
       "      <td>13.0</td>\n",
       "      <td>0.007759</td>\n",
       "      <td>0.010059</td>\n",
       "      <td>3.0</td>\n",
       "    </tr>\n",
       "    <tr>\n",
       "      <th>3</th>\n",
       "      <td>23.0</td>\n",
       "      <td>4.0</td>\n",
       "      <td>15.0</td>\n",
       "      <td>0.016609</td>\n",
       "      <td>0.001045</td>\n",
       "      <td>1.0</td>\n",
       "    </tr>\n",
       "    <tr>\n",
       "      <th>4</th>\n",
       "      <td>8.0</td>\n",
       "      <td>3.0</td>\n",
       "      <td>10.0</td>\n",
       "      <td>-0.024094</td>\n",
       "      <td>-0.023731</td>\n",
       "      <td>1.0</td>\n",
       "    </tr>\n",
       "  </tbody>\n",
       "</table>\n",
       "</div>"
      ],
      "text/plain": [
       "   hours  months  years  longitude_distance  latitude_distance  \\\n",
       "0   22.0     2.0   12.0            0.002190          -0.021603   \n",
       "1    7.0     9.0   14.0           -0.004524           0.003807   \n",
       "2    7.0     2.0   13.0            0.007759           0.010059   \n",
       "3   23.0     4.0   15.0            0.016609           0.001045   \n",
       "4    8.0     3.0   10.0           -0.024094          -0.023731   \n",
       "\n",
       "   passenger_count  \n",
       "0              1.0  \n",
       "1              1.0  \n",
       "2              3.0  \n",
       "3              1.0  \n",
       "4              1.0  "
      ]
     },
     "execution_count": 8,
     "metadata": {},
     "output_type": "execute_result"
    }
   ],
   "source": [
    "X_train_gdf['longitude_distance'] = X_train_gdf['longitude_distance'].fillna(0).astype('float32')\n",
    "X_train_gdf['latitude_distance'] = X_train_gdf['latitude_distance'].fillna(0).astype('float32')\n",
    "X_train_gdf['passenger_count'] = X_train_gdf['passenger_count'].fillna(0).astype('float32')\n",
    "X_train_gdf['months'] = X_train_gdf['months'].astype('float32') \n",
    "X_train_gdf['years'] = X_train_gdf['years'].astype('float32') \n",
    "X_train_gdf['hours'] = X_train_gdf['hours'].astype('float32')\n",
    "        \n",
    "X_train_gdf.head()"
   ]
  },
  {
   "cell_type": "code",
   "execution_count": 9,
   "metadata": {},
   "outputs": [
    {
     "data": {
      "text/plain": [
       "(hours                 0\n",
       " months                0\n",
       " years                 0\n",
       " longitude_distance    0\n",
       " latitude_distance     0\n",
       " passenger_count       0\n",
       " dtype: int64, 20000000)"
      ]
     },
     "execution_count": 9,
     "metadata": {},
     "output_type": "execute_result"
    }
   ],
   "source": [
    "X_train_gdf.isnull().sum(), len(X_train_gdf)"
   ]
  },
  {
   "cell_type": "code",
   "execution_count": 10,
   "metadata": {},
   "outputs": [
    {
     "data": {
      "text/html": [
       "<div>\n",
       "<style scoped>\n",
       "    .dataframe tbody tr th:only-of-type {\n",
       "        vertical-align: middle;\n",
       "    }\n",
       "\n",
       "    .dataframe tbody tr th {\n",
       "        vertical-align: top;\n",
       "    }\n",
       "\n",
       "    .dataframe thead th {\n",
       "        text-align: right;\n",
       "    }\n",
       "</style>\n",
       "<table border=\"1\" class=\"dataframe\">\n",
       "  <thead>\n",
       "    <tr style=\"text-align: right;\">\n",
       "      <th></th>\n",
       "      <th>fare_amount</th>\n",
       "    </tr>\n",
       "  </thead>\n",
       "  <tbody>\n",
       "    <tr>\n",
       "      <th>0</th>\n",
       "      <td>8.9</td>\n",
       "    </tr>\n",
       "    <tr>\n",
       "      <th>1</th>\n",
       "      <td>4.0</td>\n",
       "    </tr>\n",
       "    <tr>\n",
       "      <th>2</th>\n",
       "      <td>5.5</td>\n",
       "    </tr>\n",
       "    <tr>\n",
       "      <th>3</th>\n",
       "      <td>13.5</td>\n",
       "    </tr>\n",
       "    <tr>\n",
       "      <th>4</th>\n",
       "      <td>10.5</td>\n",
       "    </tr>\n",
       "  </tbody>\n",
       "</table>\n",
       "</div>"
      ],
      "text/plain": [
       "   fare_amount\n",
       "0          8.9\n",
       "1          4.0\n",
       "2          5.5\n",
       "3         13.5\n",
       "4         10.5"
      ]
     },
     "execution_count": 10,
     "metadata": {},
     "output_type": "execute_result"
    }
   ],
   "source": [
    "# query dependent variable y\n",
    "y_train = bc.sql('SELECT fare_amount FROM main.taxi').get()\n",
    "# extract dataframe\n",
    "y_train_gdf = y_train.columns\n",
    "# shrink to single column\n",
    "# y_train_gdf = y_train_gdf['fare_amount']\n",
    "\n",
    "y_train_gdf.head()"
   ]
  },
  {
   "cell_type": "markdown",
   "metadata": {
    "colab_type": "text",
    "id": "ZWLI4jcgiou8"
   },
   "source": [
    "# Install cuML on Colab"
   ]
  },
  {
   "cell_type": "code",
   "execution_count": 11,
   "metadata": {
    "colab": {
     "base_uri": "https://localhost:8080/",
     "height": 918
    },
    "colab_type": "code",
    "id": "n2XmBLf8Di2k",
    "outputId": "dcc62b91-1c07-494a-e151-1ec6f34f92b4"
   },
   "outputs": [],
   "source": [
    "# !wget -c https://repo.continuum.io/miniconda/Miniconda3-4.5.4-Linux-x86_64.sh\n",
    "# !chmod +x Miniconda3-4.5.4-Linux-x86_64.sh\n",
    "# !bash ./Miniconda3-4.5.4-Linux-x86_64.sh -b -f -p /usr/local\n",
    "# import sys\n",
    "# sys.path.append('/usr/local/lib/python3.6/site-packages/')"
   ]
  },
  {
   "cell_type": "code",
   "execution_count": 12,
   "metadata": {
    "colab": {
     "base_uri": "https://localhost:8080/",
     "height": 1000
    },
    "colab_type": "code",
    "id": "UymK3OIogIYj",
    "outputId": "880cfd41-dd27-4896-c4a7-41da3210ebd1"
   },
   "outputs": [],
   "source": [
    "# !conda install -c rapidsai -c nvidia -c conda-forge \\\n",
    "#     -c defaults cuml=0.10 python=3.7 cudatoolkit=10.0 -y"
   ]
  },
  {
   "cell_type": "markdown",
   "metadata": {
    "colab_type": "text",
    "id": "-J3ZzyD6iwQy"
   },
   "source": [
    "# Linear Regression: Train Model"
   ]
  },
  {
   "cell_type": "code",
   "execution_count": 17,
   "metadata": {
    "colab": {
     "base_uri": "https://localhost:8080/",
     "height": 531
    },
    "colab_type": "code",
    "id": "tVUZvT9TB6Ii",
    "outputId": "d61c0249-47ee-40b8-a72f-9d62383f23dd"
   },
   "outputs": [
    {
     "name": "stderr",
     "output_type": "stream",
     "text": [
      "Exception ignored in: <finalize object at 0x7f555a4972e0; dead>\n",
      "Traceback (most recent call last):\n",
      "  File \"/home/rodrigo/anaconda3/envs/rapidsenv/lib/python3.7/site-packages/numba/utils.py\", line 669, in __call__\n",
      "    return info.func(*info.args, **(info.kwargs or {}))\n",
      "  File \"/home/rodrigo/anaconda3/envs/rapidsenv/lib/python3.7/site-packages/rmm/rmm.py\", line 220, in finalizer\n",
      "    librmm.rmm_free(handle, stream)\n",
      "  File \"rmm/_lib/lib.pyx\", line 229, in rmm._lib.lib.rmm_free\n",
      "  File \"rmm/_lib/lib.pyx\", line 218, in rmm._lib.lib.c_free\n",
      "  File \"rmm/_lib/lib.pyx\", line 49, in rmm._lib.lib.check_error\n",
      "rmm.rmm.RMMError: RMM_ERROR_CUDA_ERROR\n"
     ]
    },
    {
     "ename": "RuntimeError",
     "evalue": "Exception occured! file=/conda/conda-bld/libcuml_1571339163826/work/cpp/src_prims/common/cuml_allocator.hpp line=109: FAIL: call='cudaMalloc(&ptr, n)'. Reason:out of memory\n\nObtained 64 stack frames\n#0 in /home/rodrigo/anaconda3/envs/rapidsenv/lib/python3.7/site-packages/cuml/common/../../../../libcuml++.so(_ZN8MLCommon9Exception16collectCallStackEv+0x3e) [0x7f546412983e]\n#1 in /home/rodrigo/anaconda3/envs/rapidsenv/lib/python3.7/site-packages/cuml/common/../../../../libcuml++.so(_ZN8MLCommon9ExceptionC2ERKNSt7__cxx1112basic_stringIcSt11char_traitsIcESaIcEEE+0x80) [0x7f546412a350]\n#2 in /home/rodrigo/anaconda3/envs/rapidsenv/lib/python3.7/site-packages/cuml/common/../../../../libcuml++.so(_ZN8MLCommon22defaultDeviceAllocator8allocateEmP11CUstream_st+0x10e) [0x7f546412a63e]\n#3 in /home/rodrigo/anaconda3/envs/rapidsenv/lib/python3.7/site-packages/cuml/common/../../../../libcuml++.so(_ZN8MLCommon11buffer_baseIfNS_15deviceAllocatorEEC2ESt10shared_ptrIS1_EP11CUstream_stm+0xa5) [0x7f5464131a75]\n#4 in /home/rodrigo/anaconda3/envs/rapidsenv/lib/python3.7/site-packages/cuml/common/../../../../libcuml++.so(_ZN8MLCommon6LinAlg8lstsqEigIfEEvPT_iiS3_S3_P17cusolverDnContextP13cublasContextSt10shared_ptrINS_15deviceAllocatorEEP11CUstream_st+0x1ac) [0x7f5464200dbc]\n#5 in /home/rodrigo/anaconda3/envs/rapidsenv/lib/python3.7/site-packages/cuml/common/../../../../libcuml++.so(_ZN2ML3GLM6olsFitIfEEvRKNS_15cumlHandle_implEPT_iiS6_S6_S6_bbP11CUstream_sti+0x677) [0x7f54642047c7]\n#6 in /home/rodrigo/anaconda3/envs/rapidsenv/lib/python3.7/site-packages/cuml/common/../../../../libcuml++.so(_ZN2ML3GLM6olsFitERKNS_10cumlHandleEPfiiS4_S4_S4_bbi+0x9d) [0x7f54641c255d]\n#7 in /home/rodrigo/anaconda3/envs/rapidsenv/lib/python3.7/site-packages/cuml/linear_model/linear_regression.cpython-37m-x86_64-linux-gnu.so(+0x11dc3) [0x7f5559211dc3]\n#8 in /home/rodrigo/anaconda3/envs/rapidsenv/bin/python(_PyObject_FastCallKeywords+0x3fb) [0x561edd6f816b]\n#9 in /home/rodrigo/anaconda3/envs/rapidsenv/bin/python(_PyEval_EvalFrameDefault+0x53ae) [0x561edd75d49e]\n#10 in /home/rodrigo/anaconda3/envs/rapidsenv/bin/python(_PyEval_EvalCodeWithName+0x2f9) [0x561edd69d929]\n#11 in /home/rodrigo/anaconda3/envs/rapidsenv/bin/python(PyEval_EvalCodeEx+0x44) [0x561edd69e7e4]\n#12 in /home/rodrigo/anaconda3/envs/rapidsenv/bin/python(PyEval_EvalCode+0x1c) [0x561edd69e80c]\n#13 in /home/rodrigo/anaconda3/envs/rapidsenv/bin/python(+0x1e0c70) [0x561edd767c70]\n#14 in /home/rodrigo/anaconda3/envs/rapidsenv/bin/python(_PyMethodDef_RawFastCallKeywords+0xe9) [0x561edd6ef5f9]\n#15 in /home/rodrigo/anaconda3/envs/rapidsenv/bin/python(_PyCFunction_FastCallKeywords+0x21) [0x561edd6ef891]\n#16 in /home/rodrigo/anaconda3/envs/rapidsenv/bin/python(_PyEval_EvalFrameDefault+0x47d4) [0x561edd75c8c4]\n#17 in /home/rodrigo/anaconda3/envs/rapidsenv/bin/python(_PyEval_EvalCodeWithName+0x2f9) [0x561edd69d929]\n#18 in /home/rodrigo/anaconda3/envs/rapidsenv/bin/python(_PyFunction_FastCallDict+0x1d5) [0x561edd69e9f5]\n#19 in /home/rodrigo/anaconda3/envs/rapidsenv/bin/python(_PyEval_EvalFrameDefault+0x1f4c) [0x561edd75a03c]\n#20 in /home/rodrigo/anaconda3/envs/rapidsenv/bin/python(_PyEval_EvalCodeWithName+0x2f9) [0x561edd69d929]\n#21 in /home/rodrigo/anaconda3/envs/rapidsenv/bin/python(_PyFunction_FastCallKeywords+0x387) [0x561edd6eef87]\n#22 in /home/rodrigo/anaconda3/envs/rapidsenv/bin/python(_PyEval_EvalFrameDefault+0x416) [0x561edd758506]\n#23 in /home/rodrigo/anaconda3/envs/rapidsenv/bin/python(_PyEval_EvalCodeWithName+0x2f9) [0x561edd69d929]\n#24 in /home/rodrigo/anaconda3/envs/rapidsenv/bin/python(_PyFunction_FastCallDict+0x400) [0x561edd69ec20]\n#25 in /home/rodrigo/anaconda3/envs/rapidsenv/bin/python(_PyObject_Call_Prepend+0x63) [0x561edd6bde23]\n#26 in /home/rodrigo/anaconda3/envs/rapidsenv/bin/python(PyObject_Call+0x6e) [0x561edd6b051e]\n#27 in /home/rodrigo/anaconda3/envs/rapidsenv/bin/python(_PyEval_EvalFrameDefault+0x1f4c) [0x561edd75a03c]\n#28 in /home/rodrigo/anaconda3/envs/rapidsenv/bin/python(_PyFunction_FastCallKeywords+0xfb) [0x561edd6eecfb]\n#29 in /home/rodrigo/anaconda3/envs/rapidsenv/bin/python(_PyEval_EvalFrameDefault+0x6f0) [0x561edd7587e0]\n#30 in /home/rodrigo/anaconda3/envs/rapidsenv/bin/python(_PyEval_EvalCodeWithName+0x2f9) [0x561edd69d929]\n#31 in /home/rodrigo/anaconda3/envs/rapidsenv/bin/python(PyEval_EvalCodeEx+0x44) [0x561edd69e7e4]\n#32 in /home/rodrigo/anaconda3/envs/rapidsenv/bin/python(PyEval_EvalCode+0x1c) [0x561edd69e80c]\n#33 in /home/rodrigo/anaconda3/envs/rapidsenv/bin/python(+0x1e0c70) [0x561edd767c70]\n#34 in /home/rodrigo/anaconda3/envs/rapidsenv/bin/python(_PyMethodDef_RawFastCallKeywords+0xe9) [0x561edd6ef5f9]\n#35 in /home/rodrigo/anaconda3/envs/rapidsenv/bin/python(_PyCFunction_FastCallKeywords+0x21) [0x561edd6ef891]\n#36 in /home/rodrigo/anaconda3/envs/rapidsenv/bin/python(_PyEval_EvalFrameDefault+0x47d4) [0x561edd75c8c4]\n#37 in /home/rodrigo/anaconda3/envs/rapidsenv/bin/python(_PyGen_Send+0x2a2) [0x561edd6f8ea2]\n#38 in /home/rodrigo/anaconda3/envs/rapidsenv/bin/python(_PyEval_EvalFrameDefault+0x1acc) [0x561edd759bbc]\n#39 in /home/rodrigo/anaconda3/envs/rapidsenv/bin/python(_PyGen_Send+0x2a2) [0x561edd6f8ea2]\n#40 in /home/rodrigo/anaconda3/envs/rapidsenv/bin/python(_PyEval_EvalFrameDefault+0x1acc) [0x561edd759bbc]\n#41 in /home/rodrigo/anaconda3/envs/rapidsenv/bin/python(_PyGen_Send+0x2a2) [0x561edd6f8ea2]\n#42 in /home/rodrigo/anaconda3/envs/rapidsenv/bin/python(_PyMethodDef_RawFastCallKeywords+0x8c) [0x561edd6ef59c]\n#43 in /home/rodrigo/anaconda3/envs/rapidsenv/bin/python(_PyMethodDescr_FastCallKeywords+0x4f) [0x561edd6f7cdf]\n#44 in /home/rodrigo/anaconda3/envs/rapidsenv/bin/python(_PyEval_EvalFrameDefault+0x4cbc) [0x561edd75cdac]\n#45 in /home/rodrigo/anaconda3/envs/rapidsenv/bin/python(_PyFunction_FastCallKeywords+0xfb) [0x561edd6eecfb]\n#46 in /home/rodrigo/anaconda3/envs/rapidsenv/bin/python(_PyEval_EvalFrameDefault+0x416) [0x561edd758506]\n#47 in /home/rodrigo/anaconda3/envs/rapidsenv/bin/python(_PyFunction_FastCallKeywords+0xfb) [0x561edd6eecfb]\n#48 in /home/rodrigo/anaconda3/envs/rapidsenv/bin/python(_PyEval_EvalFrameDefault+0x6f0) [0x561edd7587e0]\n#49 in /home/rodrigo/anaconda3/envs/rapidsenv/bin/python(_PyEval_EvalCodeWithName+0x2f9) [0x561edd69d929]\n#50 in /home/rodrigo/anaconda3/envs/rapidsenv/bin/python(_PyFunction_FastCallDict+0x400) [0x561edd69ec20]\n#51 in /home/rodrigo/anaconda3/envs/rapidsenv/bin/python(_PyObject_Call_Prepend+0x63) [0x561edd6bde23]\n#52 in /home/rodrigo/anaconda3/envs/rapidsenv/bin/python(PyObject_Call+0x6e) [0x561edd6b051e]\n#53 in /home/rodrigo/anaconda3/envs/rapidsenv/bin/python(_PyEval_EvalFrameDefault+0x1f4c) [0x561edd75a03c]\n#54 in /home/rodrigo/anaconda3/envs/rapidsenv/bin/python(_PyEval_EvalCodeWithName+0x5da) [0x561edd69dc0a]\n#55 in /home/rodrigo/anaconda3/envs/rapidsenv/bin/python(_PyFunction_FastCallKeywords+0x387) [0x561edd6eef87]\n#56 in /home/rodrigo/anaconda3/envs/rapidsenv/bin/python(_PyEval_EvalFrameDefault+0x14dc) [0x561edd7595cc]\n#57 in /home/rodrigo/anaconda3/envs/rapidsenv/bin/python(+0x171969) [0x561edd6f8969]\n#58 in /home/rodrigo/anaconda3/envs/rapidsenv/bin/python(_PyMethodDef_RawFastCallKeywords+0xe9) [0x561edd6ef5f9]\n#59 in /home/rodrigo/anaconda3/envs/rapidsenv/bin/python(_PyCFunction_FastCallKeywords+0x21) [0x561edd6ef891]\n#60 in /home/rodrigo/anaconda3/envs/rapidsenv/bin/python(_PyEval_EvalFrameDefault+0x47d4) [0x561edd75c8c4]\n#61 in /home/rodrigo/anaconda3/envs/rapidsenv/bin/python(_PyEval_EvalCodeWithName+0x5da) [0x561edd69dc0a]\n#62 in /home/rodrigo/anaconda3/envs/rapidsenv/bin/python(_PyFunction_FastCallKeywords+0x387) [0x561edd6eef87]\n#63 in /home/rodrigo/anaconda3/envs/rapidsenv/bin/python(_PyEval_EvalFrameDefault+0x6f0) [0x561edd7587e0]\n",
     "output_type": "error",
     "traceback": [
      "\u001b[0;31m---------------------------------------------------------------------------\u001b[0m",
      "\u001b[0;31mRuntimeError\u001b[0m                              Traceback (most recent call last)",
      "\u001b[0;32m<timed exec>\u001b[0m in \u001b[0;36m<module>\u001b[0;34m\u001b[0m\n",
      "\u001b[0;32mcuml/linear_model/linear_regression.pyx\u001b[0m in \u001b[0;36mcuml.linear_model.linear_regression.LinearRegression.fit\u001b[0;34m()\u001b[0m\n",
      "\u001b[0;31mRuntimeError\u001b[0m: Exception occured! file=/conda/conda-bld/libcuml_1571339163826/work/cpp/src_prims/common/cuml_allocator.hpp line=109: FAIL: call='cudaMalloc(&ptr, n)'. Reason:out of memory\n\nObtained 64 stack frames\n#0 in /home/rodrigo/anaconda3/envs/rapidsenv/lib/python3.7/site-packages/cuml/common/../../../../libcuml++.so(_ZN8MLCommon9Exception16collectCallStackEv+0x3e) [0x7f546412983e]\n#1 in /home/rodrigo/anaconda3/envs/rapidsenv/lib/python3.7/site-packages/cuml/common/../../../../libcuml++.so(_ZN8MLCommon9ExceptionC2ERKNSt7__cxx1112basic_stringIcSt11char_traitsIcESaIcEEE+0x80) [0x7f546412a350]\n#2 in /home/rodrigo/anaconda3/envs/rapidsenv/lib/python3.7/site-packages/cuml/common/../../../../libcuml++.so(_ZN8MLCommon22defaultDeviceAllocator8allocateEmP11CUstream_st+0x10e) [0x7f546412a63e]\n#3 in /home/rodrigo/anaconda3/envs/rapidsenv/lib/python3.7/site-packages/cuml/common/../../../../libcuml++.so(_ZN8MLCommon11buffer_baseIfNS_15deviceAllocatorEEC2ESt10shared_ptrIS1_EP11CUstream_stm+0xa5) [0x7f5464131a75]\n#4 in /home/rodrigo/anaconda3/envs/rapidsenv/lib/python3.7/site-packages/cuml/common/../../../../libcuml++.so(_ZN8MLCommon6LinAlg8lstsqEigIfEEvPT_iiS3_S3_P17cusolverDnContextP13cublasContextSt10shared_ptrINS_15deviceAllocatorEEP11CUstream_st+0x1ac) [0x7f5464200dbc]\n#5 in /home/rodrigo/anaconda3/envs/rapidsenv/lib/python3.7/site-packages/cuml/common/../../../../libcuml++.so(_ZN2ML3GLM6olsFitIfEEvRKNS_15cumlHandle_implEPT_iiS6_S6_S6_bbP11CUstream_sti+0x677) [0x7f54642047c7]\n#6 in /home/rodrigo/anaconda3/envs/rapidsenv/lib/python3.7/site-packages/cuml/common/../../../../libcuml++.so(_ZN2ML3GLM6olsFitERKNS_10cumlHandleEPfiiS4_S4_S4_bbi+0x9d) [0x7f54641c255d]\n#7 in /home/rodrigo/anaconda3/envs/rapidsenv/lib/python3.7/site-packages/cuml/linear_model/linear_regression.cpython-37m-x86_64-linux-gnu.so(+0x11dc3) [0x7f5559211dc3]\n#8 in /home/rodrigo/anaconda3/envs/rapidsenv/bin/python(_PyObject_FastCallKeywords+0x3fb) [0x561edd6f816b]\n#9 in /home/rodrigo/anaconda3/envs/rapidsenv/bin/python(_PyEval_EvalFrameDefault+0x53ae) [0x561edd75d49e]\n#10 in /home/rodrigo/anaconda3/envs/rapidsenv/bin/python(_PyEval_EvalCodeWithName+0x2f9) [0x561edd69d929]\n#11 in /home/rodrigo/anaconda3/envs/rapidsenv/bin/python(PyEval_EvalCodeEx+0x44) [0x561edd69e7e4]\n#12 in /home/rodrigo/anaconda3/envs/rapidsenv/bin/python(PyEval_EvalCode+0x1c) [0x561edd69e80c]\n#13 in /home/rodrigo/anaconda3/envs/rapidsenv/bin/python(+0x1e0c70) [0x561edd767c70]\n#14 in /home/rodrigo/anaconda3/envs/rapidsenv/bin/python(_PyMethodDef_RawFastCallKeywords+0xe9) [0x561edd6ef5f9]\n#15 in /home/rodrigo/anaconda3/envs/rapidsenv/bin/python(_PyCFunction_FastCallKeywords+0x21) [0x561edd6ef891]\n#16 in /home/rodrigo/anaconda3/envs/rapidsenv/bin/python(_PyEval_EvalFrameDefault+0x47d4) [0x561edd75c8c4]\n#17 in /home/rodrigo/anaconda3/envs/rapidsenv/bin/python(_PyEval_EvalCodeWithName+0x2f9) [0x561edd69d929]\n#18 in /home/rodrigo/anaconda3/envs/rapidsenv/bin/python(_PyFunction_FastCallDict+0x1d5) [0x561edd69e9f5]\n#19 in /home/rodrigo/anaconda3/envs/rapidsenv/bin/python(_PyEval_EvalFrameDefault+0x1f4c) [0x561edd75a03c]\n#20 in /home/rodrigo/anaconda3/envs/rapidsenv/bin/python(_PyEval_EvalCodeWithName+0x2f9) [0x561edd69d929]\n#21 in /home/rodrigo/anaconda3/envs/rapidsenv/bin/python(_PyFunction_FastCallKeywords+0x387) [0x561edd6eef87]\n#22 in /home/rodrigo/anaconda3/envs/rapidsenv/bin/python(_PyEval_EvalFrameDefault+0x416) [0x561edd758506]\n#23 in /home/rodrigo/anaconda3/envs/rapidsenv/bin/python(_PyEval_EvalCodeWithName+0x2f9) [0x561edd69d929]\n#24 in /home/rodrigo/anaconda3/envs/rapidsenv/bin/python(_PyFunction_FastCallDict+0x400) [0x561edd69ec20]\n#25 in /home/rodrigo/anaconda3/envs/rapidsenv/bin/python(_PyObject_Call_Prepend+0x63) [0x561edd6bde23]\n#26 in /home/rodrigo/anaconda3/envs/rapidsenv/bin/python(PyObject_Call+0x6e) [0x561edd6b051e]\n#27 in /home/rodrigo/anaconda3/envs/rapidsenv/bin/python(_PyEval_EvalFrameDefault+0x1f4c) [0x561edd75a03c]\n#28 in /home/rodrigo/anaconda3/envs/rapidsenv/bin/python(_PyFunction_FastCallKeywords+0xfb) [0x561edd6eecfb]\n#29 in /home/rodrigo/anaconda3/envs/rapidsenv/bin/python(_PyEval_EvalFrameDefault+0x6f0) [0x561edd7587e0]\n#30 in /home/rodrigo/anaconda3/envs/rapidsenv/bin/python(_PyEval_EvalCodeWithName+0x2f9) [0x561edd69d929]\n#31 in /home/rodrigo/anaconda3/envs/rapidsenv/bin/python(PyEval_EvalCodeEx+0x44) [0x561edd69e7e4]\n#32 in /home/rodrigo/anaconda3/envs/rapidsenv/bin/python(PyEval_EvalCode+0x1c) [0x561edd69e80c]\n#33 in /home/rodrigo/anaconda3/envs/rapidsenv/bin/python(+0x1e0c70) [0x561edd767c70]\n#34 in /home/rodrigo/anaconda3/envs/rapidsenv/bin/python(_PyMethodDef_RawFastCallKeywords+0xe9) [0x561edd6ef5f9]\n#35 in /home/rodrigo/anaconda3/envs/rapidsenv/bin/python(_PyCFunction_FastCallKeywords+0x21) [0x561edd6ef891]\n#36 in /home/rodrigo/anaconda3/envs/rapidsenv/bin/python(_PyEval_EvalFrameDefault+0x47d4) [0x561edd75c8c4]\n#37 in /home/rodrigo/anaconda3/envs/rapidsenv/bin/python(_PyGen_Send+0x2a2) [0x561edd6f8ea2]\n#38 in /home/rodrigo/anaconda3/envs/rapidsenv/bin/python(_PyEval_EvalFrameDefault+0x1acc) [0x561edd759bbc]\n#39 in /home/rodrigo/anaconda3/envs/rapidsenv/bin/python(_PyGen_Send+0x2a2) [0x561edd6f8ea2]\n#40 in /home/rodrigo/anaconda3/envs/rapidsenv/bin/python(_PyEval_EvalFrameDefault+0x1acc) [0x561edd759bbc]\n#41 in /home/rodrigo/anaconda3/envs/rapidsenv/bin/python(_PyGen_Send+0x2a2) [0x561edd6f8ea2]\n#42 in /home/rodrigo/anaconda3/envs/rapidsenv/bin/python(_PyMethodDef_RawFastCallKeywords+0x8c) [0x561edd6ef59c]\n#43 in /home/rodrigo/anaconda3/envs/rapidsenv/bin/python(_PyMethodDescr_FastCallKeywords+0x4f) [0x561edd6f7cdf]\n#44 in /home/rodrigo/anaconda3/envs/rapidsenv/bin/python(_PyEval_EvalFrameDefault+0x4cbc) [0x561edd75cdac]\n#45 in /home/rodrigo/anaconda3/envs/rapidsenv/bin/python(_PyFunction_FastCallKeywords+0xfb) [0x561edd6eecfb]\n#46 in /home/rodrigo/anaconda3/envs/rapidsenv/bin/python(_PyEval_EvalFrameDefault+0x416) [0x561edd758506]\n#47 in /home/rodrigo/anaconda3/envs/rapidsenv/bin/python(_PyFunction_FastCallKeywords+0xfb) [0x561edd6eecfb]\n#48 in /home/rodrigo/anaconda3/envs/rapidsenv/bin/python(_PyEval_EvalFrameDefault+0x6f0) [0x561edd7587e0]\n#49 in /home/rodrigo/anaconda3/envs/rapidsenv/bin/python(_PyEval_EvalCodeWithName+0x2f9) [0x561edd69d929]\n#50 in /home/rodrigo/anaconda3/envs/rapidsenv/bin/python(_PyFunction_FastCallDict+0x400) [0x561edd69ec20]\n#51 in /home/rodrigo/anaconda3/envs/rapidsenv/bin/python(_PyObject_Call_Prepend+0x63) [0x561edd6bde23]\n#52 in /home/rodrigo/anaconda3/envs/rapidsenv/bin/python(PyObject_Call+0x6e) [0x561edd6b051e]\n#53 in /home/rodrigo/anaconda3/envs/rapidsenv/bin/python(_PyEval_EvalFrameDefault+0x1f4c) [0x561edd75a03c]\n#54 in /home/rodrigo/anaconda3/envs/rapidsenv/bin/python(_PyEval_EvalCodeWithName+0x5da) [0x561edd69dc0a]\n#55 in /home/rodrigo/anaconda3/envs/rapidsenv/bin/python(_PyFunction_FastCallKeywords+0x387) [0x561edd6eef87]\n#56 in /home/rodrigo/anaconda3/envs/rapidsenv/bin/python(_PyEval_EvalFrameDefault+0x14dc) [0x561edd7595cc]\n#57 in /home/rodrigo/anaconda3/envs/rapidsenv/bin/python(+0x171969) [0x561edd6f8969]\n#58 in /home/rodrigo/anaconda3/envs/rapidsenv/bin/python(_PyMethodDef_RawFastCallKeywords+0xe9) [0x561edd6ef5f9]\n#59 in /home/rodrigo/anaconda3/envs/rapidsenv/bin/python(_PyCFunction_FastCallKeywords+0x21) [0x561edd6ef891]\n#60 in /home/rodrigo/anaconda3/envs/rapidsenv/bin/python(_PyEval_EvalFrameDefault+0x47d4) [0x561edd75c8c4]\n#61 in /home/rodrigo/anaconda3/envs/rapidsenv/bin/python(_PyEval_EvalCodeWithName+0x5da) [0x561edd69dc0a]\n#62 in /home/rodrigo/anaconda3/envs/rapidsenv/bin/python(_PyFunction_FastCallKeywords+0x387) [0x561edd6eef87]\n#63 in /home/rodrigo/anaconda3/envs/rapidsenv/bin/python(_PyEval_EvalFrameDefault+0x6f0) [0x561edd7587e0]\n"
     ]
    }
   ],
   "source": [
    "%%time\n",
    "\n",
    "import cuml\n",
    "from cuml import LinearRegression\n",
    "\n",
    "#create model\n",
    "# lr = LinearRegression(fit_intercept = True, normalize = False, algorithm = \"eig\")\n",
    "lr = LinearRegression()\n",
    "\n",
    "#train model\n",
    "reg = lr.fit(X_train_gdf,y_train_gdf)\n",
    "\n",
    "#print results\n",
    "print(\"Coefficients:\")\n",
    "print(reg.coef_)\n",
    "print(\" \")\n",
    "print(\" Y intercept:\")\n",
    "print(reg.intercept_)"
   ]
  },
  {
   "cell_type": "markdown",
   "metadata": {
    "colab_type": "text",
    "id": "pHtni9xcl-ht"
   },
   "source": [
    "# Linear Regression: Use Model to Predict Future Taxi Fares \n",
    "\n",
    "For this we are using a second dataset with data but no fare amount. We will predict fare_amounts. \n",
    "\n",
    "Here is a public link to that file: https://drive.google.com/file/d/1UG5-dXNPsAWZb0bJgquEg1qZsm12jzZW/view?usp=sharing\n",
    "\n",
    "You will need to download that file and upload it to the colab. "
   ]
  },
  {
   "cell_type": "code",
   "execution_count": 18,
   "metadata": {
    "colab": {},
    "colab_type": "code",
    "id": "yRM5PosNiuGh"
   },
   "outputs": [
    {
     "data": {
      "text/plain": [
       "<pyblazing.apiv2.sql.Table at 0x7f553ce2c978>"
      ]
     },
     "execution_count": 18,
     "metadata": {},
     "output_type": "execute_result"
    }
   ],
   "source": [
    "# Create Test Data Table\n",
    "\n",
    "column_names = ['key', 'fare_amount', 'pickup_longitude', 'pickup_latitude', 'dropoff_longitude', 'dropoff_latitude', 'passenger_count']\n",
    "column_types = ['date64', 'float32', 'float32', 'float32', 'float32', 'float32', 'float32']\n",
    "\n",
    "# !wget 'https://blazingsql-demos.s3-us-west-1.amazonaws.com/test.csv'\n",
    "\n",
    "gdf2 = cudf.read_csv('test.csv', delimiter= ',', dtype = column_types, names = column_names)\n",
    "\n",
    "bc.create_table('test', gdf2)\n"
   ]
  },
  {
   "cell_type": "code",
   "execution_count": 20,
   "metadata": {
    "colab": {},
    "colab_type": "code",
    "id": "g4I8AJ51dpW5"
   },
   "outputs": [],
   "source": [
    "# Query Test Data Table to Create GDF\n",
    "X_test = bc.sql('SELECT hour(key) as hours, month(key) as months, year(key) - 2000 as years,  dropoff_longitude - pickup_longitude as longitude_distance, dropoff_latitude - pickup_latitude as latitude_distance , passenger_count FROM main.test').get()\n",
    "X_test_gdf = X_test.columns"
   ]
  },
  {
   "cell_type": "code",
   "execution_count": 23,
   "metadata": {},
   "outputs": [
    {
     "data": {
      "text/html": [
       "<div>\n",
       "<style scoped>\n",
       "    .dataframe tbody tr th:only-of-type {\n",
       "        vertical-align: middle;\n",
       "    }\n",
       "\n",
       "    .dataframe tbody tr th {\n",
       "        vertical-align: top;\n",
       "    }\n",
       "\n",
       "    .dataframe thead th {\n",
       "        text-align: right;\n",
       "    }\n",
       "</style>\n",
       "<table border=\"1\" class=\"dataframe\">\n",
       "  <thead>\n",
       "    <tr style=\"text-align: right;\">\n",
       "      <th></th>\n",
       "      <th>hours</th>\n",
       "      <th>months</th>\n",
       "      <th>years</th>\n",
       "      <th>longitude_distance</th>\n",
       "      <th>latitude_distance</th>\n",
       "      <th>passenger_count</th>\n",
       "    </tr>\n",
       "  </thead>\n",
       "  <tbody>\n",
       "    <tr>\n",
       "      <th>0</th>\n",
       "      <td>13</td>\n",
       "      <td>1</td>\n",
       "      <td>15</td>\n",
       "      <td>-0.008110</td>\n",
       "      <td>-0.019970</td>\n",
       "      <td>1.0</td>\n",
       "    </tr>\n",
       "    <tr>\n",
       "      <th>1</th>\n",
       "      <td>13</td>\n",
       "      <td>1</td>\n",
       "      <td>15</td>\n",
       "      <td>-0.012024</td>\n",
       "      <td>0.019814</td>\n",
       "      <td>1.0</td>\n",
       "    </tr>\n",
       "    <tr>\n",
       "      <th>2</th>\n",
       "      <td>11</td>\n",
       "      <td>10</td>\n",
       "      <td>11</td>\n",
       "      <td>0.002869</td>\n",
       "      <td>-0.005119</td>\n",
       "      <td>1.0</td>\n",
       "    </tr>\n",
       "    <tr>\n",
       "      <th>3</th>\n",
       "      <td>21</td>\n",
       "      <td>12</td>\n",
       "      <td>12</td>\n",
       "      <td>-0.009277</td>\n",
       "      <td>-0.016178</td>\n",
       "      <td>1.0</td>\n",
       "    </tr>\n",
       "    <tr>\n",
       "      <th>4</th>\n",
       "      <td>21</td>\n",
       "      <td>12</td>\n",
       "      <td>12</td>\n",
       "      <td>-0.022537</td>\n",
       "      <td>-0.045345</td>\n",
       "      <td>1.0</td>\n",
       "    </tr>\n",
       "  </tbody>\n",
       "</table>\n",
       "</div>"
      ],
      "text/plain": [
       "   hours  months  years  longitude_distance  latitude_distance  \\\n",
       "0     13       1     15           -0.008110          -0.019970   \n",
       "1     13       1     15           -0.012024           0.019814   \n",
       "2     11      10     11            0.002869          -0.005119   \n",
       "3     21      12     12           -0.009277          -0.016178   \n",
       "4     21      12     12           -0.022537          -0.045345   \n",
       "\n",
       "   passenger_count  \n",
       "0              1.0  \n",
       "1              1.0  \n",
       "2              1.0  \n",
       "3              1.0  \n",
       "4              1.0  "
      ]
     },
     "execution_count": 23,
     "metadata": {},
     "output_type": "execute_result"
    }
   ],
   "source": [
    "# temp fix to columns not translating as expected\n",
    "X_test_gdf.columns = ['hours', 'months', 'years', \n",
    "                       'longitude_distance', 'latitude_distance', 'passenger_count']\n",
    "\n",
    "X_test_gdf.head()"
   ]
  },
  {
   "cell_type": "code",
   "execution_count": 25,
   "metadata": {},
   "outputs": [
    {
     "data": {
      "text/html": [
       "<div>\n",
       "<style scoped>\n",
       "    .dataframe tbody tr th:only-of-type {\n",
       "        vertical-align: middle;\n",
       "    }\n",
       "\n",
       "    .dataframe tbody tr th {\n",
       "        vertical-align: top;\n",
       "    }\n",
       "\n",
       "    .dataframe thead th {\n",
       "        text-align: right;\n",
       "    }\n",
       "</style>\n",
       "<table border=\"1\" class=\"dataframe\">\n",
       "  <thead>\n",
       "    <tr style=\"text-align: right;\">\n",
       "      <th></th>\n",
       "      <th>hours</th>\n",
       "      <th>months</th>\n",
       "      <th>years</th>\n",
       "      <th>longitude_distance</th>\n",
       "      <th>latitude_distance</th>\n",
       "      <th>passenger_count</th>\n",
       "    </tr>\n",
       "  </thead>\n",
       "  <tbody>\n",
       "    <tr>\n",
       "      <th>0</th>\n",
       "      <td>13.0</td>\n",
       "      <td>1.0</td>\n",
       "      <td>15.0</td>\n",
       "      <td>-0.008110</td>\n",
       "      <td>-0.019970</td>\n",
       "      <td>1.0</td>\n",
       "    </tr>\n",
       "    <tr>\n",
       "      <th>1</th>\n",
       "      <td>13.0</td>\n",
       "      <td>1.0</td>\n",
       "      <td>15.0</td>\n",
       "      <td>-0.012024</td>\n",
       "      <td>0.019814</td>\n",
       "      <td>1.0</td>\n",
       "    </tr>\n",
       "    <tr>\n",
       "      <th>2</th>\n",
       "      <td>11.0</td>\n",
       "      <td>10.0</td>\n",
       "      <td>11.0</td>\n",
       "      <td>0.002869</td>\n",
       "      <td>-0.005119</td>\n",
       "      <td>1.0</td>\n",
       "    </tr>\n",
       "    <tr>\n",
       "      <th>3</th>\n",
       "      <td>21.0</td>\n",
       "      <td>12.0</td>\n",
       "      <td>12.0</td>\n",
       "      <td>-0.009277</td>\n",
       "      <td>-0.016178</td>\n",
       "      <td>1.0</td>\n",
       "    </tr>\n",
       "    <tr>\n",
       "      <th>4</th>\n",
       "      <td>21.0</td>\n",
       "      <td>12.0</td>\n",
       "      <td>12.0</td>\n",
       "      <td>-0.022537</td>\n",
       "      <td>-0.045345</td>\n",
       "      <td>1.0</td>\n",
       "    </tr>\n",
       "  </tbody>\n",
       "</table>\n",
       "</div>"
      ],
      "text/plain": [
       "   hours  months  years  longitude_distance  latitude_distance  \\\n",
       "0   13.0     1.0   15.0           -0.008110          -0.019970   \n",
       "1   13.0     1.0   15.0           -0.012024           0.019814   \n",
       "2   11.0    10.0   11.0            0.002869          -0.005119   \n",
       "3   21.0    12.0   12.0           -0.009277          -0.016178   \n",
       "4   21.0    12.0   12.0           -0.022537          -0.045345   \n",
       "\n",
       "   passenger_count  \n",
       "0              1.0  \n",
       "1              1.0  \n",
       "2              1.0  \n",
       "3              1.0  \n",
       "4              1.0  "
      ]
     },
     "execution_count": 25,
     "metadata": {},
     "output_type": "execute_result"
    }
   ],
   "source": [
    "X_test_gdf['longitude_distance'] = X_test_gdf['longitude_distance'].fillna(0).astype('float32')\n",
    "X_test_gdf['latitude_distance'] = X_test_gdf['latitude_distance'].fillna(0).astype('float32')\n",
    "X_test_gdf['passenger_count'] = X_test_gdf['passenger_count'].fillna(0).astype('float32')\n",
    "\n",
    "X_test_gdf['months'] = X_test_gdf['months'].astype('float32') \n",
    "X_test_gdf['years'] = X_test_gdf['years'].astype('float32') \n",
    "X_test_gdf['hours'] = X_test_gdf['hours'].astype('float32')\n",
    "\n",
    "# this is the data we will use to predict future ride costs\n",
    "X_test_gdf.head()"
   ]
  },
  {
   "cell_type": "code",
   "execution_count": 26,
   "metadata": {
    "colab": {},
    "colab_type": "code",
    "id": "zCft6P5QkepN"
   },
   "outputs": [
    {
     "ename": "TypeError",
     "evalue": "must be real number, not NoneType",
     "output_type": "error",
     "traceback": [
      "\u001b[0;31m---------------------------------------------------------------------------\u001b[0m",
      "\u001b[0;31mTypeError\u001b[0m                                 Traceback (most recent call last)",
      "\u001b[0;32m<ipython-input-26-af78447d6d1f>\u001b[0m in \u001b[0;36m<module>\u001b[0;34m\u001b[0m\n\u001b[1;32m      1\u001b[0m \u001b[0;31m# Predict Fare Amounts\u001b[0m\u001b[0;34m\u001b[0m\u001b[0;34m\u001b[0m\u001b[0;34m\u001b[0m\u001b[0m\n\u001b[0;32m----> 2\u001b[0;31m \u001b[0mpredictions\u001b[0m \u001b[0;34m=\u001b[0m \u001b[0mlr\u001b[0m\u001b[0;34m.\u001b[0m\u001b[0mpredict\u001b[0m\u001b[0;34m(\u001b[0m\u001b[0mX_test_gdf\u001b[0m\u001b[0;34m)\u001b[0m\u001b[0;34m\u001b[0m\u001b[0;34m\u001b[0m\u001b[0m\n\u001b[0m\u001b[1;32m      3\u001b[0m \u001b[0mprint\u001b[0m\u001b[0;34m(\u001b[0m\u001b[0mpredictions\u001b[0m\u001b[0;34m)\u001b[0m\u001b[0;34m\u001b[0m\u001b[0;34m\u001b[0m\u001b[0m\n",
      "\u001b[0;32mcuml/linear_model/linear_regression.pyx\u001b[0m in \u001b[0;36mcuml.linear_model.linear_regression.LinearRegression.predict\u001b[0;34m()\u001b[0m\n",
      "\u001b[0;31mTypeError\u001b[0m: must be real number, not NoneType"
     ]
    }
   ],
   "source": [
    "# Predict Fare Amounts \n",
    "predictions = lr.predict(X_test_gdf)\n",
    "\n",
    "print(predictions)"
   ]
  },
  {
   "cell_type": "code",
   "execution_count": 27,
   "metadata": {
    "colab": {},
    "colab_type": "code",
    "id": "GdjUjJ42l2BI"
   },
   "outputs": [
    {
     "ename": "NameError",
     "evalue": "name 'predictions' is not defined",
     "output_type": "error",
     "traceback": [
      "\u001b[0;31m---------------------------------------------------------------------------\u001b[0m",
      "\u001b[0;31mNameError\u001b[0m                                 Traceback (most recent call last)",
      "\u001b[0;32m<ipython-input-27-095de2746334>\u001b[0m in \u001b[0;36m<module>\u001b[0;34m\u001b[0m\n\u001b[1;32m      1\u001b[0m \u001b[0;31m#Combine into a table of table points and predictions\u001b[0m\u001b[0;34m\u001b[0m\u001b[0;34m\u001b[0m\u001b[0;34m\u001b[0m\u001b[0m\n\u001b[0;32m----> 2\u001b[0;31m \u001b[0mX_test_gdf\u001b[0m\u001b[0;34m[\u001b[0m\u001b[0;34m'predicted_fare'\u001b[0m\u001b[0;34m]\u001b[0m \u001b[0;34m=\u001b[0m \u001b[0mpredictions\u001b[0m\u001b[0;34m\u001b[0m\u001b[0;34m\u001b[0m\u001b[0m\n\u001b[0m\u001b[1;32m      3\u001b[0m \u001b[0mprint\u001b[0m\u001b[0;34m(\u001b[0m\u001b[0mX_test_gdf\u001b[0m\u001b[0;34m)\u001b[0m\u001b[0;34m\u001b[0m\u001b[0;34m\u001b[0m\u001b[0m\n",
      "\u001b[0;31mNameError\u001b[0m: name 'predictions' is not defined"
     ]
    }
   ],
   "source": [
    "#Combine into a table of table points and predictions\n",
    "X_test_gdf['predicted_fare'] = predictions\n",
    "\n",
    "print(X_test_gdf)"
   ]
  },
  {
   "cell_type": "markdown",
   "metadata": {
    "colab_type": "text",
    "id": "zO1g6UXXiVGf"
   },
   "source": [
    " ##  Predict Cost from Grand Central Station to Samsung Next NYC at 7:00 AM on May 15th, 2020"
   ]
  },
  {
   "cell_type": "code",
   "execution_count": null,
   "metadata": {
    "colab": {},
    "colab_type": "code",
    "id": "lACHZcrMl3v_",
    "scrolled": true
   },
   "outputs": [],
   "source": [
    "samsung_ride = cudf.DataFrame([('hours', 7.0), ('days',15.0), ('months', 5.0), ('years', 20.0), ('longitude_distance', 0.012727), ('latitude_distance', 0.008484), ('passenger_count', 1.0)])\n",
    "\n",
    "samsung_ride['hours'] = samsung_ride['hours'].astype('float32')\n",
    "samsung_ride['days'] = samsung_ride['days'].astype('float32')\n",
    "samsung_ride['months'] = samsung_ride['months'].astype('float32')\n",
    "samsung_ride['years'] = samsung_ride['years'].astype('float32')\n",
    "samsung_ride['longitude_distance'] = samsung_ride['longitude_distance'].astype('float32')\n",
    "samsung_ride['latitude_distance'] = samsung_ride['latitude_distance'].astype('float32')\n",
    "samsung_ride['passenger_count'] = samsung_ride['passenger_count'].astype('float32')\n",
    "\n",
    "samsung_prediction = lr.predict(samsung_ride)\n",
    "print(samsung_prediction)"
   ]
  }
 ],
 "metadata": {
  "accelerator": "GPU",
  "colab": {
   "collapsed_sections": [],
   "name": "BlazingSQL_cuML_Taxi_Fare_Prediction.ipynb",
   "provenance": []
  },
  "kernelspec": {
   "display_name": "Python 3",
   "language": "python",
   "name": "python3"
  },
  "language_info": {
   "codemirror_mode": {
    "name": "ipython",
    "version": 3
   },
   "file_extension": ".py",
   "mimetype": "text/x-python",
   "name": "python",
   "nbconvert_exporter": "python",
   "pygments_lexer": "ipython3",
   "version": "3.7.3"
  }
 },
 "nbformat": 4,
 "nbformat_minor": 4
}
