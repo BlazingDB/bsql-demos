{
 "cells": [
  {
   "cell_type": "markdown",
   "metadata": {
    "colab_type": "text",
    "id": "l4fOFMjbRvkZ"
   },
   "source": [
    "# BlazingSQL + cuML NYC Taxi Cab Fare Prediction\n",
    "\n",
    "This demo uses [pubically availible NYC Taxi Cab Data](https://www.kaggle.com/c/new-york-city-taxi-fare-prediction) in order to predict the fare amount (inclusive of tolls) for a taxi ride in New York City given the pickup and dropoff locations. A linear regression model is used from the cuML library in [RAPIDS AI.](https://rapids.ai/) "
   ]
  },
  {
   "cell_type": "markdown",
   "metadata": {
    "colab_type": "text",
    "id": "h7IpRu0ZjSYY"
   },
   "source": [
    "# Confirm T4 GPU "
   ]
  },
  {
   "cell_type": "code",
   "execution_count": 0,
   "metadata": {
    "colab": {
     "base_uri": "https://localhost:8080/",
     "height": 306
    },
    "colab_type": "code",
    "id": "7Z2YTrgqGgI9",
    "outputId": "392dfd83-abdf-48c9-9ef6-b3cc6ae03c74"
   },
   "outputs": [
    {
     "name": "stdout",
     "output_type": "stream",
     "text": [
      "Thu Jul 25 19:48:53 2019       \n",
      "+-----------------------------------------------------------------------------+\n",
      "| NVIDIA-SMI 418.67       Driver Version: 410.79       CUDA Version: 10.0     |\n",
      "|-------------------------------+----------------------+----------------------+\n",
      "| GPU  Name        Persistence-M| Bus-Id        Disp.A | Volatile Uncorr. ECC |\n",
      "| Fan  Temp  Perf  Pwr:Usage/Cap|         Memory-Usage | GPU-Util  Compute M. |\n",
      "|===============================+======================+======================|\n",
      "|   0  Tesla T4            Off  | 00000000:00:04.0 Off |                    0 |\n",
      "| N/A   56C    P8    17W /  70W |      0MiB / 15079MiB |      0%      Default |\n",
      "+-------------------------------+----------------------+----------------------+\n",
      "                                                                               \n",
      "+-----------------------------------------------------------------------------+\n",
      "| Processes:                                                       GPU Memory |\n",
      "|  GPU       PID   Type   Process name                             Usage      |\n",
      "|=============================================================================|\n",
      "|  No running processes found                                                 |\n",
      "+-----------------------------------------------------------------------------+\n"
     ]
    }
   ],
   "source": [
    "!nvidia-smi"
   ]
  },
  {
   "cell_type": "markdown",
   "metadata": {
    "colab_type": "text",
    "id": "eadvPhFii-Q6"
   },
   "source": [
    "# Install BlazingSQL + cuDF"
   ]
  },
  {
   "cell_type": "code",
   "execution_count": 1,
   "metadata": {
    "colab": {
     "base_uri": "https://localhost:8080/",
     "height": 1000
    },
    "colab_type": "code",
    "id": "IS8mCBCyGs8Y",
    "outputId": "3282198c-b4cf-4cb3-c91e-b3c08bb15d86",
    "scrolled": false
   },
   "outputs": [],
   "source": [
    "# !bash -c \"$(wget -q https://s3.amazonaws.com/blazingsql-colab/install.sh -O -)\""
   ]
  },
  {
   "cell_type": "code",
   "execution_count": 3,
   "metadata": {
    "colab": {
     "base_uri": "https://localhost:8080/",
     "height": 68
    },
    "colab_type": "code",
    "id": "fmfHutOKGzF9",
    "outputId": "29a663ba-2218-4247-de48-7114251d1dbb"
   },
   "outputs": [],
   "source": [
    "# !blazingsql status"
   ]
  },
  {
   "cell_type": "markdown",
   "metadata": {
    "colab_type": "text",
    "id": "lPd9fxh7o4En"
   },
   "source": [
    "## Clear Runtime\n",
    "\n",
    "Before you continue, please go to the 'Runtime' Menu above, and select 'Reset Runtime'. "
   ]
  },
  {
   "cell_type": "markdown",
   "metadata": {
    "colab_type": "text",
    "id": "RnUyVHwHmKyk"
   },
   "source": [
    "# Import Packages\n",
    "\n",
    "## Warning - New Bug Using BlazingSQL in Google Colab.\n",
    "*The cell below will error on first run, please Restart Runtime and run again. We are are working to fix this very soon.*\n"
   ]
  },
  {
   "cell_type": "code",
   "execution_count": 0,
   "metadata": {
    "colab": {},
    "colab_type": "code",
    "id": "5zVEgowSIUKX"
   },
   "outputs": [],
   "source": [
    "# # Set Environment Variables\n",
    "# import sys, os\n",
    "# os.environ[\"NUMBAPRO_NVVM\"] = \"/usr/local/cuda/nvvm/lib64/libnvvm.so\"\n",
    "# os.environ[\"NUMBAPRO_LIBDEVICE\"] = \"/usr/local/cuda/nvvm/libdevice/\""
   ]
  },
  {
   "cell_type": "code",
   "execution_count": 1,
   "metadata": {},
   "outputs": [
    {
     "name": "stdout",
     "output_type": "stream",
     "text": [
      "WARNING: blazingsql-orchestrator was not automativally started, its probably already running\n",
      "WARNING: blazingsql-engine was not automativally started, its probably already running\n",
      "BlazingContext ready\n"
     ]
    }
   ],
   "source": [
    "# Import RAPIDS AI stack\n",
    "from blazingsql import BlazingContext\n",
    "import cudf\n",
    "\n",
    "bc = BlazingContext()"
   ]
  },
  {
   "cell_type": "markdown",
   "metadata": {
    "colab_type": "text",
    "id": "Gt0TPBqif50q"
   },
   "source": [
    "# Get Data"
   ]
  },
  {
   "cell_type": "code",
   "execution_count": 2,
   "metadata": {
    "colab": {
     "base_uri": "https://localhost:8080/",
     "height": 765
    },
    "colab_type": "code",
    "id": "6uR3aNkqD1Pb",
    "outputId": "84628680-669e-4583-d3a2-d27f7c7dfed4"
   },
   "outputs": [],
   "source": [
    "# !wget https://blazingsql-colab.s3.amazonaws.com/taxi_data/taxi_00.csv\n",
    "# !wget https://blazingsql-colab.s3.amazonaws.com/taxi_data/taxi_01.csv\n",
    "# !wget https://blazingsql-colab.s3.amazonaws.com/taxi_data/taxi_02.csv\n",
    "# !wget https://blazingsql-colab.s3.amazonaws.com/taxi_data/taxi_03.csv"
   ]
  },
  {
   "cell_type": "markdown",
   "metadata": {
    "colab_type": "text",
    "id": "PXtydYrimQGt"
   },
   "source": [
    "# ETL: Read and Join CSVs\n"
   ]
  },
  {
   "cell_type": "code",
   "execution_count": 3,
   "metadata": {
    "colab": {},
    "colab_type": "code",
    "id": "Gr7CUSrsEBmW"
   },
   "outputs": [],
   "source": [
    "column_names = ['key', 'fare_amount', 'pickup_longitude', 'pickup_latitude', 'dropoff_longitude', 'dropoff_latitude', 'passenger_count']\n",
    "column_types = ['date64', 'float32', 'float32', 'float32', 'float32', 'float32', 'float32']\n",
    "\n",
    "gdf_00 = cudf.read_csv('taxi_00.csv', delimiter= ',', dtype = column_types, names = column_names)\n",
    "gdf_01 = cudf.read_csv('taxi_01.csv', delimiter= ',', dtype = column_types, names = column_names)\n",
    "gdf_02 = cudf.read_csv('taxi_01.csv', delimiter= ',', dtype = column_types, names = column_names)\n",
    "gdf_03 = cudf.read_csv('taxi_01.csv', delimiter= ',', dtype = column_types, names = column_names)\n",
    "\n",
    "gdf = cudf.concat([gdf_00,gdf_01, gdf_02, gdf_03])"
   ]
  },
  {
   "cell_type": "code",
   "execution_count": 4,
   "metadata": {},
   "outputs": [
    {
     "data": {
      "text/html": [
       "<div>\n",
       "<style scoped>\n",
       "    .dataframe tbody tr th:only-of-type {\n",
       "        vertical-align: middle;\n",
       "    }\n",
       "\n",
       "    .dataframe tbody tr th {\n",
       "        vertical-align: top;\n",
       "    }\n",
       "\n",
       "    .dataframe thead th {\n",
       "        text-align: right;\n",
       "    }\n",
       "</style>\n",
       "<table border=\"1\" class=\"dataframe\">\n",
       "  <thead>\n",
       "    <tr style=\"text-align: right;\">\n",
       "      <th></th>\n",
       "      <th>key</th>\n",
       "      <th>fare_amount</th>\n",
       "      <th>pickup_longitude</th>\n",
       "      <th>pickup_latitude</th>\n",
       "      <th>dropoff_longitude</th>\n",
       "      <th>dropoff_latitude</th>\n",
       "      <th>passenger_count</th>\n",
       "    </tr>\n",
       "  </thead>\n",
       "  <tbody>\n",
       "    <tr>\n",
       "      <th>0</th>\n",
       "      <td>2012-02-02 22:30:19.002</td>\n",
       "      <td>8.9</td>\n",
       "      <td>-73.988708</td>\n",
       "      <td>40.758804</td>\n",
       "      <td>-73.986519</td>\n",
       "      <td>40.737202</td>\n",
       "      <td>1.0</td>\n",
       "    </tr>\n",
       "    <tr>\n",
       "      <th>1</th>\n",
       "      <td>2014-09-20 07:19:24.001</td>\n",
       "      <td>4.0</td>\n",
       "      <td>-73.990204</td>\n",
       "      <td>40.746708</td>\n",
       "      <td>-73.994728</td>\n",
       "      <td>40.750515</td>\n",
       "      <td>1.0</td>\n",
       "    </tr>\n",
       "    <tr>\n",
       "      <th>2</th>\n",
       "      <td>2013-02-23 07:18:05.001</td>\n",
       "      <td>5.5</td>\n",
       "      <td>-74.016762</td>\n",
       "      <td>40.709438</td>\n",
       "      <td>-74.009003</td>\n",
       "      <td>40.719498</td>\n",
       "      <td>3.0</td>\n",
       "    </tr>\n",
       "    <tr>\n",
       "      <th>3</th>\n",
       "      <td>2015-04-18 23:49:27.009</td>\n",
       "      <td>13.5</td>\n",
       "      <td>-74.002708</td>\n",
       "      <td>40.733730</td>\n",
       "      <td>-73.986099</td>\n",
       "      <td>40.734776</td>\n",
       "      <td>1.0</td>\n",
       "    </tr>\n",
       "    <tr>\n",
       "      <th>4</th>\n",
       "      <td>2010-03-04 08:15:59.001</td>\n",
       "      <td>10.5</td>\n",
       "      <td>-73.988365</td>\n",
       "      <td>40.737663</td>\n",
       "      <td>-74.012459</td>\n",
       "      <td>40.713932</td>\n",
       "      <td>1.0</td>\n",
       "    </tr>\n",
       "  </tbody>\n",
       "</table>\n",
       "</div>"
      ],
      "text/plain": [
       "                      key  fare_amount  pickup_longitude  pickup_latitude  \\\n",
       "0 2012-02-02 22:30:19.002          8.9        -73.988708        40.758804   \n",
       "1 2014-09-20 07:19:24.001          4.0        -73.990204        40.746708   \n",
       "2 2013-02-23 07:18:05.001          5.5        -74.016762        40.709438   \n",
       "3 2015-04-18 23:49:27.009         13.5        -74.002708        40.733730   \n",
       "4 2010-03-04 08:15:59.001         10.5        -73.988365        40.737663   \n",
       "\n",
       "   dropoff_longitude  dropoff_latitude  passenger_count  \n",
       "0         -73.986519         40.737202              1.0  \n",
       "1         -73.994728         40.750515              1.0  \n",
       "2         -74.009003         40.719498              3.0  \n",
       "3         -73.986099         40.734776              1.0  \n",
       "4         -74.012459         40.713932              1.0  "
      ]
     },
     "execution_count": 4,
     "metadata": {},
     "output_type": "execute_result"
    }
   ],
   "source": [
    "gdf.head()"
   ]
  },
  {
   "cell_type": "markdown",
   "metadata": {
    "colab_type": "text",
    "id": "3RU7kfesmGex"
   },
   "source": [
    "# ETL: Create Table"
   ]
  },
  {
   "cell_type": "code",
   "execution_count": 5,
   "metadata": {
    "colab": {},
    "colab_type": "code",
    "id": "uri88uVIRcHa"
   },
   "outputs": [
    {
     "data": {
      "text/plain": [
       "<pyblazing.apiv2.sql.Table at 0x7fc86c4b20f0>"
      ]
     },
     "execution_count": 5,
     "metadata": {},
     "output_type": "execute_result"
    }
   ],
   "source": [
    "bc.create_table('taxi', gdf)"
   ]
  },
  {
   "cell_type": "markdown",
   "metadata": {
    "colab_type": "text",
    "id": "XnzjqEFnmDC5"
   },
   "source": [
    "# ETL: Query Tables for Training Data"
   ]
  },
  {
   "cell_type": "code",
   "execution_count": 6,
   "metadata": {
    "colab": {
     "base_uri": "https://localhost:8080/",
     "height": 425
    },
    "colab_type": "code",
    "id": "_MDxz73ZMhhK",
    "outputId": "f2abeafc-0cdf-46b1-ddf5-a5cde3d37792"
   },
   "outputs": [],
   "source": [
    "X_train = bc.sql('SELECT hour(key) as hours, month(key) as months, year(key) - 2000 as years,  dropoff_longitude - pickup_longitude as longitude_distance, dropoff_latitude - pickup_latitude as latitude_distance, passenger_count FROM main.taxi').get()\n",
    "X_train_gdf = X_train.columns"
   ]
  },
  {
   "cell_type": "code",
   "execution_count": 7,
   "metadata": {},
   "outputs": [],
   "source": [
    "# crashes the kernel\n",
    "# X_train.columns"
   ]
  },
  {
   "cell_type": "code",
   "execution_count": 8,
   "metadata": {},
   "outputs": [
    {
     "data": {
      "text/plain": [
       "cudf.core.dataframe.DataFrame"
      ]
     },
     "execution_count": 8,
     "metadata": {},
     "output_type": "execute_result"
    }
   ],
   "source": [
    "type(X_train.columns)"
   ]
  },
  {
   "cell_type": "code",
   "execution_count": 9,
   "metadata": {},
   "outputs": [
    {
     "data": {
      "text/plain": [
       "cudf.core.dataframe.DataFrame"
      ]
     },
     "execution_count": 9,
     "metadata": {},
     "output_type": "execute_result"
    }
   ],
   "source": [
    "type(X_train_gdf)"
   ]
  },
  {
   "cell_type": "code",
   "execution_count": 10,
   "metadata": {},
   "outputs": [
    {
     "data": {
      "text/html": [
       "<div>\n",
       "<style scoped>\n",
       "    .dataframe tbody tr th:only-of-type {\n",
       "        vertical-align: middle;\n",
       "    }\n",
       "\n",
       "    .dataframe tbody tr th {\n",
       "        vertical-align: top;\n",
       "    }\n",
       "\n",
       "    .dataframe thead th {\n",
       "        text-align: right;\n",
       "    }\n",
       "</style>\n",
       "<table border=\"1\" class=\"dataframe\">\n",
       "  <thead>\n",
       "    <tr style=\"text-align: right;\">\n",
       "      <th></th>\n",
       "      <th>$f0</th>\n",
       "      <th>$f1</th>\n",
       "      <th>$f2</th>\n",
       "      <th>$f3</th>\n",
       "      <th>$f4</th>\n",
       "      <th>passenger_count</th>\n",
       "    </tr>\n",
       "  </thead>\n",
       "  <tbody>\n",
       "    <tr>\n",
       "      <th>0</th>\n",
       "      <td>22</td>\n",
       "      <td>2</td>\n",
       "      <td>12</td>\n",
       "      <td>0.002190</td>\n",
       "      <td>-0.021603</td>\n",
       "      <td>1.0</td>\n",
       "    </tr>\n",
       "    <tr>\n",
       "      <th>1</th>\n",
       "      <td>7</td>\n",
       "      <td>9</td>\n",
       "      <td>14</td>\n",
       "      <td>-0.004524</td>\n",
       "      <td>0.003807</td>\n",
       "      <td>1.0</td>\n",
       "    </tr>\n",
       "    <tr>\n",
       "      <th>2</th>\n",
       "      <td>7</td>\n",
       "      <td>2</td>\n",
       "      <td>13</td>\n",
       "      <td>0.007759</td>\n",
       "      <td>0.010059</td>\n",
       "      <td>3.0</td>\n",
       "    </tr>\n",
       "    <tr>\n",
       "      <th>3</th>\n",
       "      <td>23</td>\n",
       "      <td>4</td>\n",
       "      <td>15</td>\n",
       "      <td>0.016609</td>\n",
       "      <td>0.001045</td>\n",
       "      <td>1.0</td>\n",
       "    </tr>\n",
       "    <tr>\n",
       "      <th>4</th>\n",
       "      <td>8</td>\n",
       "      <td>3</td>\n",
       "      <td>10</td>\n",
       "      <td>-0.024094</td>\n",
       "      <td>-0.023731</td>\n",
       "      <td>1.0</td>\n",
       "    </tr>\n",
       "  </tbody>\n",
       "</table>\n",
       "</div>"
      ],
      "text/plain": [
       "   $f0  $f1  $f2       $f3       $f4  passenger_count\n",
       "0   22    2   12  0.002190 -0.021603              1.0\n",
       "1    7    9   14 -0.004524  0.003807              1.0\n",
       "2    7    2   13  0.007759  0.010059              3.0\n",
       "3   23    4   15  0.016609  0.001045              1.0\n",
       "4    8    3   10 -0.024094 -0.023731              1.0"
      ]
     },
     "execution_count": 10,
     "metadata": {},
     "output_type": "execute_result"
    }
   ],
   "source": [
    "X_train_gdf.head()"
   ]
  },
  {
   "cell_type": "code",
   "execution_count": 11,
   "metadata": {},
   "outputs": [
    {
     "data": {
      "text/plain": [
       "pyblazing.api.ResultSetHandle"
      ]
     },
     "execution_count": 11,
     "metadata": {},
     "output_type": "execute_result"
    }
   ],
   "source": [
    "type(X_train)"
   ]
  },
  {
   "cell_type": "code",
   "execution_count": 12,
   "metadata": {},
   "outputs": [
    {
     "data": {
      "text/plain": [
       "Index(['$f0', '$f1', '$f2', '$f3', '$f4', 'passenger_count'], dtype='object')"
      ]
     },
     "execution_count": 12,
     "metadata": {},
     "output_type": "execute_result"
    }
   ],
   "source": [
    "X_train.columns.columns"
   ]
  },
  {
   "cell_type": "code",
   "execution_count": 13,
   "metadata": {},
   "outputs": [],
   "source": [
    "# crashes the kernel\n",
    "# X_train"
   ]
  },
  {
   "cell_type": "code",
   "execution_count": 14,
   "metadata": {},
   "outputs": [
    {
     "ename": "KeyError",
     "evalue": "'longitude_distance'",
     "output_type": "error",
     "traceback": [
      "\u001b[0;31m---------------------------------------------------------------------------\u001b[0m",
      "\u001b[0;31mKeyError\u001b[0m                                  Traceback (most recent call last)",
      "\u001b[0;32m<ipython-input-14-a034a662b387>\u001b[0m in \u001b[0;36m<module>\u001b[0;34m\u001b[0m\n\u001b[0;32m----> 1\u001b[0;31m \u001b[0mX_train_gdf\u001b[0m\u001b[0;34m[\u001b[0m\u001b[0;34m'longitude_distance'\u001b[0m\u001b[0;34m]\u001b[0m \u001b[0;34m=\u001b[0m \u001b[0mX_train_gdf\u001b[0m\u001b[0;34m[\u001b[0m\u001b[0;34m'longitude_distance'\u001b[0m\u001b[0;34m]\u001b[0m\u001b[0;34m.\u001b[0m\u001b[0mfillna\u001b[0m\u001b[0;34m(\u001b[0m\u001b[0;36m0\u001b[0m\u001b[0;34m)\u001b[0m\u001b[0;34m.\u001b[0m\u001b[0mastype\u001b[0m\u001b[0;34m(\u001b[0m\u001b[0;34m'float32'\u001b[0m\u001b[0;34m)\u001b[0m\u001b[0;34m\u001b[0m\u001b[0;34m\u001b[0m\u001b[0m\n\u001b[0m\u001b[1;32m      2\u001b[0m \u001b[0mX_train_gdf\u001b[0m\u001b[0;34m[\u001b[0m\u001b[0;34m'latitude_distance'\u001b[0m\u001b[0;34m]\u001b[0m \u001b[0;34m=\u001b[0m \u001b[0mX_train_gdf\u001b[0m\u001b[0;34m[\u001b[0m\u001b[0;34m'latitude_distance'\u001b[0m\u001b[0;34m]\u001b[0m\u001b[0;34m.\u001b[0m\u001b[0mfillna\u001b[0m\u001b[0;34m(\u001b[0m\u001b[0;36m0\u001b[0m\u001b[0;34m)\u001b[0m\u001b[0;34m.\u001b[0m\u001b[0mastype\u001b[0m\u001b[0;34m(\u001b[0m\u001b[0;34m'float32'\u001b[0m\u001b[0;34m)\u001b[0m\u001b[0;34m\u001b[0m\u001b[0;34m\u001b[0m\u001b[0m\n\u001b[1;32m      3\u001b[0m \u001b[0mX_train_gdf\u001b[0m\u001b[0;34m[\u001b[0m\u001b[0;34m'passenger_count'\u001b[0m\u001b[0;34m]\u001b[0m \u001b[0;34m=\u001b[0m \u001b[0mX_train_gdf\u001b[0m\u001b[0;34m[\u001b[0m\u001b[0;34m'passenger_count'\u001b[0m\u001b[0;34m]\u001b[0m\u001b[0;34m.\u001b[0m\u001b[0mfillna\u001b[0m\u001b[0;34m(\u001b[0m\u001b[0;36m0\u001b[0m\u001b[0;34m)\u001b[0m\u001b[0;34m.\u001b[0m\u001b[0mastype\u001b[0m\u001b[0;34m(\u001b[0m\u001b[0;34m'float32'\u001b[0m\u001b[0;34m)\u001b[0m\u001b[0;34m\u001b[0m\u001b[0;34m\u001b[0m\u001b[0m\n\u001b[1;32m      4\u001b[0m \u001b[0mX_train_gdf\u001b[0m\u001b[0;34m[\u001b[0m\u001b[0;34m'months'\u001b[0m\u001b[0;34m]\u001b[0m \u001b[0;34m=\u001b[0m \u001b[0mX_train_gdf\u001b[0m\u001b[0;34m[\u001b[0m\u001b[0;34m'months'\u001b[0m\u001b[0;34m]\u001b[0m\u001b[0;34m.\u001b[0m\u001b[0mastype\u001b[0m\u001b[0;34m(\u001b[0m\u001b[0;34m'float32'\u001b[0m\u001b[0;34m)\u001b[0m\u001b[0;34m\u001b[0m\u001b[0;34m\u001b[0m\u001b[0m\n\u001b[1;32m      5\u001b[0m \u001b[0mX_train_gdf\u001b[0m\u001b[0;34m[\u001b[0m\u001b[0;34m'years'\u001b[0m\u001b[0;34m]\u001b[0m \u001b[0;34m=\u001b[0m \u001b[0mX_train_gdf\u001b[0m\u001b[0;34m[\u001b[0m\u001b[0;34m'years'\u001b[0m\u001b[0;34m]\u001b[0m\u001b[0;34m.\u001b[0m\u001b[0mastype\u001b[0m\u001b[0;34m(\u001b[0m\u001b[0;34m'float32'\u001b[0m\u001b[0;34m)\u001b[0m\u001b[0;34m\u001b[0m\u001b[0;34m\u001b[0m\u001b[0m\n",
      "\u001b[0;32m~/anaconda3/envs/bzsqlenv/lib/python3.7/site-packages/cudf/core/dataframe.py\u001b[0m in \u001b[0;36m__getitem__\u001b[0;34m(self, arg)\u001b[0m\n\u001b[1;32m    323\u001b[0m             \u001b[0;32mreturn\u001b[0m \u001b[0mself\u001b[0m\u001b[0;34m.\u001b[0m\u001b[0mcolumns\u001b[0m\u001b[0;34m.\u001b[0m\u001b[0m_get_column_major\u001b[0m\u001b[0;34m(\u001b[0m\u001b[0mself\u001b[0m\u001b[0;34m,\u001b[0m \u001b[0marg\u001b[0m\u001b[0;34m)\u001b[0m\u001b[0;34m\u001b[0m\u001b[0;34m\u001b[0m\u001b[0m\n\u001b[1;32m    324\u001b[0m         \u001b[0;32mif\u001b[0m \u001b[0mis_scalar\u001b[0m\u001b[0;34m(\u001b[0m\u001b[0marg\u001b[0m\u001b[0;34m)\u001b[0m \u001b[0;32mor\u001b[0m \u001b[0misinstance\u001b[0m\u001b[0;34m(\u001b[0m\u001b[0marg\u001b[0m\u001b[0;34m,\u001b[0m \u001b[0mtuple\u001b[0m\u001b[0;34m)\u001b[0m\u001b[0;34m:\u001b[0m\u001b[0;34m\u001b[0m\u001b[0;34m\u001b[0m\u001b[0m\n\u001b[0;32m--> 325\u001b[0;31m             \u001b[0ms\u001b[0m \u001b[0;34m=\u001b[0m \u001b[0mself\u001b[0m\u001b[0;34m.\u001b[0m\u001b[0m_cols\u001b[0m\u001b[0;34m[\u001b[0m\u001b[0marg\u001b[0m\u001b[0;34m]\u001b[0m\u001b[0;34m\u001b[0m\u001b[0;34m\u001b[0m\u001b[0m\n\u001b[0m\u001b[1;32m    326\u001b[0m             \u001b[0ms\u001b[0m\u001b[0;34m.\u001b[0m\u001b[0mname\u001b[0m \u001b[0;34m=\u001b[0m \u001b[0marg\u001b[0m\u001b[0;34m\u001b[0m\u001b[0;34m\u001b[0m\u001b[0m\n\u001b[1;32m    327\u001b[0m             \u001b[0ms\u001b[0m\u001b[0;34m.\u001b[0m\u001b[0mindex\u001b[0m \u001b[0;34m=\u001b[0m \u001b[0mself\u001b[0m\u001b[0;34m.\u001b[0m\u001b[0mindex\u001b[0m\u001b[0;34m\u001b[0m\u001b[0;34m\u001b[0m\u001b[0m\n",
      "\u001b[0;31mKeyError\u001b[0m: 'longitude_distance'"
     ]
    }
   ],
   "source": [
    "X_train_gdf['longitude_distance'] = X_train_gdf['longitude_distance'].fillna(0).astype('float32')\n",
    "X_train_gdf['latitude_distance'] = X_train_gdf['latitude_distance'].fillna(0).astype('float32')\n",
    "X_train_gdf['passenger_count'] = X_train_gdf['passenger_count'].fillna(0).astype('float32')\n",
    "X_train_gdf['months'] = X_train_gdf['months'].astype('float32') \n",
    "X_train_gdf['years'] = X_train_gdf['years'].astype('float32') \n",
    "X_train_gdf['hours'] = X_train_gdf['hours'].astype('float32')\n",
    "        \n",
    "print(X_train_gdf)\n",
    "\n",
    "#Query dependent variable y\n",
    "y_train = bc.sql('SELECT fare_amount FROM main.taxi').get()\n",
    "y_train_gdf = y_train.columns\n",
    "y_train_gdf = y_train_gdf['fare_amount']\n",
    "\n",
    "\n",
    "print(y_train_gdf)"
   ]
  },
  {
   "cell_type": "markdown",
   "metadata": {
    "colab_type": "text",
    "id": "ZWLI4jcgiou8"
   },
   "source": [
    "# Install cuML on Colab"
   ]
  },
  {
   "cell_type": "code",
   "execution_count": null,
   "metadata": {
    "colab": {
     "base_uri": "https://localhost:8080/",
     "height": 918
    },
    "colab_type": "code",
    "id": "n2XmBLf8Di2k",
    "outputId": "dcc62b91-1c07-494a-e151-1ec6f34f92b4"
   },
   "outputs": [],
   "source": [
    "# !wget -c https://repo.continuum.io/miniconda/Miniconda3-4.5.4-Linux-x86_64.sh\n",
    "# !chmod +x Miniconda3-4.5.4-Linux-x86_64.sh\n",
    "# !bash ./Miniconda3-4.5.4-Linux-x86_64.sh -b -f -p /usr/local"
   ]
  },
  {
   "cell_type": "code",
   "execution_count": null,
   "metadata": {
    "colab": {
     "base_uri": "https://localhost:8080/",
     "height": 1000
    },
    "colab_type": "code",
    "id": "UymK3OIogIYj",
    "outputId": "880cfd41-dd27-4896-c4a7-41da3210ebd1"
   },
   "outputs": [],
   "source": [
    "# !conda config --append channels conda-forge\n",
    "# !conda install -q -y --prefix /usr/local -c rapidsai cuml"
   ]
  },
  {
   "cell_type": "code",
   "execution_count": null,
   "metadata": {
    "colab": {},
    "colab_type": "code",
    "id": "C2CE-t1tgKyJ"
   },
   "outputs": [],
   "source": [
    "# import sys\n",
    "# sys.path.append('/usr/local/lib/python3.6/site-packages/')"
   ]
  },
  {
   "cell_type": "markdown",
   "metadata": {
    "colab_type": "text",
    "id": "-J3ZzyD6iwQy"
   },
   "source": [
    "# Linear Regression: Train Model"
   ]
  },
  {
   "cell_type": "code",
   "execution_count": null,
   "metadata": {
    "colab": {
     "base_uri": "https://localhost:8080/",
     "height": 531
    },
    "colab_type": "code",
    "id": "tVUZvT9TB6Ii",
    "outputId": "d61c0249-47ee-40b8-a72f-9d62383f23dd"
   },
   "outputs": [],
   "source": [
    "%%time\n",
    "\n",
    "import cuml\n",
    "from cuml import LinearRegression\n",
    "\n",
    "#create model\n",
    "lr = LinearRegression(fit_intercept = True, normalize = False, algorithm = \"eig\")\n",
    "#train model\n",
    "reg = lr.fit(X_train_gdf,y_train_gdf)\n",
    "#print results\n",
    "print(\"Coefficients:\")\n",
    "print(reg.coef_)\n",
    "print(\" \")\n",
    "print(\" Y intercept:\")\n",
    "print(reg.intercept_)"
   ]
  },
  {
   "cell_type": "markdown",
   "metadata": {
    "colab_type": "text",
    "id": "pHtni9xcl-ht"
   },
   "source": [
    "# Linear Regression: Use Model to Predict Future Taxi Fares \n",
    "\n",
    "For this we are using a second dataset with data but no fare amount. We will predict fare_amounts. \n",
    "\n",
    "Here is a public link to that file: https://drive.google.com/file/d/1UG5-dXNPsAWZb0bJgquEg1qZsm12jzZW/view?usp=sharing\n",
    "\n",
    "You will need to download that file and upload it to the colab. "
   ]
  },
  {
   "cell_type": "code",
   "execution_count": null,
   "metadata": {
    "colab": {},
    "colab_type": "code",
    "id": "yRM5PosNiuGh"
   },
   "outputs": [],
   "source": [
    "#Create Test Data Table\n",
    "\n",
    "column_names = ['key', 'fare_amount', 'pickup_longitude', 'pickup_latitude', 'dropoff_longitude', 'dropoff_latitude', 'passenger_count']\n",
    "column_types = ['date64', 'float32', 'float32', 'float32', 'float32', 'float32', 'float32']\n",
    "\n",
    "!wget 'https://blazingsql-demos.s3-us-west-1.amazonaws.com/test.csv'\n",
    "\n",
    "gdf2 = cudf.read_csv('test.csv', delimiter= ',', dtype = column_types, names = column_names)\n",
    "\n",
    "bc.create_table('test', gdf2)\n"
   ]
  },
  {
   "cell_type": "code",
   "execution_count": null,
   "metadata": {
    "colab": {},
    "colab_type": "code",
    "id": "g4I8AJ51dpW5"
   },
   "outputs": [],
   "source": [
    "#Query Test Data Table to Create GDF\n",
    "X_test = bc.sql('SELECT hour(key) as hours, month(key) as months, year(key) - 2000 as years,  dropoff_longitude - pickup_longitude as longitude_distance, dropoff_latitude - pickup_latitude as latitude_distance , passenger_count FROM main.test').get()\n",
    "X_test_gdf = X_test.columns\n",
    "\n",
    "X_test_gdf['longitude_distance'] = X_test_gdf['longitude_distance'].fillna(0).astype('float32')\n",
    "X_test_gdf['latitude_distance'] = X_test_gdf['latitude_distance'].fillna(0).astype('float32')\n",
    "X_test_gdf['passenger_count'] = X_test_gdf['passenger_count'].fillna(0).astype('float32')\n",
    "X_test_gdf['months'] = X_test_gdf['months'].astype('float32') \n",
    "X_test_gdf['years'] = X_test_gdf['years'].astype('float32') \n",
    "X_test_gdf['hours'] = X_test_gdf['hours'].astype('float32')\n",
    "\n",
    "print(X_test_gdf) #this is the data we will use to predict future ride costs"
   ]
  },
  {
   "cell_type": "code",
   "execution_count": null,
   "metadata": {
    "colab": {},
    "colab_type": "code",
    "id": "zCft6P5QkepN"
   },
   "outputs": [],
   "source": [
    "# Predict Fare Amounts \n",
    "predictions = lr.predict(X_test_gdf)\n",
    "print(predictions)"
   ]
  },
  {
   "cell_type": "code",
   "execution_count": null,
   "metadata": {
    "colab": {},
    "colab_type": "code",
    "id": "GdjUjJ42l2BI"
   },
   "outputs": [],
   "source": [
    "#Combine into a table of table points and predictions\n",
    "X_test_gdf['predicted_fare'] = predictions\n",
    "print(X_test_gdf)"
   ]
  },
  {
   "cell_type": "markdown",
   "metadata": {
    "colab_type": "text",
    "id": "zO1g6UXXiVGf"
   },
   "source": [
    " ##  Predict Cost from Grand Central Station to Samsung Next NYC at 7:00 AM on May 15th, 2020"
   ]
  },
  {
   "cell_type": "code",
   "execution_count": null,
   "metadata": {
    "colab": {},
    "colab_type": "code",
    "id": "lACHZcrMl3v_"
   },
   "outputs": [],
   "source": [
    "samsung_ride = cudf.DataFrame([('hours', 7.0), ('days',15.0), ('months', 5.0), ('years', 20.0), ('longitude_distance', 0.012727), ('latitude_distance', 0.008484), ('passenger_count', 1.0)])\n",
    "\n",
    "samsung_ride['hours'] = samsung_ride['hours'].astype('float32')\n",
    "samsung_ride['days'] = samsung_ride['days'].astype('float32')\n",
    "samsung_ride['months'] = samsung_ride['months'].astype('float32')\n",
    "samsung_ride['years'] = samsung_ride['years'].astype('float32')\n",
    "samsung_ride['longitude_distance'] = samsung_ride['longitude_distance'].astype('float32')\n",
    "samsung_ride['latitude_distance'] = samsung_ride['latitude_distance'].astype('float32')\n",
    "samsung_ride['passenger_count'] = samsung_ride['passenger_count'].astype('float32')\n",
    "\n",
    "samsung_prediction = lr.predict(samsung_ride)\n",
    "print(samsung_prediction)"
   ]
  },
  {
   "cell_type": "code",
   "execution_count": 0,
   "metadata": {
    "colab": {},
    "colab_type": "code",
    "id": "8sukLEhthKEX"
   },
   "outputs": [],
   "source": []
  }
 ],
 "metadata": {
  "accelerator": "GPU",
  "colab": {
   "collapsed_sections": [],
   "name": "BlazingSQL_cuML_Taxi_Fare_Prediction.ipynb",
   "provenance": []
  },
  "kernelspec": {
   "display_name": "Python 3",
   "language": "python",
   "name": "python3"
  },
  "language_info": {
   "codemirror_mode": {
    "name": "ipython",
    "version": 3
   },
   "file_extension": ".py",
   "mimetype": "text/x-python",
   "name": "python",
   "nbconvert_exporter": "python",
   "pygments_lexer": "ipython3",
   "version": "3.7.3"
  }
 },
 "nbformat": 4,
 "nbformat_minor": 1
}
