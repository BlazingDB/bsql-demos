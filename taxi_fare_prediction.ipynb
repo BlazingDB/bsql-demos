{
 "cells": [
  {
   "cell_type": "markdown",
   "metadata": {
    "colab_type": "text",
    "id": "l4fOFMjbRvkZ"
   },
   "source": [
    "# BlazingSQL + cuML NYC Taxi Cab Fare Prediction\n",
    "\n",
    "This demo uses publicly available [NYC Taxi Cab Data](https://www.kaggle.com/c/new-york-city-taxi-fare-prediction) to predict the total fare of a taxi ride in New York City given the pickup and dropoff locations. \n",
    "\n",
    "In this notebook, we will cover: \n",
    "- How to read and query multiple CSV files with BlazingSQL.\n",
    "- How to implement a linear regression model with cuML.\n",
    "\n",
    "### Imports\n",
    "This next cell will import all packages you need to run this notebook end-to-end."
   ]
  },
  {
   "cell_type": "code",
   "execution_count": 1,
   "metadata": {},
   "outputs": [],
   "source": [
    "import os\n",
    "import urllib\n",
    "from cuml import LinearRegression\n",
    "from blazingsql import BlazingContext"
   ]
  },
  {
   "cell_type": "markdown",
   "metadata": {},
   "source": [
    "## Create BlazingContext\n",
    "You can think of the BlazingContext much like a Spark Context (i.e. where information such as FileSystems you have registered and Tables you have created will be stored). If you have issues running this cell, restart runtime and try running it again."
   ]
  },
  {
   "cell_type": "code",
   "execution_count": 2,
   "metadata": {},
   "outputs": [
    {
     "name": "stdout",
     "output_type": "stream",
     "text": [
      "BlazingContext ready\n"
     ]
    }
   ],
   "source": [
    "# connect to BlazingSQL\n",
    "bc = BlazingContext()"
   ]
  },
  {
   "cell_type": "markdown",
   "metadata": {
    "colab_type": "text",
    "id": "Gt0TPBqif50q"
   },
   "source": [
    "### Download Data\n",
    "For this demo we will train our model with 25,000,000 rows of data from 5 CSV files (5M rows each).\n",
    "\n",
    "The cell below will check if you already have them, and, if you don't, will download them from AWS for you. "
   ]
  },
  {
   "cell_type": "code",
   "execution_count": 3,
   "metadata": {},
   "outputs": [
    {
     "name": "stdout",
     "output_type": "stream",
     "text": [
      "Downloading https://blazingsql-colab.s3.amazonaws.com/taxi_data/taxi_00.csv to data/taxi_00.csv\n",
      "Downloading https://blazingsql-colab.s3.amazonaws.com/taxi_data/taxi_01.csv to data/taxi_01.csv\n",
      "Downloading https://blazingsql-colab.s3.amazonaws.com/taxi_data/taxi_02.csv to data/taxi_02.csv\n",
      "Downloading https://blazingsql-colab.s3.amazonaws.com/taxi_data/taxi_03.csv to data/taxi_03.csv\n",
      "Downloading https://blazingsql-colab.s3.amazonaws.com/taxi_data/taxi_04.csv to data/taxi_04.csv\n",
      "CPU times: user 4.19 s, sys: 5.16 s, total: 9.36 s\n",
      "Wall time: 26.8 s\n"
     ]
    }
   ],
   "source": [
    "%%time\n",
    "# download taxi data\n",
    "base_url = 'https://blazingsql-colab.s3.amazonaws.com/taxi_data/'\n",
    "for i in range(0, 5):\n",
    "    fn = 'taxi_0' + str(i) + '.csv'\n",
    "    # check if we already have the file\n",
    "    if not os.path.isfile('data/' + fn):\n",
    "        # we don't let me know we're downloading it now\n",
    "        print(f'Downloading {base_url + fn} to data/{fn}')\n",
    "        # download file\n",
    "        urllib.request.urlretrieve(base_url + fn, 'data/' + fn)\n",
    "    # we already have data\n",
    "    else:\n",
    "        # let us know\n",
    "        print(f'data/{fn} already downloaded')"
   ]
  },
  {
   "cell_type": "markdown",
   "metadata": {
    "colab_type": "text",
    "id": "PXtydYrimQGt"
   },
   "source": [
    "## Extract, transform, load\n",
    "In order to train our Linear Regression model, we must first preform ETL to prepare our data.\n",
    "\n",
    "BlazingSQL currently requires the full file path to create tables, the cell below will identify that path for you."
   ]
  },
  {
   "cell_type": "code",
   "execution_count": 4,
   "metadata": {},
   "outputs": [
    {
     "data": {
      "text/plain": [
       "'/home/jupyter-winston/bsql-demos/data/taxi_0*.csv'"
      ]
     },
     "execution_count": 4,
     "metadata": {},
     "output_type": "execute_result"
    }
   ],
   "source": [
    "# identify current working directory\n",
    "cwd = os.getcwd()\n",
    "# add path to data w/ wildcard (*) so BSQL can read all 5 files at once\n",
    "data_path = cwd + '/data/taxi_0*.csv'\n",
    "# how's it look?\n",
    "data_path"
   ]
  },
  {
   "cell_type": "markdown",
   "metadata": {},
   "source": [
    "### ETL: Create Table \n",
    "In this next cell we will create a single BlazingSQL table from all 5 CSVs."
   ]
  },
  {
   "cell_type": "code",
   "execution_count": 5,
   "metadata": {
    "colab": {},
    "colab_type": "code",
    "id": "Gr7CUSrsEBmW"
   },
   "outputs": [
    {
     "name": "stdout",
     "output_type": "stream",
     "text": [
      "CPU times: user 3.13 ms, sys: 2.44 ms, total: 5.57 ms\n",
      "Wall time: 4.66 ms\n"
     ]
    },
    {
     "data": {
      "text/plain": [
       "<pyblazing.apiv2.context.BlazingTable at 0x7fc0b06a4b70>"
      ]
     },
     "execution_count": 5,
     "metadata": {},
     "output_type": "execute_result"
    }
   ],
   "source": [
    "%%time\n",
    "# tag column names and types\n",
    "col_names = ['key', 'fare_amount', 'pickup_longitude', 'pickup_latitude', \n",
    "             'dropoff_longitude', 'dropoff_latitude', 'passenger_count']\n",
    "col_types = ['date64', 'float32', 'float32', 'float32',\n",
    "             'float32', 'float32', 'float32']\n",
    "\n",
    "# create a table from all 5 taxi files at once\n",
    "bc.create_table('train_taxi', data_path, names=col_names, dtype=col_types, header=0)"
   ]
  },
  {
   "cell_type": "markdown",
   "metadata": {
    "colab_type": "text",
    "id": "XnzjqEFnmDC5"
   },
   "source": [
    "### ETL: Query Tables for Training Data"
   ]
  },
  {
   "cell_type": "code",
   "execution_count": 7,
   "metadata": {
    "colab": {
     "base_uri": "https://localhost:8080/",
     "height": 425
    },
    "colab_type": "code",
    "id": "_MDxz73ZMhhK",
    "outputId": "f2abeafc-0cdf-46b1-ddf5-a5cde3d37792"
   },
   "outputs": [
    {
     "data": {
      "text/html": [
       "<div>\n",
       "<style scoped>\n",
       "    .dataframe tbody tr th:only-of-type {\n",
       "        vertical-align: middle;\n",
       "    }\n",
       "\n",
       "    .dataframe tbody tr th {\n",
       "        vertical-align: top;\n",
       "    }\n",
       "\n",
       "    .dataframe thead th {\n",
       "        text-align: right;\n",
       "    }\n",
       "</style>\n",
       "<table border=\"1\" class=\"dataframe\">\n",
       "  <thead>\n",
       "    <tr style=\"text-align: right;\">\n",
       "      <th></th>\n",
       "      <th>hours</th>\n",
       "      <th>days</th>\n",
       "      <th>months</th>\n",
       "      <th>years</th>\n",
       "      <th>longitude_distance</th>\n",
       "      <th>latitude_distance</th>\n",
       "      <th>passenger_count</th>\n",
       "    </tr>\n",
       "  </thead>\n",
       "  <tbody>\n",
       "    <tr>\n",
       "      <th>0</th>\n",
       "      <td>20.0</td>\n",
       "      <td>10.0</td>\n",
       "      <td>9.0</td>\n",
       "      <td>13.0</td>\n",
       "      <td>0.049057</td>\n",
       "      <td>0.003063</td>\n",
       "      <td>1.0</td>\n",
       "    </tr>\n",
       "    <tr>\n",
       "      <th>1</th>\n",
       "      <td>20.0</td>\n",
       "      <td>22.0</td>\n",
       "      <td>11.0</td>\n",
       "      <td>9.0</td>\n",
       "      <td>0.003464</td>\n",
       "      <td>0.007088</td>\n",
       "      <td>1.0</td>\n",
       "    </tr>\n",
       "    <tr>\n",
       "      <th>2</th>\n",
       "      <td>21.0</td>\n",
       "      <td>4.0</td>\n",
       "      <td>12.0</td>\n",
       "      <td>9.0</td>\n",
       "      <td>0.003151</td>\n",
       "      <td>0.007584</td>\n",
       "      <td>1.0</td>\n",
       "    </tr>\n",
       "    <tr>\n",
       "      <th>3</th>\n",
       "      <td>22.0</td>\n",
       "      <td>6.0</td>\n",
       "      <td>5.0</td>\n",
       "      <td>15.0</td>\n",
       "      <td>0.007141</td>\n",
       "      <td>0.011543</td>\n",
       "      <td>1.0</td>\n",
       "    </tr>\n",
       "    <tr>\n",
       "      <th>4</th>\n",
       "      <td>23.0</td>\n",
       "      <td>27.0</td>\n",
       "      <td>4.0</td>\n",
       "      <td>9.0</td>\n",
       "      <td>-0.014870</td>\n",
       "      <td>-0.033161</td>\n",
       "      <td>1.0</td>\n",
       "    </tr>\n",
       "  </tbody>\n",
       "</table>\n",
       "</div>"
      ],
      "text/plain": [
       "   hours  days  months  years  longitude_distance  latitude_distance  \\\n",
       "0   20.0  10.0     9.0   13.0            0.049057           0.003063   \n",
       "1   20.0  22.0    11.0    9.0            0.003464           0.007088   \n",
       "2   21.0   4.0    12.0    9.0            0.003151           0.007584   \n",
       "3   22.0   6.0     5.0   15.0            0.007141           0.011543   \n",
       "4   23.0  27.0     4.0    9.0           -0.014870          -0.033161   \n",
       "\n",
       "   passenger_count  \n",
       "0              1.0  \n",
       "1              1.0  \n",
       "2              1.0  \n",
       "3              1.0  \n",
       "4              1.0  "
      ]
     },
     "execution_count": 7,
     "metadata": {},
     "output_type": "execute_result"
    }
   ],
   "source": [
    "# extract time columns, long & lat, # riders (all floats)\n",
    "query = '''\n",
    "        select \n",
    "            cast(hour(key) as float) hours, \n",
    "            cast(dayofmonth(key) as float) days, \n",
    "            cast(month(key) as float) months, \n",
    "            cast(year(key) - 2000 as float) years,  \n",
    "            dropoff_longitude - pickup_longitude as longitude_distance, \n",
    "            dropoff_latitude - pickup_latitude as latitude_distance, \n",
    "            passenger_count \n",
    "        from \n",
    "            train_taxi\n",
    "            '''\n",
    "\n",
    "# run query on table (returns cuDF DataFrame)\n",
    "X_train = bc.sql(query)\n",
    "\n",
    "# fill any null values \n",
    "X_train['longitude_distance'] = X_train['longitude_distance'].fillna(0)\n",
    "X_train['latitude_distance'] = X_train['latitude_distance'].fillna(0)\n",
    "X_train['passenger_count'] = X_train['passenger_count'].fillna(0)\n",
    "\n",
    "# how's it look? \n",
    "X_train.head()"
   ]
  },
  {
   "cell_type": "code",
   "execution_count": 8,
   "metadata": {},
   "outputs": [
    {
     "data": {
      "text/html": [
       "<div>\n",
       "<style scoped>\n",
       "    .dataframe tbody tr th:only-of-type {\n",
       "        vertical-align: middle;\n",
       "    }\n",
       "\n",
       "    .dataframe tbody tr th {\n",
       "        vertical-align: top;\n",
       "    }\n",
       "\n",
       "    .dataframe thead th {\n",
       "        text-align: right;\n",
       "    }\n",
       "</style>\n",
       "<table border=\"1\" class=\"dataframe\">\n",
       "  <thead>\n",
       "    <tr style=\"text-align: right;\">\n",
       "      <th></th>\n",
       "      <th>fare_amount</th>\n",
       "    </tr>\n",
       "  </thead>\n",
       "  <tbody>\n",
       "    <tr>\n",
       "      <th>0</th>\n",
       "      <td>17.0</td>\n",
       "    </tr>\n",
       "    <tr>\n",
       "      <th>1</th>\n",
       "      <td>3.3</td>\n",
       "    </tr>\n",
       "    <tr>\n",
       "      <th>2</th>\n",
       "      <td>4.1</td>\n",
       "    </tr>\n",
       "    <tr>\n",
       "      <th>3</th>\n",
       "      <td>6.0</td>\n",
       "    </tr>\n",
       "    <tr>\n",
       "      <th>4</th>\n",
       "      <td>8.9</td>\n",
       "    </tr>\n",
       "  </tbody>\n",
       "</table>\n",
       "</div>"
      ],
      "text/plain": [
       "   fare_amount\n",
       "0         17.0\n",
       "1          3.3\n",
       "2          4.1\n",
       "3          6.0\n",
       "4          8.9"
      ]
     },
     "execution_count": 8,
     "metadata": {},
     "output_type": "execute_result"
    }
   ],
   "source": [
    "# query dependent variable y\n",
    "y_train = bc.sql('SELECT fare_amount FROM train_taxi')\n",
    "# how's it look?\n",
    "y_train.head()"
   ]
  },
  {
   "cell_type": "markdown",
   "metadata": {},
   "source": [
    "## Linear Regression\n",
    "To learn more about the cuML's LinearRegression model, check out [Beginner’s Guide to Linear Regression in Google Colab with cuML](https://medium.com/future-vision/beginners-guide-to-linear-regression-in-python-with-cuml-30e2709c761?source=friends_link&sk=1da35920b9e2ffea59d5cb3c998bfeae).\n",
    "\n",
    "### LR: Train Model"
   ]
  },
  {
   "cell_type": "code",
   "execution_count": 9,
   "metadata": {
    "colab": {
     "base_uri": "https://localhost:8080/",
     "height": 531
    },
    "colab_type": "code",
    "id": "tVUZvT9TB6Ii",
    "outputId": "d61c0249-47ee-40b8-a72f-9d62383f23dd"
   },
   "outputs": [
    {
     "name": "stdout",
     "output_type": "stream",
     "text": [
      "Coefficients:\n",
      "0   -0.027069\n",
      "1    0.003295\n",
      "2    0.107198\n",
      "3    0.636705\n",
      "4    0.000932\n",
      "5   -0.000494\n",
      "6    0.092028\n",
      "dtype: float32\n",
      "\n",
      "Y intercept:\n",
      "3.3608126640319824\n",
      "\n",
      "CPU times: user 892 ms, sys: 412 ms, total: 1.3 s\n",
      "Wall time: 2.25 s\n"
     ]
    }
   ],
   "source": [
    "%%time\n",
    "# call & create cuML model\n",
    "lr = LinearRegression(fit_intercept=True, normalize=False, algorithm=\"eig\")\n",
    "\n",
    "# train Linear Regression model \n",
    "reg = lr.fit(X_train, y_train)\n",
    "\n",
    "# display results\n",
    "print(f\"Coefficients:\\n{reg.coef_}\\n\")\n",
    "print(f\"Y intercept:\\n{reg.intercept_}\\n\")"
   ]
  },
  {
   "cell_type": "markdown",
   "metadata": {
    "colab_type": "text",
    "id": "pHtni9xcl-ht"
   },
   "source": [
    "### LR: Use Model to Predict Future Taxi Fares \n",
    "\n",
    "#### Download Test Data\n",
    "The cell below will check to see if you've already got the Test data, and, if you don't, will download it for you."
   ]
  },
  {
   "cell_type": "code",
   "execution_count": 10,
   "metadata": {},
   "outputs": [
    {
     "name": "stdout",
     "output_type": "stream",
     "text": [
      "--2020-01-23 04:49:37--  https://blazingsql-demos.s3-us-west-1.amazonaws.com/test.csv\n",
      "Resolving blazingsql-demos.s3-us-west-1.amazonaws.com (blazingsql-demos.s3-us-west-1.amazonaws.com)... 52.219.116.137\n",
      "Connecting to blazingsql-demos.s3-us-west-1.amazonaws.com (blazingsql-demos.s3-us-west-1.amazonaws.com)|52.219.116.137|:443... connected.\n",
      "HTTP request sent, awaiting response... 200 OK\n",
      "Length: 982916 (960K) [text/csv]\n",
      "Saving to: ‘data/test.csv’\n",
      "\n",
      "test.csv            100%[===================>] 959.88K  2.22MB/s    in 0.4s    \n",
      "\n",
      "2020-01-23 04:49:38 (2.22 MB/s) - ‘data/test.csv’ saved [982916/982916]\n",
      "\n",
      "CPU times: user 8.09 ms, sys: 26.9 ms, total: 35 ms\n",
      "Wall time: 902 ms\n"
     ]
    }
   ],
   "source": [
    "%%time\n",
    "# do we have Test taxi file?\n",
    "if not os.path.isfile('/data/test.csv'):\n",
    "    !wget -P data https://blazingsql-demos.s3-us-west-1.amazonaws.com/test.csv\n",
    "else:\n",
    "    print('test data already downloaded')"
   ]
  },
  {
   "cell_type": "code",
   "execution_count": 11,
   "metadata": {
    "colab": {},
    "colab_type": "code",
    "id": "yRM5PosNiuGh"
   },
   "outputs": [
    {
     "name": "stdout",
     "output_type": "stream",
     "text": [
      "CPU times: user 1.68 ms, sys: 5.19 ms, total: 6.87 ms\n",
      "Wall time: 5.42 ms\n"
     ]
    },
    {
     "data": {
      "text/plain": [
       "<pyblazing.apiv2.context.BlazingTable at 0x7fc0b95790b8>"
      ]
     },
     "execution_count": 11,
     "metadata": {},
     "output_type": "execute_result"
    }
   ],
   "source": [
    "%%time\n",
    "# set column names and types\n",
    "col_names = ['key', 'fare_amount', 'pickup_longitude', 'pickup_latitude', \n",
    "                'dropoff_longitude', 'dropoff_latitude', 'passenger_count']\n",
    "col_types = ['date64', 'float32', 'float32', 'float32', 'float32', 'float32', 'float32']\n",
    "\n",
    "# tag path to test data\n",
    "test_path = cwd + '/data/test.csv'\n",
    "\n",
    "# create test table directly from CSV\n",
    "bc.create_table('test_taxi', test_path, names=col_names, dtype=col_types)"
   ]
  },
  {
   "cell_type": "code",
   "execution_count": 12,
   "metadata": {
    "colab": {},
    "colab_type": "code",
    "id": "g4I8AJ51dpW5"
   },
   "outputs": [
    {
     "name": "stdout",
     "output_type": "stream",
     "text": [
      "CPU times: user 61.8 ms, sys: 1.41 ms, total: 63.2 ms\n",
      "Wall time: 36.9 ms\n"
     ]
    },
    {
     "data": {
      "text/html": [
       "<div>\n",
       "<style scoped>\n",
       "    .dataframe tbody tr th:only-of-type {\n",
       "        vertical-align: middle;\n",
       "    }\n",
       "\n",
       "    .dataframe tbody tr th {\n",
       "        vertical-align: top;\n",
       "    }\n",
       "\n",
       "    .dataframe thead th {\n",
       "        text-align: right;\n",
       "    }\n",
       "</style>\n",
       "<table border=\"1\" class=\"dataframe\">\n",
       "  <thead>\n",
       "    <tr style=\"text-align: right;\">\n",
       "      <th></th>\n",
       "      <th>hours</th>\n",
       "      <th>days</th>\n",
       "      <th>months</th>\n",
       "      <th>years</th>\n",
       "      <th>longitude_distance</th>\n",
       "      <th>latitude_distance</th>\n",
       "      <th>passenger_count</th>\n",
       "    </tr>\n",
       "  </thead>\n",
       "  <tbody>\n",
       "    <tr>\n",
       "      <th>0</th>\n",
       "      <td>13.0</td>\n",
       "      <td>27.0</td>\n",
       "      <td>1.0</td>\n",
       "      <td>15.0</td>\n",
       "      <td>-0.008110</td>\n",
       "      <td>-0.019970</td>\n",
       "      <td>1.0</td>\n",
       "    </tr>\n",
       "    <tr>\n",
       "      <th>1</th>\n",
       "      <td>13.0</td>\n",
       "      <td>27.0</td>\n",
       "      <td>1.0</td>\n",
       "      <td>15.0</td>\n",
       "      <td>-0.012024</td>\n",
       "      <td>0.019814</td>\n",
       "      <td>1.0</td>\n",
       "    </tr>\n",
       "    <tr>\n",
       "      <th>2</th>\n",
       "      <td>11.0</td>\n",
       "      <td>8.0</td>\n",
       "      <td>10.0</td>\n",
       "      <td>11.0</td>\n",
       "      <td>0.002869</td>\n",
       "      <td>-0.005119</td>\n",
       "      <td>1.0</td>\n",
       "    </tr>\n",
       "    <tr>\n",
       "      <th>3</th>\n",
       "      <td>21.0</td>\n",
       "      <td>1.0</td>\n",
       "      <td>12.0</td>\n",
       "      <td>12.0</td>\n",
       "      <td>-0.009277</td>\n",
       "      <td>-0.016178</td>\n",
       "      <td>1.0</td>\n",
       "    </tr>\n",
       "    <tr>\n",
       "      <th>4</th>\n",
       "      <td>21.0</td>\n",
       "      <td>1.0</td>\n",
       "      <td>12.0</td>\n",
       "      <td>12.0</td>\n",
       "      <td>-0.022537</td>\n",
       "      <td>-0.045345</td>\n",
       "      <td>1.0</td>\n",
       "    </tr>\n",
       "  </tbody>\n",
       "</table>\n",
       "</div>"
      ],
      "text/plain": [
       "   hours  days  months  years  longitude_distance  latitude_distance  \\\n",
       "0   13.0  27.0     1.0   15.0           -0.008110          -0.019970   \n",
       "1   13.0  27.0     1.0   15.0           -0.012024           0.019814   \n",
       "2   11.0   8.0    10.0   11.0            0.002869          -0.005119   \n",
       "3   21.0   1.0    12.0   12.0           -0.009277          -0.016178   \n",
       "4   21.0   1.0    12.0   12.0           -0.022537          -0.045345   \n",
       "\n",
       "   passenger_count  \n",
       "0              1.0  \n",
       "1              1.0  \n",
       "2              1.0  \n",
       "3              1.0  \n",
       "4              1.0  "
      ]
     },
     "execution_count": 12,
     "metadata": {},
     "output_type": "execute_result"
    }
   ],
   "source": [
    "%%time\n",
    "# extract time columns, long & lat, # riders (all floats)\n",
    "query = '''\n",
    "        select \n",
    "            cast(hour(key) as float) hours, \n",
    "            cast(dayofmonth(key) as float) days, \n",
    "            cast(month(key) as float) months, \n",
    "            cast(year(key) - 2000 as float) years,  \n",
    "            dropoff_longitude - pickup_longitude as longitude_distance, \n",
    "            dropoff_latitude - pickup_latitude as latitude_distance, \n",
    "            passenger_count\n",
    "        from \n",
    "            test_taxi\n",
    "            '''\n",
    "\n",
    "# run query on table (returns cuDF DataFrame)\n",
    "X_test = bc.sql(query)\n",
    "\n",
    "# fill null values \n",
    "X_test['longitude_distance'] = X_test['longitude_distance'].fillna(0)\n",
    "X_test['latitude_distance'] = X_test['latitude_distance'].fillna(0)\n",
    "X_test['passenger_count'] = X_test['passenger_count'].fillna(0)\n",
    "\n",
    "# how's it look? \n",
    "X_test.head()"
   ]
  },
  {
   "cell_type": "code",
   "execution_count": 13,
   "metadata": {
    "colab": {},
    "colab_type": "code",
    "id": "zCft6P5QkepN"
   },
   "outputs": [
    {
     "data": {
      "text/plain": [
       "0       12.847689\n",
       "1       12.847666\n",
       "2       11.257179\n",
       "3       11.814514\n",
       "4       11.814518\n",
       "5       11.814510\n",
       "6       11.223505\n",
       "7       11.223265\n",
       "8       11.223516\n",
       "9       12.234369\n",
       "10      12.234383\n",
       "11      12.234411\n",
       "12       9.695659\n",
       "13       9.695644\n",
       "14      11.467134\n",
       "15      11.467148\n",
       "16      11.460003\n",
       "17      11.460035\n",
       "18      11.460011\n",
       "19      11.460001\n",
       "20      13.480091\n",
       "21      12.704147\n",
       "22      12.704123\n",
       "23      12.704136\n",
       "24      12.704132\n",
       "25      12.704119\n",
       "26      12.704292\n",
       "27      12.704145\n",
       "28      12.704140\n",
       "29      12.704115\n",
       "          ...    \n",
       "9884    12.641771\n",
       "9885    12.641808\n",
       "9886    12.641790\n",
       "9887    12.641766\n",
       "9888    12.641785\n",
       "9889    12.641790\n",
       "9890    12.641781\n",
       "9891    12.641809\n",
       "9892    12.641788\n",
       "9893    12.641804\n",
       "9894    12.641783\n",
       "9895    12.641851\n",
       "9896    12.641764\n",
       "9897    13.446104\n",
       "9898    13.204254\n",
       "9899    14.129877\n",
       "9900    13.363419\n",
       "9901    13.627535\n",
       "9902    14.162102\n",
       "9903    13.824402\n",
       "9904    13.664045\n",
       "9905    13.252615\n",
       "9906    14.129101\n",
       "9907    13.444111\n",
       "9908    13.710255\n",
       "9909    13.707689\n",
       "9910    13.150122\n",
       "9911    13.413801\n",
       "9912    13.645849\n",
       "9913    13.251087\n",
       "Length: 9914, dtype: float32"
      ]
     },
     "execution_count": 13,
     "metadata": {},
     "output_type": "execute_result"
    }
   ],
   "source": [
    "# predict fares \n",
    "predictions = lr.predict(X_test)\n",
    "\n",
    "# display predictions\n",
    "predictions"
   ]
  },
  {
   "cell_type": "code",
   "execution_count": 14,
   "metadata": {
    "colab": {},
    "colab_type": "code",
    "id": "GdjUjJ42l2BI"
   },
   "outputs": [
    {
     "data": {
      "text/html": [
       "<div>\n",
       "<style scoped>\n",
       "    .dataframe tbody tr th:only-of-type {\n",
       "        vertical-align: middle;\n",
       "    }\n",
       "\n",
       "    .dataframe tbody tr th {\n",
       "        vertical-align: top;\n",
       "    }\n",
       "\n",
       "    .dataframe thead th {\n",
       "        text-align: right;\n",
       "    }\n",
       "</style>\n",
       "<table border=\"1\" class=\"dataframe\">\n",
       "  <thead>\n",
       "    <tr style=\"text-align: right;\">\n",
       "      <th></th>\n",
       "      <th>hours</th>\n",
       "      <th>days</th>\n",
       "      <th>months</th>\n",
       "      <th>years</th>\n",
       "      <th>longitude_distance</th>\n",
       "      <th>latitude_distance</th>\n",
       "      <th>passenger_count</th>\n",
       "      <th>predicted_fare</th>\n",
       "    </tr>\n",
       "  </thead>\n",
       "  <tbody>\n",
       "    <tr>\n",
       "      <th>0</th>\n",
       "      <td>13.0</td>\n",
       "      <td>27.0</td>\n",
       "      <td>1.0</td>\n",
       "      <td>15.0</td>\n",
       "      <td>-0.008110</td>\n",
       "      <td>-0.019970</td>\n",
       "      <td>1.0</td>\n",
       "      <td>12.847689</td>\n",
       "    </tr>\n",
       "    <tr>\n",
       "      <th>1</th>\n",
       "      <td>13.0</td>\n",
       "      <td>27.0</td>\n",
       "      <td>1.0</td>\n",
       "      <td>15.0</td>\n",
       "      <td>-0.012024</td>\n",
       "      <td>0.019814</td>\n",
       "      <td>1.0</td>\n",
       "      <td>12.847666</td>\n",
       "    </tr>\n",
       "    <tr>\n",
       "      <th>2</th>\n",
       "      <td>11.0</td>\n",
       "      <td>8.0</td>\n",
       "      <td>10.0</td>\n",
       "      <td>11.0</td>\n",
       "      <td>0.002869</td>\n",
       "      <td>-0.005119</td>\n",
       "      <td>1.0</td>\n",
       "      <td>11.257179</td>\n",
       "    </tr>\n",
       "    <tr>\n",
       "      <th>3</th>\n",
       "      <td>21.0</td>\n",
       "      <td>1.0</td>\n",
       "      <td>12.0</td>\n",
       "      <td>12.0</td>\n",
       "      <td>-0.009277</td>\n",
       "      <td>-0.016178</td>\n",
       "      <td>1.0</td>\n",
       "      <td>11.814514</td>\n",
       "    </tr>\n",
       "    <tr>\n",
       "      <th>4</th>\n",
       "      <td>21.0</td>\n",
       "      <td>1.0</td>\n",
       "      <td>12.0</td>\n",
       "      <td>12.0</td>\n",
       "      <td>-0.022537</td>\n",
       "      <td>-0.045345</td>\n",
       "      <td>1.0</td>\n",
       "      <td>11.814518</td>\n",
       "    </tr>\n",
       "  </tbody>\n",
       "</table>\n",
       "</div>"
      ],
      "text/plain": [
       "   hours  days  months  years  longitude_distance  latitude_distance  \\\n",
       "0   13.0  27.0     1.0   15.0           -0.008110          -0.019970   \n",
       "1   13.0  27.0     1.0   15.0           -0.012024           0.019814   \n",
       "2   11.0   8.0    10.0   11.0            0.002869          -0.005119   \n",
       "3   21.0   1.0    12.0   12.0           -0.009277          -0.016178   \n",
       "4   21.0   1.0    12.0   12.0           -0.022537          -0.045345   \n",
       "\n",
       "   passenger_count  predicted_fare  \n",
       "0              1.0       12.847689  \n",
       "1              1.0       12.847666  \n",
       "2              1.0       11.257179  \n",
       "3              1.0       11.814514  \n",
       "4              1.0       11.814518  "
      ]
     },
     "execution_count": 14,
     "metadata": {},
     "output_type": "execute_result"
    }
   ],
   "source": [
    "# add predictions to test dataframe\n",
    "X_test['predicted_fare'] = predictions\n",
    "\n",
    "# how's that look?\n",
    "X_test.head()"
   ]
  }
 ],
 "metadata": {
  "accelerator": "GPU",
  "colab": {
   "collapsed_sections": [],
   "name": "BlazingSQL_cuML_Taxi_Fare_Prediction.ipynb",
   "provenance": []
  },
  "kernelspec": {
   "display_name": "Python 3",
   "language": "python",
   "name": "python3"
  },
  "language_info": {
   "codemirror_mode": {
    "name": "ipython",
    "version": 3
   },
   "file_extension": ".py",
   "mimetype": "text/x-python",
   "name": "python",
   "nbconvert_exporter": "python",
   "pygments_lexer": "ipython3",
   "version": "3.6.7"
  }
 },
 "nbformat": 4,
 "nbformat_minor": 4
}
