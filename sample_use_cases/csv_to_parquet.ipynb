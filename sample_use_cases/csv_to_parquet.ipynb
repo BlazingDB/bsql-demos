{
 "cells": [
  {
   "cell_type": "markdown",
   "metadata": {},
   "source": [
    "# CSV to Parquet"
   ]
  },
  {
   "cell_type": "markdown",
   "metadata": {},
   "source": [
    "In this demo we'll walk through querying a CSV file from an AWS S3 bucket and saving the results locally as a Parquet file."
   ]
  },
  {
   "cell_type": "markdown",
   "metadata": {},
   "source": [
    "Identify the Dask Client (`client`) of your local GPUs, and pass it to BlazingContext (`bc`) upon initialization to activate distributed query execution with BlazingSQL."
   ]
  },
  {
   "cell_type": "code",
   "execution_count": 1,
   "metadata": {},
   "outputs": [
    {
     "name": "stdout",
     "output_type": "stream",
     "text": [
      "BlazingContext ready\n"
     ]
    }
   ],
   "source": [
    "from dask_cuda import LocalCUDACluster\n",
    "cluster = LocalCUDACluster()\n",
    "\n",
    "from dask.distributed import Client\n",
    "client = Client(cluster)\n",
    "\n",
    "from blazingsql import BlazingContext\n",
    "bc = BlazingContext(dask_client=client, network_interface='lo')"
   ]
  },
  {
   "cell_type": "markdown",
   "metadata": {},
   "source": [
    "Register a public AWS S3 bucket and create a table (`taxi`) from it."
   ]
  },
  {
   "cell_type": "code",
   "execution_count": 2,
   "metadata": {},
   "outputs": [
    {
     "data": {
      "text/plain": [
       "<pyblazing.apiv2.context.BlazingTable at 0x7f462dacf750>"
      ]
     },
     "execution_count": 2,
     "metadata": {},
     "output_type": "execute_result"
    }
   ],
   "source": [
    "bc.s3('blazingsql-colab', bucket_name='blazingsql-colab')\n",
    "\n",
    "col_names = ['key', 'fare', 'pickup_x', 'pickup_y', 'dropoff_x', 'dropoff_y', 'passenger_count']\n",
    "bc.create_table('taxi', 's3://blazingsql-colab/taxi_data/taxi_00.csv', names=col_names)"
   ]
  },
  {
   "cell_type": "markdown",
   "metadata": {},
   "source": [
    "Tag the file path to the local directory where results will be saved as `data_dir`."
   ]
  },
  {
   "cell_type": "code",
   "execution_count": 3,
   "metadata": {},
   "outputs": [],
   "source": [
    "from os import getcwd\n",
    "data_dir = getcwd().replace('/sample_use_cases', '/data')"
   ]
  },
  {
   "cell_type": "markdown",
   "metadata": {},
   "source": [
    "<!-- Query the table and write the results directly `.to_parquet()`. -->\n",
    "\n",
    "As BlazingSQL returns a distributed query's results as a dask_cudf.DataFrame, we can call write those results directly [.to_parquet()](https://docs.dask.org/en/latest/dataframe-api.html#dask.dataframe.to_parquet)."
   ]
  },
  {
   "cell_type": "code",
   "execution_count": 4,
   "metadata": {},
   "outputs": [],
   "source": [
    "bc.sql('SELECT * FROM taxi').to_parquet(f'{data_dir}/yellow_cab')"
   ]
  },
  {
   "cell_type": "markdown",
   "metadata": {},
   "source": [
    "Create a table from that newly written file, and run a simple query to see how it looks by `.compute()`ing to a cudf.DataFrame for display."
   ]
  },
  {
   "cell_type": "code",
   "execution_count": 5,
   "metadata": {},
   "outputs": [
    {
     "data": {
      "text/html": [
       "<div>\n",
       "<style scoped>\n",
       "    .dataframe tbody tr th:only-of-type {\n",
       "        vertical-align: middle;\n",
       "    }\n",
       "\n",
       "    .dataframe tbody tr th {\n",
       "        vertical-align: top;\n",
       "    }\n",
       "\n",
       "    .dataframe thead th {\n",
       "        text-align: right;\n",
       "    }\n",
       "</style>\n",
       "<table border=\"1\" class=\"dataframe\">\n",
       "  <thead>\n",
       "    <tr style=\"text-align: right;\">\n",
       "      <th></th>\n",
       "      <th>key</th>\n",
       "      <th>fare</th>\n",
       "      <th>pickup_x</th>\n",
       "      <th>pickup_y</th>\n",
       "      <th>dropoff_x</th>\n",
       "      <th>dropoff_y</th>\n",
       "      <th>passenger_count</th>\n",
       "      <th>index</th>\n",
       "    </tr>\n",
       "  </thead>\n",
       "  <tbody>\n",
       "    <tr>\n",
       "      <th>0</th>\n",
       "      <td>2012-02-02 22:30:19.0000002</td>\n",
       "      <td>8.9</td>\n",
       "      <td>-73.988703</td>\n",
       "      <td>40.758803</td>\n",
       "      <td>-73.986517</td>\n",
       "      <td>40.737205</td>\n",
       "      <td>1</td>\n",
       "      <td>0</td>\n",
       "    </tr>\n",
       "    <tr>\n",
       "      <th>1</th>\n",
       "      <td>2014-09-20 07:19:24.0000001</td>\n",
       "      <td>4.0</td>\n",
       "      <td>-73.990208</td>\n",
       "      <td>40.746703</td>\n",
       "      <td>-73.994729</td>\n",
       "      <td>40.750512</td>\n",
       "      <td>1</td>\n",
       "      <td>1</td>\n",
       "    </tr>\n",
       "    <tr>\n",
       "      <th>2</th>\n",
       "      <td>2013-02-23 07:18:05.0000001</td>\n",
       "      <td>5.5</td>\n",
       "      <td>-74.016757</td>\n",
       "      <td>40.709438</td>\n",
       "      <td>-74.009</td>\n",
       "      <td>40.719496</td>\n",
       "      <td>3</td>\n",
       "      <td>2</td>\n",
       "    </tr>\n",
       "    <tr>\n",
       "      <th>3</th>\n",
       "      <td>2015-04-18 23:49:27.0000009</td>\n",
       "      <td>13.5</td>\n",
       "      <td>-74.002708</td>\n",
       "      <td>40.733730</td>\n",
       "      <td>-73.98609924</td>\n",
       "      <td>40.73477554</td>\n",
       "      <td>1</td>\n",
       "      <td>3</td>\n",
       "    </tr>\n",
       "    <tr>\n",
       "      <th>4</th>\n",
       "      <td>2010-03-04 08:15:59.0000001</td>\n",
       "      <td>10.5</td>\n",
       "      <td>-73.988356</td>\n",
       "      <td>40.737665</td>\n",
       "      <td>-74.012459</td>\n",
       "      <td>40.713934</td>\n",
       "      <td>1</td>\n",
       "      <td>4</td>\n",
       "    </tr>\n",
       "    <tr>\n",
       "      <th>...</th>\n",
       "      <td>...</td>\n",
       "      <td>...</td>\n",
       "      <td>...</td>\n",
       "      <td>...</td>\n",
       "      <td>...</td>\n",
       "      <td>...</td>\n",
       "      <td>...</td>\n",
       "      <td>...</td>\n",
       "    </tr>\n",
       "    <tr>\n",
       "      <th>4999995</th>\n",
       "      <td>2011-02-24 16:06:26.0000001</td>\n",
       "      <td>6.9</td>\n",
       "      <td>-73.966542</td>\n",
       "      <td>40.804975</td>\n",
       "      <td>-73.949043</td>\n",
       "      <td>40.804227</td>\n",
       "      <td>2</td>\n",
       "      <td>4999995</td>\n",
       "    </tr>\n",
       "    <tr>\n",
       "      <th>4999996</th>\n",
       "      <td>2009-09-22 19:20:22.0000009</td>\n",
       "      <td>9.7</td>\n",
       "      <td>-73.980055</td>\n",
       "      <td>40.752535</td>\n",
       "      <td>-74.006443</td>\n",
       "      <td>40.739613</td>\n",
       "      <td>1</td>\n",
       "      <td>4999996</td>\n",
       "    </tr>\n",
       "    <tr>\n",
       "      <th>4999997</th>\n",
       "      <td>2012-04-19 02:17:32.0000001</td>\n",
       "      <td>14.1</td>\n",
       "      <td>-73.998508</td>\n",
       "      <td>40.745305</td>\n",
       "      <td>-73.953184</td>\n",
       "      <td>40.799361</td>\n",
       "      <td>2</td>\n",
       "      <td>4999997</td>\n",
       "    </tr>\n",
       "    <tr>\n",
       "      <th>4999998</th>\n",
       "      <td>2012-06-08 11:09:47.0000006</td>\n",
       "      <td>3.3</td>\n",
       "      <td>-73.953630</td>\n",
       "      <td>40.778797</td>\n",
       "      <td>-73.946068</td>\n",
       "      <td>40.775552</td>\n",
       "      <td>1</td>\n",
       "      <td>4999998</td>\n",
       "    </tr>\n",
       "    <tr>\n",
       "      <th>4999999</th>\n",
       "      <td>2009-06-21 11:07:00.00000036</td>\n",
       "      <td>6.5</td>\n",
       "      <td>-73.981578</td>\n",
       "      <td>40.772575</td>\n",
       "      <td>-73.963333</td>\n",
       "      <td>40.762132</td>\n",
       "      <td>1</td>\n",
       "      <td>4999999</td>\n",
       "    </tr>\n",
       "  </tbody>\n",
       "</table>\n",
       "<p>5000000 rows × 8 columns</p>\n",
       "</div>"
      ],
      "text/plain": [
       "                                  key  fare   pickup_x   pickup_y  \\\n",
       "0         2012-02-02 22:30:19.0000002   8.9 -73.988703  40.758803   \n",
       "1         2014-09-20 07:19:24.0000001   4.0 -73.990208  40.746703   \n",
       "2         2013-02-23 07:18:05.0000001   5.5 -74.016757  40.709438   \n",
       "3         2015-04-18 23:49:27.0000009  13.5 -74.002708  40.733730   \n",
       "4         2010-03-04 08:15:59.0000001  10.5 -73.988356  40.737665   \n",
       "...                               ...   ...        ...        ...   \n",
       "4999995   2011-02-24 16:06:26.0000001   6.9 -73.966542  40.804975   \n",
       "4999996   2009-09-22 19:20:22.0000009   9.7 -73.980055  40.752535   \n",
       "4999997   2012-04-19 02:17:32.0000001  14.1 -73.998508  40.745305   \n",
       "4999998   2012-06-08 11:09:47.0000006   3.3 -73.953630  40.778797   \n",
       "4999999  2009-06-21 11:07:00.00000036   6.5 -73.981578  40.772575   \n",
       "\n",
       "            dropoff_x    dropoff_y  passenger_count    index  \n",
       "0          -73.986517    40.737205                1        0  \n",
       "1          -73.994729    40.750512                1        1  \n",
       "2             -74.009    40.719496                3        2  \n",
       "3        -73.98609924  40.73477554                1        3  \n",
       "4          -74.012459    40.713934                1        4  \n",
       "...               ...          ...              ...      ...  \n",
       "4999995    -73.949043    40.804227                2  4999995  \n",
       "4999996    -74.006443    40.739613                1  4999996  \n",
       "4999997    -73.953184    40.799361                2  4999997  \n",
       "4999998    -73.946068    40.775552                1  4999998  \n",
       "4999999    -73.963333    40.762132                1  4999999  \n",
       "\n",
       "[5000000 rows x 8 columns]"
      ]
     },
     "execution_count": 5,
     "metadata": {},
     "output_type": "execute_result"
    }
   ],
   "source": [
    "bc.create_table('parquet_taxi', f'{data_dir}/yellow_cab/part.0.parquet')\n",
    "\n",
    "bc.sql('select * from parquet_taxi').compute()"
   ]
  },
  {
   "cell_type": "markdown",
   "metadata": {},
   "source": [
    "You can find the Python script version of this Notebook at [/python_scripts/csv_to_parquet.py](python_scripts/csv_to_parquet.py)."
   ]
  }
 ],
 "metadata": {
  "kernelspec": {
   "display_name": "RAPIDS Nightly",
   "language": "python",
   "name": "python3"
  },
  "language_info": {
   "codemirror_mode": {
    "name": "ipython",
    "version": 3
   },
   "file_extension": ".py",
   "mimetype": "text/x-python",
   "name": "python",
   "nbconvert_exporter": "python",
   "pygments_lexer": "ipython3",
   "version": "3.7.6"
  }
 },
 "nbformat": 4,
 "nbformat_minor": 4
}
